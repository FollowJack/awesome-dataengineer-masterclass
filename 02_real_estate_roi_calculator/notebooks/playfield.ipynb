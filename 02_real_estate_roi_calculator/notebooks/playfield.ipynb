{
 "cells": [
  {
   "cell_type": "markdown",
   "metadata": {},
   "source": [
    "# ETL\n",
    "This project extract real estate properties from an API, transform and loads them into a CSV.\n",
    "\n",
    "## Extract \n",
    "Extract all properties from Immo API. Call API.\n",
    "\n",
    "## Transform\n",
    "Transform address\n",
    " \n",
    "## Load\n",
    "Load into S3 Bucket."
   ]
  },
  {
   "cell_type": "code",
   "execution_count": 1,
   "metadata": {},
   "outputs": [],
   "source": [
    "# Importing modules\n",
    "import pandas as pd\n",
    "\n",
    "pd.set_option(\"display.max_rows\", None)\n",
    "pd.set_option(\"display.max_columns\", None)\n",
    "pd.options.mode.chained_assignment = None"
   ]
  },
  {
   "cell_type": "code",
   "execution_count": 2,
   "metadata": {},
   "outputs": [],
   "source": [
    "DEBUG = True"
   ]
  },
  {
   "cell_type": "code",
   "execution_count": 3,
   "metadata": {},
   "outputs": [],
   "source": [
    "import sys\n",
    "sys.path.insert(1, '../pipeline')\n",
    "sys.path.insert(2, '../data')\n",
    "\n",
    "from etl import ETL"
   ]
  },
  {
   "cell_type": "code",
   "execution_count": 4,
   "metadata": {},
   "outputs": [],
   "source": [
    "# etl = ETL()\n",
    "# etl.execute(None)"
   ]
  },
  {
   "cell_type": "markdown",
   "metadata": {},
   "source": []
  },
  {
   "cell_type": "code",
   "execution_count": 100,
   "metadata": {},
   "outputs": [],
   "source": []
  },
  {
   "cell_type": "code",
   "execution_count": 106,
   "metadata": {},
   "outputs": [],
   "source": []
  },
  {
   "cell_type": "code",
   "execution_count": 102,
   "metadata": {},
   "outputs": [],
   "source": []
  },
  {
   "cell_type": "code",
   "execution_count": 103,
   "metadata": {},
   "outputs": [],
   "source": []
  },
  {
   "cell_type": "code",
   "execution_count": 104,
   "metadata": {},
   "outputs": [],
   "source": []
  },
  {
   "cell_type": "code",
   "execution_count": 5,
   "metadata": {
    "tags": []
   },
   "outputs": [],
   "source": [
    "#"
   ]
  },
  {
   "cell_type": "markdown",
   "metadata": {},
   "source": [
    "## Open file and clean data"
   ]
  },
  {
   "cell_type": "code",
   "execution_count": 6,
   "metadata": {},
   "outputs": [],
   "source": [
    "import json"
   ]
  },
  {
   "cell_type": "code",
   "execution_count": 7,
   "metadata": {},
   "outputs": [],
   "source": [
    "JSON_PATH = \"../data/immo.json\""
   ]
  },
  {
   "cell_type": "code",
   "execution_count": 8,
   "metadata": {},
   "outputs": [
    {
     "output_type": "execute_result",
     "data": {
      "text/plain": [
       "                                 id  \\\n",
       "0  a6403543c394e8f9dc0607d2d0b4d296   \n",
       "1  a0fa2a2e9a03e1e51183319d389b9b8d   \n",
       "2  f36467918129e396a5997571c6765a65   \n",
       "3  936c8b6e4a152063f90fb4e3dcb6ee48   \n",
       "4  4c2991448a537acb85a343f231b1e510   \n",
       "\n",
       "                                               title    zip  buyingPrice  \\\n",
       "0     Moderne 1 ZKB Dachgeschosswohnung für Singles!  67122      90000.0   \n",
       "1   Gemütliches Zuhause zum Verweilen und Entspannen  33154     282425.0   \n",
       "2  Charmante Wohnung mit Wohlfühlatmosphäre in de...  63739     540000.0   \n",
       "3  Schrobenhausen - Stadtzentrum - 2-Zimmerwohnun...  86529     367000.0   \n",
       "4  Neubauprojekt: Exklusive 4 Zimmer Wohnung mit ...  33607     348440.0   \n",
       "\n",
       "   rooms  squareMeter  comission  \\\n",
       "0    1.0        30.20       3.57   \n",
       "1    3.0        78.41        NaN   \n",
       "2    4.0       110.00        NaN   \n",
       "3    2.0        86.25        NaN   \n",
       "4    4.0        88.00        NaN   \n",
       "\n",
       "                                           platforms  rentPricePerSqm  \\\n",
       "0  [{'name': 'ebk', 'id': 'ebk9172d28a8c5c4e69b37...        10.761589   \n",
       "1  [{'name': 'ebk', 'id': 'ebk34a7c7315353548e1fa...         7.039918   \n",
       "2  [{'name': 'ebk', 'id': 'ebkd4472406fcbf00c60be...        10.054545   \n",
       "3  [{'name': 'ebk', 'id': 'ebkea9ee7c8edb3a31bbcf...        10.353623   \n",
       "4  [{'name': 'ebk', 'id': 'ebkc33ce14a0b63f301d07...         7.636364   \n",
       "\n",
       "   pricePerSqm  rentPrice  rentPriceCurrent  rentPriceCurrentPerSqm  \\\n",
       "0  2980.132450      325.0             300.0                9.933775   \n",
       "1  3601.900268      552.0               NaN                     NaN   \n",
       "2  4909.090909     1106.0               NaN                     NaN   \n",
       "3  4255.072464      893.0               NaN                     NaN   \n",
       "4  3959.545455      672.0               NaN                     NaN   \n",
       "\n",
       "                                             address               region  \\\n",
       "0  {'ISO_3166-1_alpha-2': 'DE', 'ISO_3166-1_alpha...      Rheinland-Pfalz   \n",
       "1  {'ISO_3166-1_alpha-2': 'DE', 'ISO_3166-1_alpha...  Nordrhein-Westfalen   \n",
       "2  {'ISO_3166-1_alpha-2': 'DE', 'ISO_3166-1_alpha...               Bayern   \n",
       "3  {'ISO_3166-1_alpha-2': 'DE', 'ISO_3166-1_alpha...               Bayern   \n",
       "4  {'ISO_3166-1_alpha-2': 'DE', 'ISO_3166-1_alpha...  Nordrhein-Westfalen   \n",
       "\n",
       "   foreClosure                                     locationFactor  \\\n",
       "0        False  {'population': 0, 'populationTrend': {'from': ...   \n",
       "1        False  {'population': 24956, 'populationTrend': {'fro...   \n",
       "2        False  {'population': 0, 'populationTrend': {'from': ...   \n",
       "3        False  {'population': 17226, 'populationTrend': {'fro...   \n",
       "4        False  {'population': 334195, 'populationTrend': {'fr...   \n",
       "\n",
       "   grossReturn  grossReturnCurrent  constructionYear  apartmentType  \\\n",
       "0         4.33                 4.0               NaN    ROOF_STOREY   \n",
       "1         2.35                 NaN               NaN      APARTMENT   \n",
       "2         2.46                 NaN            1890.0  TERRACED_FLAT   \n",
       "3         2.92                 NaN            2019.0      APARTMENT   \n",
       "4         2.31                 NaN               NaN      APARTMENT   \n",
       "\n",
       "                            condition  lastRefurbishment   lift  floor  \\\n",
       "0                           WELL_KEPT                NaN  False    NaN   \n",
       "1                      NO_INFORMATION                NaN  False    NaN   \n",
       "2                      NO_INFORMATION                NaN  False    NaN   \n",
       "3  FIRST_TIME_USE_AFTER_REFURBISHMENT                NaN  False    NaN   \n",
       "4                      NO_INFORMATION                NaN  False    NaN   \n",
       "\n",
       "   numberOfFloors  balcony  garden  active  rented               publishDate  \\\n",
       "0             NaN    False   False    True    True  2021-02-19T09:39:48.811Z   \n",
       "1             NaN    False   False    True   False  2021-02-19T09:39:39.691Z   \n",
       "2             NaN    False   False    True   False  2021-02-19T09:39:31.366Z   \n",
       "3             NaN     True   False    True   False  2021-02-19T09:39:18.404Z   \n",
       "4             NaN    False   False    True   False  2021-02-19T09:38:13.865Z   \n",
       "\n",
       "   privateOffer                                       aggregations  leasehold  \\\n",
       "0         False  {'location': {'name': 'Altrip', 'buyingPrice':...      False   \n",
       "1         False  {'district': {'name': 'Salzkotten', 'buyingPri...      False   \n",
       "2          True  {'location': {'buyingPrice': 385000, 'pricePer...      False   \n",
       "3         False  {'location': {'name': 'Schrobenhausen', 'buyin...      False   \n",
       "4         False  {'district': {'name': 'Mitte', 'buyingPrice': ...      False   \n",
       "\n",
       "   priceInMarket                                           oAddress  \\\n",
       "0     118.421053  {'ebk': {'street': None, 'postcode': '67122', ...   \n",
       "1     120.180851  {'ebk': {'street': None, 'postcode': '33154', ...   \n",
       "2     122.727273  {'ebk': {'street': None, 'postcode': '63739', ...   \n",
       "3      94.587629  {'ebk': {'street': None, 'postcode': '86529', ...   \n",
       "4     163.586854  {'ebk': {'street': None, 'postcode': '33607', ...   \n",
       "\n",
       "                                     originalAddress  houseMoney images  \\\n",
       "0  {'street': '', 'postcode': '67122', 'location'...         NaN     []   \n",
       "1  {'street': '', 'postcode': '33154', 'locationQ...         NaN     []   \n",
       "2  {'street': '', 'postcode': '63739', 'location'...       250.0     []   \n",
       "3  {'street': '', 'postcode': '86529', 'locationQ...         NaN     []   \n",
       "4  {'street': '', 'postcode': '33607', 'location'...         NaN     []   \n",
       "\n",
       "                                  buyingPriceHistory  priceReduced  \\\n",
       "0  [{'buyingPrice': 90000, 'platformName': 'ebk',...         False   \n",
       "1  [{'buyingPrice': 282425, 'platformName': 'ebk'...         False   \n",
       "2  [{'buyingPrice': 540000, 'platformName': 'ebk'...         False   \n",
       "3  [{'buyingPrice': 367000, 'platformName': 'ebk'...         False   \n",
       "4  [{'buyingPrice': 348440, 'platformName': 'ebk'...         False   \n",
       "\n",
       "  priceIncreased  runningTime             lastUpdatedAt  favorite  \\\n",
       "0          False            0  2021-02-19T09:39:49.562Z         0   \n",
       "1          False            0  2021-02-19T09:39:40.122Z         0   \n",
       "2          False            0  2021-02-19T09:39:31.847Z         0   \n",
       "3          False            0  2021-02-19T09:39:19.028Z         0   \n",
       "4          False            0  2021-02-19T09:38:14.885Z         0   \n",
       "\n",
       "  favoriteDate  cashFlow  ownCapitalReturn  cashFlowPerLivingUnit  hasImages  \n",
       "0         None    -70.42         -9.388889                 -70.42      False  \n",
       "1         None   -452.03        -19.206515                -452.03      False  \n",
       "2         None   -786.10        -17.468889                -786.10      False  \n",
       "3         None   -440.38        -14.399455                -440.38      False  \n",
       "4         None   -563.62        -19.410515                -563.62      False  "
      ],
      "text/html": "<div>\n<style scoped>\n    .dataframe tbody tr th:only-of-type {\n        vertical-align: middle;\n    }\n\n    .dataframe tbody tr th {\n        vertical-align: top;\n    }\n\n    .dataframe thead th {\n        text-align: right;\n    }\n</style>\n<table border=\"1\" class=\"dataframe\">\n  <thead>\n    <tr style=\"text-align: right;\">\n      <th></th>\n      <th>id</th>\n      <th>title</th>\n      <th>zip</th>\n      <th>buyingPrice</th>\n      <th>rooms</th>\n      <th>squareMeter</th>\n      <th>comission</th>\n      <th>platforms</th>\n      <th>rentPricePerSqm</th>\n      <th>pricePerSqm</th>\n      <th>rentPrice</th>\n      <th>rentPriceCurrent</th>\n      <th>rentPriceCurrentPerSqm</th>\n      <th>address</th>\n      <th>region</th>\n      <th>foreClosure</th>\n      <th>locationFactor</th>\n      <th>grossReturn</th>\n      <th>grossReturnCurrent</th>\n      <th>constructionYear</th>\n      <th>apartmentType</th>\n      <th>condition</th>\n      <th>lastRefurbishment</th>\n      <th>lift</th>\n      <th>floor</th>\n      <th>numberOfFloors</th>\n      <th>balcony</th>\n      <th>garden</th>\n      <th>active</th>\n      <th>rented</th>\n      <th>publishDate</th>\n      <th>privateOffer</th>\n      <th>aggregations</th>\n      <th>leasehold</th>\n      <th>priceInMarket</th>\n      <th>oAddress</th>\n      <th>originalAddress</th>\n      <th>houseMoney</th>\n      <th>images</th>\n      <th>buyingPriceHistory</th>\n      <th>priceReduced</th>\n      <th>priceIncreased</th>\n      <th>runningTime</th>\n      <th>lastUpdatedAt</th>\n      <th>favorite</th>\n      <th>favoriteDate</th>\n      <th>cashFlow</th>\n      <th>ownCapitalReturn</th>\n      <th>cashFlowPerLivingUnit</th>\n      <th>hasImages</th>\n    </tr>\n  </thead>\n  <tbody>\n    <tr>\n      <th>0</th>\n      <td>a6403543c394e8f9dc0607d2d0b4d296</td>\n      <td>Moderne 1 ZKB Dachgeschosswohnung für Singles!</td>\n      <td>67122</td>\n      <td>90000.0</td>\n      <td>1.0</td>\n      <td>30.20</td>\n      <td>3.57</td>\n      <td>[{'name': 'ebk', 'id': 'ebk9172d28a8c5c4e69b37...</td>\n      <td>10.761589</td>\n      <td>2980.132450</td>\n      <td>325.0</td>\n      <td>300.0</td>\n      <td>9.933775</td>\n      <td>{'ISO_3166-1_alpha-2': 'DE', 'ISO_3166-1_alpha...</td>\n      <td>Rheinland-Pfalz</td>\n      <td>False</td>\n      <td>{'population': 0, 'populationTrend': {'from': ...</td>\n      <td>4.33</td>\n      <td>4.0</td>\n      <td>NaN</td>\n      <td>ROOF_STOREY</td>\n      <td>WELL_KEPT</td>\n      <td>NaN</td>\n      <td>False</td>\n      <td>NaN</td>\n      <td>NaN</td>\n      <td>False</td>\n      <td>False</td>\n      <td>True</td>\n      <td>True</td>\n      <td>2021-02-19T09:39:48.811Z</td>\n      <td>False</td>\n      <td>{'location': {'name': 'Altrip', 'buyingPrice':...</td>\n      <td>False</td>\n      <td>118.421053</td>\n      <td>{'ebk': {'street': None, 'postcode': '67122', ...</td>\n      <td>{'street': '', 'postcode': '67122', 'location'...</td>\n      <td>NaN</td>\n      <td>[]</td>\n      <td>[{'buyingPrice': 90000, 'platformName': 'ebk',...</td>\n      <td>False</td>\n      <td>False</td>\n      <td>0</td>\n      <td>2021-02-19T09:39:49.562Z</td>\n      <td>0</td>\n      <td>None</td>\n      <td>-70.42</td>\n      <td>-9.388889</td>\n      <td>-70.42</td>\n      <td>False</td>\n    </tr>\n    <tr>\n      <th>1</th>\n      <td>a0fa2a2e9a03e1e51183319d389b9b8d</td>\n      <td>Gemütliches Zuhause zum Verweilen und Entspannen</td>\n      <td>33154</td>\n      <td>282425.0</td>\n      <td>3.0</td>\n      <td>78.41</td>\n      <td>NaN</td>\n      <td>[{'name': 'ebk', 'id': 'ebk34a7c7315353548e1fa...</td>\n      <td>7.039918</td>\n      <td>3601.900268</td>\n      <td>552.0</td>\n      <td>NaN</td>\n      <td>NaN</td>\n      <td>{'ISO_3166-1_alpha-2': 'DE', 'ISO_3166-1_alpha...</td>\n      <td>Nordrhein-Westfalen</td>\n      <td>False</td>\n      <td>{'population': 24956, 'populationTrend': {'fro...</td>\n      <td>2.35</td>\n      <td>NaN</td>\n      <td>NaN</td>\n      <td>APARTMENT</td>\n      <td>NO_INFORMATION</td>\n      <td>NaN</td>\n      <td>False</td>\n      <td>NaN</td>\n      <td>NaN</td>\n      <td>False</td>\n      <td>False</td>\n      <td>True</td>\n      <td>False</td>\n      <td>2021-02-19T09:39:39.691Z</td>\n      <td>False</td>\n      <td>{'district': {'name': 'Salzkotten', 'buyingPri...</td>\n      <td>False</td>\n      <td>120.180851</td>\n      <td>{'ebk': {'street': None, 'postcode': '33154', ...</td>\n      <td>{'street': '', 'postcode': '33154', 'locationQ...</td>\n      <td>NaN</td>\n      <td>[]</td>\n      <td>[{'buyingPrice': 282425, 'platformName': 'ebk'...</td>\n      <td>False</td>\n      <td>False</td>\n      <td>0</td>\n      <td>2021-02-19T09:39:40.122Z</td>\n      <td>0</td>\n      <td>None</td>\n      <td>-452.03</td>\n      <td>-19.206515</td>\n      <td>-452.03</td>\n      <td>False</td>\n    </tr>\n    <tr>\n      <th>2</th>\n      <td>f36467918129e396a5997571c6765a65</td>\n      <td>Charmante Wohnung mit Wohlfühlatmosphäre in de...</td>\n      <td>63739</td>\n      <td>540000.0</td>\n      <td>4.0</td>\n      <td>110.00</td>\n      <td>NaN</td>\n      <td>[{'name': 'ebk', 'id': 'ebkd4472406fcbf00c60be...</td>\n      <td>10.054545</td>\n      <td>4909.090909</td>\n      <td>1106.0</td>\n      <td>NaN</td>\n      <td>NaN</td>\n      <td>{'ISO_3166-1_alpha-2': 'DE', 'ISO_3166-1_alpha...</td>\n      <td>Bayern</td>\n      <td>False</td>\n      <td>{'population': 0, 'populationTrend': {'from': ...</td>\n      <td>2.46</td>\n      <td>NaN</td>\n      <td>1890.0</td>\n      <td>TERRACED_FLAT</td>\n      <td>NO_INFORMATION</td>\n      <td>NaN</td>\n      <td>False</td>\n      <td>NaN</td>\n      <td>NaN</td>\n      <td>False</td>\n      <td>False</td>\n      <td>True</td>\n      <td>False</td>\n      <td>2021-02-19T09:39:31.366Z</td>\n      <td>True</td>\n      <td>{'location': {'buyingPrice': 385000, 'pricePer...</td>\n      <td>False</td>\n      <td>122.727273</td>\n      <td>{'ebk': {'street': None, 'postcode': '63739', ...</td>\n      <td>{'street': '', 'postcode': '63739', 'location'...</td>\n      <td>250.0</td>\n      <td>[]</td>\n      <td>[{'buyingPrice': 540000, 'platformName': 'ebk'...</td>\n      <td>False</td>\n      <td>False</td>\n      <td>0</td>\n      <td>2021-02-19T09:39:31.847Z</td>\n      <td>0</td>\n      <td>None</td>\n      <td>-786.10</td>\n      <td>-17.468889</td>\n      <td>-786.10</td>\n      <td>False</td>\n    </tr>\n    <tr>\n      <th>3</th>\n      <td>936c8b6e4a152063f90fb4e3dcb6ee48</td>\n      <td>Schrobenhausen - Stadtzentrum - 2-Zimmerwohnun...</td>\n      <td>86529</td>\n      <td>367000.0</td>\n      <td>2.0</td>\n      <td>86.25</td>\n      <td>NaN</td>\n      <td>[{'name': 'ebk', 'id': 'ebkea9ee7c8edb3a31bbcf...</td>\n      <td>10.353623</td>\n      <td>4255.072464</td>\n      <td>893.0</td>\n      <td>NaN</td>\n      <td>NaN</td>\n      <td>{'ISO_3166-1_alpha-2': 'DE', 'ISO_3166-1_alpha...</td>\n      <td>Bayern</td>\n      <td>False</td>\n      <td>{'population': 17226, 'populationTrend': {'fro...</td>\n      <td>2.92</td>\n      <td>NaN</td>\n      <td>2019.0</td>\n      <td>APARTMENT</td>\n      <td>FIRST_TIME_USE_AFTER_REFURBISHMENT</td>\n      <td>NaN</td>\n      <td>False</td>\n      <td>NaN</td>\n      <td>NaN</td>\n      <td>True</td>\n      <td>False</td>\n      <td>True</td>\n      <td>False</td>\n      <td>2021-02-19T09:39:18.404Z</td>\n      <td>False</td>\n      <td>{'location': {'name': 'Schrobenhausen', 'buyin...</td>\n      <td>False</td>\n      <td>94.587629</td>\n      <td>{'ebk': {'street': None, 'postcode': '86529', ...</td>\n      <td>{'street': '', 'postcode': '86529', 'locationQ...</td>\n      <td>NaN</td>\n      <td>[]</td>\n      <td>[{'buyingPrice': 367000, 'platformName': 'ebk'...</td>\n      <td>False</td>\n      <td>False</td>\n      <td>0</td>\n      <td>2021-02-19T09:39:19.028Z</td>\n      <td>0</td>\n      <td>None</td>\n      <td>-440.38</td>\n      <td>-14.399455</td>\n      <td>-440.38</td>\n      <td>False</td>\n    </tr>\n    <tr>\n      <th>4</th>\n      <td>4c2991448a537acb85a343f231b1e510</td>\n      <td>Neubauprojekt: Exklusive 4 Zimmer Wohnung mit ...</td>\n      <td>33607</td>\n      <td>348440.0</td>\n      <td>4.0</td>\n      <td>88.00</td>\n      <td>NaN</td>\n      <td>[{'name': 'ebk', 'id': 'ebkc33ce14a0b63f301d07...</td>\n      <td>7.636364</td>\n      <td>3959.545455</td>\n      <td>672.0</td>\n      <td>NaN</td>\n      <td>NaN</td>\n      <td>{'ISO_3166-1_alpha-2': 'DE', 'ISO_3166-1_alpha...</td>\n      <td>Nordrhein-Westfalen</td>\n      <td>False</td>\n      <td>{'population': 334195, 'populationTrend': {'fr...</td>\n      <td>2.31</td>\n      <td>NaN</td>\n      <td>NaN</td>\n      <td>APARTMENT</td>\n      <td>NO_INFORMATION</td>\n      <td>NaN</td>\n      <td>False</td>\n      <td>NaN</td>\n      <td>NaN</td>\n      <td>False</td>\n      <td>False</td>\n      <td>True</td>\n      <td>False</td>\n      <td>2021-02-19T09:38:13.865Z</td>\n      <td>False</td>\n      <td>{'district': {'name': 'Mitte', 'buyingPrice': ...</td>\n      <td>False</td>\n      <td>163.586854</td>\n      <td>{'ebk': {'street': None, 'postcode': '33607', ...</td>\n      <td>{'street': '', 'postcode': '33607', 'location'...</td>\n      <td>NaN</td>\n      <td>[]</td>\n      <td>[{'buyingPrice': 348440, 'platformName': 'ebk'...</td>\n      <td>False</td>\n      <td>False</td>\n      <td>0</td>\n      <td>2021-02-19T09:38:14.885Z</td>\n      <td>0</td>\n      <td>None</td>\n      <td>-563.62</td>\n      <td>-19.410515</td>\n      <td>-563.62</td>\n      <td>False</td>\n    </tr>\n  </tbody>\n</table>\n</div>"
     },
     "metadata": {},
     "execution_count": 8
    }
   ],
   "source": [
    "with open(JSON_PATH) as json_file:\n",
    "    data = json.load(json_file)\n",
    "df = pd.DataFrame.from_dict(data)\n",
    "df.head()"
   ]
  },
  {
   "cell_type": "code",
   "execution_count": 9,
   "metadata": {},
   "outputs": [
    {
     "output_type": "execute_result",
     "data": {
      "text/plain": [
       "                                 id  \\\n",
       "0  a6403543c394e8f9dc0607d2d0b4d296   \n",
       "1  a0fa2a2e9a03e1e51183319d389b9b8d   \n",
       "2  f36467918129e396a5997571c6765a65   \n",
       "3  936c8b6e4a152063f90fb4e3dcb6ee48   \n",
       "4  4c2991448a537acb85a343f231b1e510   \n",
       "\n",
       "                                               title    zip  buyingPrice  \\\n",
       "0     Moderne 1 ZKB Dachgeschosswohnung für Singles!  67122      90000.0   \n",
       "1   Gemütliches Zuhause zum Verweilen und Entspannen  33154     282425.0   \n",
       "2  Charmante Wohnung mit Wohlfühlatmosphäre in de...  63739     540000.0   \n",
       "3  Schrobenhausen - Stadtzentrum - 2-Zimmerwohnun...  86529     367000.0   \n",
       "4  Neubauprojekt: Exklusive 4 Zimmer Wohnung mit ...  33607     348440.0   \n",
       "\n",
       "   rooms  squareMeter  comission  \\\n",
       "0    1.0        30.20       3.57   \n",
       "1    3.0        78.41        NaN   \n",
       "2    4.0       110.00        NaN   \n",
       "3    2.0        86.25        NaN   \n",
       "4    4.0        88.00        NaN   \n",
       "\n",
       "                                           platforms  rentPricePerSqm  \\\n",
       "0  [{'name': 'ebk', 'id': 'ebk9172d28a8c5c4e69b37...        10.761589   \n",
       "1  [{'name': 'ebk', 'id': 'ebk34a7c7315353548e1fa...         7.039918   \n",
       "2  [{'name': 'ebk', 'id': 'ebkd4472406fcbf00c60be...        10.054545   \n",
       "3  [{'name': 'ebk', 'id': 'ebkea9ee7c8edb3a31bbcf...        10.353623   \n",
       "4  [{'name': 'ebk', 'id': 'ebkc33ce14a0b63f301d07...         7.636364   \n",
       "\n",
       "   pricePerSqm  rentPrice  rentPriceCurrent  rentPriceCurrentPerSqm  \\\n",
       "0  2980.132450      325.0             300.0                9.933775   \n",
       "1  3601.900268      552.0               NaN                     NaN   \n",
       "2  4909.090909     1106.0               NaN                     NaN   \n",
       "3  4255.072464      893.0               NaN                     NaN   \n",
       "4  3959.545455      672.0               NaN                     NaN   \n",
       "\n",
       "                                             address               region  \\\n",
       "0  {'ISO_3166-1_alpha-2': 'DE', 'ISO_3166-1_alpha...      Rheinland-Pfalz   \n",
       "1  {'ISO_3166-1_alpha-2': 'DE', 'ISO_3166-1_alpha...  Nordrhein-Westfalen   \n",
       "2  {'ISO_3166-1_alpha-2': 'DE', 'ISO_3166-1_alpha...               Bayern   \n",
       "3  {'ISO_3166-1_alpha-2': 'DE', 'ISO_3166-1_alpha...               Bayern   \n",
       "4  {'ISO_3166-1_alpha-2': 'DE', 'ISO_3166-1_alpha...  Nordrhein-Westfalen   \n",
       "\n",
       "   foreClosure                                     locationFactor  \\\n",
       "0        False  {'population': 0, 'populationTrend': {'from': ...   \n",
       "1        False  {'population': 24956, 'populationTrend': {'fro...   \n",
       "2        False  {'population': 0, 'populationTrend': {'from': ...   \n",
       "3        False  {'population': 17226, 'populationTrend': {'fro...   \n",
       "4        False  {'population': 334195, 'populationTrend': {'fr...   \n",
       "\n",
       "   grossReturn  grossReturnCurrent  constructionYear  apartmentType  \\\n",
       "0         4.33                 4.0               NaN    ROOF_STOREY   \n",
       "1         2.35                 NaN               NaN      APARTMENT   \n",
       "2         2.46                 NaN            1890.0  TERRACED_FLAT   \n",
       "3         2.92                 NaN            2019.0      APARTMENT   \n",
       "4         2.31                 NaN               NaN      APARTMENT   \n",
       "\n",
       "                            condition  lastRefurbishment   lift  floor  \\\n",
       "0                           WELL_KEPT                NaN  False    NaN   \n",
       "1                      NO_INFORMATION                NaN  False    NaN   \n",
       "2                      NO_INFORMATION                NaN  False    NaN   \n",
       "3  FIRST_TIME_USE_AFTER_REFURBISHMENT                NaN  False    NaN   \n",
       "4                      NO_INFORMATION                NaN  False    NaN   \n",
       "\n",
       "   numberOfFloors  balcony  garden  active  rented               publishDate  \\\n",
       "0             NaN    False   False    True    True  2021-02-19T09:39:48.811Z   \n",
       "1             NaN    False   False    True   False  2021-02-19T09:39:39.691Z   \n",
       "2             NaN    False   False    True   False  2021-02-19T09:39:31.366Z   \n",
       "3             NaN     True   False    True   False  2021-02-19T09:39:18.404Z   \n",
       "4             NaN    False   False    True   False  2021-02-19T09:38:13.865Z   \n",
       "\n",
       "   privateOffer                                       aggregations  leasehold  \\\n",
       "0         False  {'location': {'name': 'Altrip', 'buyingPrice':...      False   \n",
       "1         False  {'district': {'name': 'Salzkotten', 'buyingPri...      False   \n",
       "2          True  {'location': {'buyingPrice': 385000, 'pricePer...      False   \n",
       "3         False  {'location': {'name': 'Schrobenhausen', 'buyin...      False   \n",
       "4         False  {'district': {'name': 'Mitte', 'buyingPrice': ...      False   \n",
       "\n",
       "   priceInMarket                                           oAddress  \\\n",
       "0     118.421053  {'ebk': {'street': None, 'postcode': '67122', ...   \n",
       "1     120.180851  {'ebk': {'street': None, 'postcode': '33154', ...   \n",
       "2     122.727273  {'ebk': {'street': None, 'postcode': '63739', ...   \n",
       "3      94.587629  {'ebk': {'street': None, 'postcode': '86529', ...   \n",
       "4     163.586854  {'ebk': {'street': None, 'postcode': '33607', ...   \n",
       "\n",
       "                                     originalAddress  houseMoney images  \\\n",
       "0  {'street': '', 'postcode': '67122', 'location'...         NaN     []   \n",
       "1  {'street': '', 'postcode': '33154', 'locationQ...         NaN     []   \n",
       "2  {'street': '', 'postcode': '63739', 'location'...       250.0     []   \n",
       "3  {'street': '', 'postcode': '86529', 'locationQ...         NaN     []   \n",
       "4  {'street': '', 'postcode': '33607', 'location'...         NaN     []   \n",
       "\n",
       "                                  buyingPriceHistory  priceReduced  \\\n",
       "0  [{'buyingPrice': 90000, 'platformName': 'ebk',...         False   \n",
       "1  [{'buyingPrice': 282425, 'platformName': 'ebk'...         False   \n",
       "2  [{'buyingPrice': 540000, 'platformName': 'ebk'...         False   \n",
       "3  [{'buyingPrice': 367000, 'platformName': 'ebk'...         False   \n",
       "4  [{'buyingPrice': 348440, 'platformName': 'ebk'...         False   \n",
       "\n",
       "  priceIncreased  runningTime             lastUpdatedAt  favorite  \\\n",
       "0          False            0  2021-02-19T09:39:49.562Z         0   \n",
       "1          False            0  2021-02-19T09:39:40.122Z         0   \n",
       "2          False            0  2021-02-19T09:39:31.847Z         0   \n",
       "3          False            0  2021-02-19T09:39:19.028Z         0   \n",
       "4          False            0  2021-02-19T09:38:14.885Z         0   \n",
       "\n",
       "  favoriteDate  cashFlow  ownCapitalReturn  cashFlowPerLivingUnit  hasImages  \n",
       "0         None    -70.42         -9.388889                 -70.42      False  \n",
       "1         None   -452.03        -19.206515                -452.03      False  \n",
       "2         None   -786.10        -17.468889                -786.10      False  \n",
       "3         None   -440.38        -14.399455                -440.38      False  \n",
       "4         None   -563.62        -19.410515                -563.62      False  "
      ],
      "text/html": "<div>\n<style scoped>\n    .dataframe tbody tr th:only-of-type {\n        vertical-align: middle;\n    }\n\n    .dataframe tbody tr th {\n        vertical-align: top;\n    }\n\n    .dataframe thead th {\n        text-align: right;\n    }\n</style>\n<table border=\"1\" class=\"dataframe\">\n  <thead>\n    <tr style=\"text-align: right;\">\n      <th></th>\n      <th>id</th>\n      <th>title</th>\n      <th>zip</th>\n      <th>buyingPrice</th>\n      <th>rooms</th>\n      <th>squareMeter</th>\n      <th>comission</th>\n      <th>platforms</th>\n      <th>rentPricePerSqm</th>\n      <th>pricePerSqm</th>\n      <th>rentPrice</th>\n      <th>rentPriceCurrent</th>\n      <th>rentPriceCurrentPerSqm</th>\n      <th>address</th>\n      <th>region</th>\n      <th>foreClosure</th>\n      <th>locationFactor</th>\n      <th>grossReturn</th>\n      <th>grossReturnCurrent</th>\n      <th>constructionYear</th>\n      <th>apartmentType</th>\n      <th>condition</th>\n      <th>lastRefurbishment</th>\n      <th>lift</th>\n      <th>floor</th>\n      <th>numberOfFloors</th>\n      <th>balcony</th>\n      <th>garden</th>\n      <th>active</th>\n      <th>rented</th>\n      <th>publishDate</th>\n      <th>privateOffer</th>\n      <th>aggregations</th>\n      <th>leasehold</th>\n      <th>priceInMarket</th>\n      <th>oAddress</th>\n      <th>originalAddress</th>\n      <th>houseMoney</th>\n      <th>images</th>\n      <th>buyingPriceHistory</th>\n      <th>priceReduced</th>\n      <th>priceIncreased</th>\n      <th>runningTime</th>\n      <th>lastUpdatedAt</th>\n      <th>favorite</th>\n      <th>favoriteDate</th>\n      <th>cashFlow</th>\n      <th>ownCapitalReturn</th>\n      <th>cashFlowPerLivingUnit</th>\n      <th>hasImages</th>\n    </tr>\n  </thead>\n  <tbody>\n    <tr>\n      <th>0</th>\n      <td>a6403543c394e8f9dc0607d2d0b4d296</td>\n      <td>Moderne 1 ZKB Dachgeschosswohnung für Singles!</td>\n      <td>67122</td>\n      <td>90000.0</td>\n      <td>1.0</td>\n      <td>30.20</td>\n      <td>3.57</td>\n      <td>[{'name': 'ebk', 'id': 'ebk9172d28a8c5c4e69b37...</td>\n      <td>10.761589</td>\n      <td>2980.132450</td>\n      <td>325.0</td>\n      <td>300.0</td>\n      <td>9.933775</td>\n      <td>{'ISO_3166-1_alpha-2': 'DE', 'ISO_3166-1_alpha...</td>\n      <td>Rheinland-Pfalz</td>\n      <td>False</td>\n      <td>{'population': 0, 'populationTrend': {'from': ...</td>\n      <td>4.33</td>\n      <td>4.0</td>\n      <td>NaN</td>\n      <td>ROOF_STOREY</td>\n      <td>WELL_KEPT</td>\n      <td>NaN</td>\n      <td>False</td>\n      <td>NaN</td>\n      <td>NaN</td>\n      <td>False</td>\n      <td>False</td>\n      <td>True</td>\n      <td>True</td>\n      <td>2021-02-19T09:39:48.811Z</td>\n      <td>False</td>\n      <td>{'location': {'name': 'Altrip', 'buyingPrice':...</td>\n      <td>False</td>\n      <td>118.421053</td>\n      <td>{'ebk': {'street': None, 'postcode': '67122', ...</td>\n      <td>{'street': '', 'postcode': '67122', 'location'...</td>\n      <td>NaN</td>\n      <td>[]</td>\n      <td>[{'buyingPrice': 90000, 'platformName': 'ebk',...</td>\n      <td>False</td>\n      <td>False</td>\n      <td>0</td>\n      <td>2021-02-19T09:39:49.562Z</td>\n      <td>0</td>\n      <td>None</td>\n      <td>-70.42</td>\n      <td>-9.388889</td>\n      <td>-70.42</td>\n      <td>False</td>\n    </tr>\n    <tr>\n      <th>1</th>\n      <td>a0fa2a2e9a03e1e51183319d389b9b8d</td>\n      <td>Gemütliches Zuhause zum Verweilen und Entspannen</td>\n      <td>33154</td>\n      <td>282425.0</td>\n      <td>3.0</td>\n      <td>78.41</td>\n      <td>NaN</td>\n      <td>[{'name': 'ebk', 'id': 'ebk34a7c7315353548e1fa...</td>\n      <td>7.039918</td>\n      <td>3601.900268</td>\n      <td>552.0</td>\n      <td>NaN</td>\n      <td>NaN</td>\n      <td>{'ISO_3166-1_alpha-2': 'DE', 'ISO_3166-1_alpha...</td>\n      <td>Nordrhein-Westfalen</td>\n      <td>False</td>\n      <td>{'population': 24956, 'populationTrend': {'fro...</td>\n      <td>2.35</td>\n      <td>NaN</td>\n      <td>NaN</td>\n      <td>APARTMENT</td>\n      <td>NO_INFORMATION</td>\n      <td>NaN</td>\n      <td>False</td>\n      <td>NaN</td>\n      <td>NaN</td>\n      <td>False</td>\n      <td>False</td>\n      <td>True</td>\n      <td>False</td>\n      <td>2021-02-19T09:39:39.691Z</td>\n      <td>False</td>\n      <td>{'district': {'name': 'Salzkotten', 'buyingPri...</td>\n      <td>False</td>\n      <td>120.180851</td>\n      <td>{'ebk': {'street': None, 'postcode': '33154', ...</td>\n      <td>{'street': '', 'postcode': '33154', 'locationQ...</td>\n      <td>NaN</td>\n      <td>[]</td>\n      <td>[{'buyingPrice': 282425, 'platformName': 'ebk'...</td>\n      <td>False</td>\n      <td>False</td>\n      <td>0</td>\n      <td>2021-02-19T09:39:40.122Z</td>\n      <td>0</td>\n      <td>None</td>\n      <td>-452.03</td>\n      <td>-19.206515</td>\n      <td>-452.03</td>\n      <td>False</td>\n    </tr>\n    <tr>\n      <th>2</th>\n      <td>f36467918129e396a5997571c6765a65</td>\n      <td>Charmante Wohnung mit Wohlfühlatmosphäre in de...</td>\n      <td>63739</td>\n      <td>540000.0</td>\n      <td>4.0</td>\n      <td>110.00</td>\n      <td>NaN</td>\n      <td>[{'name': 'ebk', 'id': 'ebkd4472406fcbf00c60be...</td>\n      <td>10.054545</td>\n      <td>4909.090909</td>\n      <td>1106.0</td>\n      <td>NaN</td>\n      <td>NaN</td>\n      <td>{'ISO_3166-1_alpha-2': 'DE', 'ISO_3166-1_alpha...</td>\n      <td>Bayern</td>\n      <td>False</td>\n      <td>{'population': 0, 'populationTrend': {'from': ...</td>\n      <td>2.46</td>\n      <td>NaN</td>\n      <td>1890.0</td>\n      <td>TERRACED_FLAT</td>\n      <td>NO_INFORMATION</td>\n      <td>NaN</td>\n      <td>False</td>\n      <td>NaN</td>\n      <td>NaN</td>\n      <td>False</td>\n      <td>False</td>\n      <td>True</td>\n      <td>False</td>\n      <td>2021-02-19T09:39:31.366Z</td>\n      <td>True</td>\n      <td>{'location': {'buyingPrice': 385000, 'pricePer...</td>\n      <td>False</td>\n      <td>122.727273</td>\n      <td>{'ebk': {'street': None, 'postcode': '63739', ...</td>\n      <td>{'street': '', 'postcode': '63739', 'location'...</td>\n      <td>250.0</td>\n      <td>[]</td>\n      <td>[{'buyingPrice': 540000, 'platformName': 'ebk'...</td>\n      <td>False</td>\n      <td>False</td>\n      <td>0</td>\n      <td>2021-02-19T09:39:31.847Z</td>\n      <td>0</td>\n      <td>None</td>\n      <td>-786.10</td>\n      <td>-17.468889</td>\n      <td>-786.10</td>\n      <td>False</td>\n    </tr>\n    <tr>\n      <th>3</th>\n      <td>936c8b6e4a152063f90fb4e3dcb6ee48</td>\n      <td>Schrobenhausen - Stadtzentrum - 2-Zimmerwohnun...</td>\n      <td>86529</td>\n      <td>367000.0</td>\n      <td>2.0</td>\n      <td>86.25</td>\n      <td>NaN</td>\n      <td>[{'name': 'ebk', 'id': 'ebkea9ee7c8edb3a31bbcf...</td>\n      <td>10.353623</td>\n      <td>4255.072464</td>\n      <td>893.0</td>\n      <td>NaN</td>\n      <td>NaN</td>\n      <td>{'ISO_3166-1_alpha-2': 'DE', 'ISO_3166-1_alpha...</td>\n      <td>Bayern</td>\n      <td>False</td>\n      <td>{'population': 17226, 'populationTrend': {'fro...</td>\n      <td>2.92</td>\n      <td>NaN</td>\n      <td>2019.0</td>\n      <td>APARTMENT</td>\n      <td>FIRST_TIME_USE_AFTER_REFURBISHMENT</td>\n      <td>NaN</td>\n      <td>False</td>\n      <td>NaN</td>\n      <td>NaN</td>\n      <td>True</td>\n      <td>False</td>\n      <td>True</td>\n      <td>False</td>\n      <td>2021-02-19T09:39:18.404Z</td>\n      <td>False</td>\n      <td>{'location': {'name': 'Schrobenhausen', 'buyin...</td>\n      <td>False</td>\n      <td>94.587629</td>\n      <td>{'ebk': {'street': None, 'postcode': '86529', ...</td>\n      <td>{'street': '', 'postcode': '86529', 'locationQ...</td>\n      <td>NaN</td>\n      <td>[]</td>\n      <td>[{'buyingPrice': 367000, 'platformName': 'ebk'...</td>\n      <td>False</td>\n      <td>False</td>\n      <td>0</td>\n      <td>2021-02-19T09:39:19.028Z</td>\n      <td>0</td>\n      <td>None</td>\n      <td>-440.38</td>\n      <td>-14.399455</td>\n      <td>-440.38</td>\n      <td>False</td>\n    </tr>\n    <tr>\n      <th>4</th>\n      <td>4c2991448a537acb85a343f231b1e510</td>\n      <td>Neubauprojekt: Exklusive 4 Zimmer Wohnung mit ...</td>\n      <td>33607</td>\n      <td>348440.0</td>\n      <td>4.0</td>\n      <td>88.00</td>\n      <td>NaN</td>\n      <td>[{'name': 'ebk', 'id': 'ebkc33ce14a0b63f301d07...</td>\n      <td>7.636364</td>\n      <td>3959.545455</td>\n      <td>672.0</td>\n      <td>NaN</td>\n      <td>NaN</td>\n      <td>{'ISO_3166-1_alpha-2': 'DE', 'ISO_3166-1_alpha...</td>\n      <td>Nordrhein-Westfalen</td>\n      <td>False</td>\n      <td>{'population': 334195, 'populationTrend': {'fr...</td>\n      <td>2.31</td>\n      <td>NaN</td>\n      <td>NaN</td>\n      <td>APARTMENT</td>\n      <td>NO_INFORMATION</td>\n      <td>NaN</td>\n      <td>False</td>\n      <td>NaN</td>\n      <td>NaN</td>\n      <td>False</td>\n      <td>False</td>\n      <td>True</td>\n      <td>False</td>\n      <td>2021-02-19T09:38:13.865Z</td>\n      <td>False</td>\n      <td>{'district': {'name': 'Mitte', 'buyingPrice': ...</td>\n      <td>False</td>\n      <td>163.586854</td>\n      <td>{'ebk': {'street': None, 'postcode': '33607', ...</td>\n      <td>{'street': '', 'postcode': '33607', 'location'...</td>\n      <td>NaN</td>\n      <td>[]</td>\n      <td>[{'buyingPrice': 348440, 'platformName': 'ebk'...</td>\n      <td>False</td>\n      <td>False</td>\n      <td>0</td>\n      <td>2021-02-19T09:38:14.885Z</td>\n      <td>0</td>\n      <td>None</td>\n      <td>-563.62</td>\n      <td>-19.410515</td>\n      <td>-563.62</td>\n      <td>False</td>\n    </tr>\n  </tbody>\n</table>\n</div>"
     },
     "metadata": {},
     "execution_count": 9
    }
   ],
   "source": [
    "df.head()"
   ]
  },
  {
   "cell_type": "code",
   "execution_count": null,
   "metadata": {},
   "outputs": [],
   "source": []
  },
  {
   "cell_type": "code",
   "execution_count": null,
   "metadata": {},
   "outputs": [],
   "source": []
  },
  {
   "cell_type": "code",
   "execution_count": null,
   "metadata": {},
   "outputs": [],
   "source": []
  },
  {
   "cell_type": "code",
   "execution_count": 10,
   "metadata": {},
   "outputs": [],
   "source": [
    "# import json\n",
    "\n",
    "# s = '''{\"activities\": [\"Tour\"], \"locations\": [\"Tokyo\"], \"groups\": []}'''\n",
    "# j = json.loads(s)\n",
    "# j"
   ]
  },
  {
   "cell_type": "code",
   "execution_count": 11,
   "metadata": {},
   "outputs": [
    {
     "output_type": "execute_result",
     "data": {
      "text/plain": [
       "   history_buyingPrice history_platformName      history_creationDate  \\\n",
       "0                90000                  ebk  2021-02-19T09:39:48.811Z   \n",
       "1               282425                  ebk  2021-02-19T09:39:39.691Z   \n",
       "2               540000                  ebk  2021-02-19T09:39:31.366Z   \n",
       "\n",
       "                                 id  \n",
       "0  a6403543c394e8f9dc0607d2d0b4d296  \n",
       "1  a0fa2a2e9a03e1e51183319d389b9b8d  \n",
       "2  f36467918129e396a5997571c6765a65  "
      ],
      "text/html": "<div>\n<style scoped>\n    .dataframe tbody tr th:only-of-type {\n        vertical-align: middle;\n    }\n\n    .dataframe tbody tr th {\n        vertical-align: top;\n    }\n\n    .dataframe thead th {\n        text-align: right;\n    }\n</style>\n<table border=\"1\" class=\"dataframe\">\n  <thead>\n    <tr style=\"text-align: right;\">\n      <th></th>\n      <th>history_buyingPrice</th>\n      <th>history_platformName</th>\n      <th>history_creationDate</th>\n      <th>id</th>\n    </tr>\n  </thead>\n  <tbody>\n    <tr>\n      <th>0</th>\n      <td>90000</td>\n      <td>ebk</td>\n      <td>2021-02-19T09:39:48.811Z</td>\n      <td>a6403543c394e8f9dc0607d2d0b4d296</td>\n    </tr>\n    <tr>\n      <th>1</th>\n      <td>282425</td>\n      <td>ebk</td>\n      <td>2021-02-19T09:39:39.691Z</td>\n      <td>a0fa2a2e9a03e1e51183319d389b9b8d</td>\n    </tr>\n    <tr>\n      <th>2</th>\n      <td>540000</td>\n      <td>ebk</td>\n      <td>2021-02-19T09:39:31.366Z</td>\n      <td>f36467918129e396a5997571c6765a65</td>\n    </tr>\n  </tbody>\n</table>\n</div>"
     },
     "metadata": {},
     "execution_count": 11
    }
   ],
   "source": [
    "from pandas.io.json import json_normalize #package for flattening json in pandas df\n",
    "record_paths = [\n",
    "     'platforms',\n",
    "    # 'address',\n",
    "    # 'locationFactor',\n",
    "    # 'aggregations',\n",
    "    # 'oAddress',\t\n",
    "    # 'originalAddress',\n",
    "    # 'buyingPriceHistory'\n",
    "]\n",
    "df_platforms = json_normalize(data=data, record_path=['platforms'],record_prefix=\"platform_\", meta=['id'])\n",
    "df_buyingPriceHistory = json_normalize(data=data, record_path=['buyingPriceHistory'],record_prefix=\"history_\", meta=['id'])\n",
    "# TODO fix the normalization here\n",
    "# df_locationFactor = json_normalize(data=data, record_path=['locationFactor'],record_prefix=\"locationFactor_\", meta=['id'])\n",
    "df_buyingPriceHistory.head(3)"
   ]
  },
  {
   "cell_type": "code",
   "execution_count": 12,
   "metadata": {},
   "outputs": [
    {
     "output_type": "stream",
     "name": "stdout",
     "text": [
      "aggregations\n    location.name  location.buyingPrice  location.pricePerSqm  \\\n0          Altrip               75500.0                2500.0   \n1      Salzkotten              188184.0                2400.0   \n2             NaN              385000.0                3500.0   \n3  Schrobenhausen              301875.0                3500.0   \n4       Bielefeld              184800.0                2100.0   \n\n   location.grossReturn  similarListing.name  similarListing.buyingPrice  \\\n0              3.936000                  NaN                     76000.0   \n1              3.800000                  NaN                    235000.0   \n2              3.154286                  NaN                    440000.0   \n3              3.188571                  NaN                    388000.0   \n4              4.228571                  NaN                    213000.0   \n\n   similarListing.pricePerSqm  similarListing.grossReturn district.name  \\\n0                 2516.556291                    5.131579           NaN   \n1                 2997.066701                    2.818723    Salzkotten   \n2                 4000.000000                    3.016364           NaN   \n3                 4498.550725                    2.761856           NaN   \n4                 2420.454545                    3.785915         Mitte   \n\n   district.buyingPrice  district.pricePerSqm  district.grossReturn  district  \n0                   NaN                   NaN                   NaN       NaN  \n1              141138.0                1800.0              5.066667       NaN  \n2                   NaN                   NaN                   NaN       NaN  \n3                   NaN                   NaN                   NaN       NaN  \n4              162800.0                1850.0              4.800000       NaN  \noAddress\n  ebk.street ebk.postcode ebk.location                      ebk.locationQuery  \\\n0       None        67122       altrip          67122 Rheinland-Pfalz, Altrip   \n1       None        33154          NaN  33154 Nordrhein-Westfalen, Salzkotten   \n2       None        63739       bayern            63739 Bayern, Aschaffenburg   \n3       None        86529          NaN           86529 Bayern, Schrobenhausen   \n4       None        33607    bielefeld                 33607 Bielefeld, Mitte   \n\n  is24.street is24.postcode is24.location is24.district ivd24.street  \\\n0         NaN           NaN           NaN           NaN          NaN   \n1         NaN           NaN           NaN           NaN          NaN   \n2         NaN           NaN           NaN           NaN          NaN   \n3         NaN           NaN           NaN           NaN          NaN   \n4         NaN           NaN           NaN           NaN          NaN   \n\n  ivd24.postcode ivd24.location ivd24.district immobilio.street  \\\n0            NaN            NaN            NaN              NaN   \n1            NaN            NaN            NaN              NaN   \n2            NaN            NaN            NaN              NaN   \n3            NaN            NaN            NaN              NaN   \n4            NaN            NaN            NaN              NaN   \n\n  immobilio.postcode  immobilien.street immobilien.postcode  \\\n0                NaN                NaN                 NaN   \n1                NaN                NaN                 NaN   \n2                NaN                NaN                 NaN   \n3                NaN                NaN                 NaN   \n4                NaN                NaN                 NaN   \n\n  immobilien.location  immobilienmarkt1a.street immobilienmarkt1a.postcode  \\\n0                 NaN                       NaN                        NaN   \n1                 NaN                       NaN                        NaN   \n2                 NaN                       NaN                        NaN   \n3                 NaN                       NaN                        NaN   \n4                 NaN                       NaN                        NaN   \n\n  immobilienmarkt1a.location  sueddeutsche.street sueddeutsche.postcode  \\\n0                        NaN                  NaN                   NaN   \n1                        NaN                  NaN                   NaN   \n2                        NaN                  NaN                   NaN   \n3                        NaN                  NaN                   NaN   \n4                        NaN                  NaN                   NaN   \n\n  sueddeutsche.location  faz.street faz.postcode faz.location  \\\n0                   NaN         NaN          NaN          NaN   \n1                   NaN         NaN          NaN          NaN   \n2                   NaN         NaN          NaN          NaN   \n3                   NaN         NaN          NaN          NaN   \n4                   NaN         NaN          NaN          NaN   \n\n  immobilio.location  regionalimmobilien.street regionalimmobilien.postcode  \\\n0                NaN                        NaN                         NaN   \n1                NaN                        NaN                         NaN   \n2                NaN                        NaN                         NaN   \n3                NaN                        NaN                         NaN   \n4                NaN                        NaN                         NaN   \n\n  regionalimmobilien.location  immoticket24.street immoticket24.postcode  \\\n0                         NaN                  NaN                   NaN   \n1                         NaN                  NaN                   NaN   \n2                         NaN                  NaN                   NaN   \n3                         NaN                  NaN                   NaN   \n4                         NaN                  NaN                   NaN   \n\n  immoticket24.location ohnemakler.street ohnemakler.postcode  \\\n0                   NaN               NaN                 NaN   \n1                   NaN               NaN                 NaN   \n2                   NaN               NaN                 NaN   \n3                   NaN               NaN                 NaN   \n4                   NaN               NaN                 NaN   \n\n  ohnemakler.location  reedb.street reedb.postcode reedb.location  \\\n0                 NaN           NaN            NaN            NaN   \n1                 NaN           NaN            NaN            NaN   \n2                 NaN           NaN            NaN            NaN   \n3                 NaN           NaN            NaN            NaN   \n4                 NaN           NaN            NaN            NaN   \n\n  meinestadt.street meinestadt.postcode meinestadt.location  immostar.street  \\\n0               NaN                 NaN                 NaN              NaN   \n1               NaN                 NaN                 NaN              NaN   \n2               NaN                 NaN                 NaN              NaN   \n3               NaN                 NaN                 NaN              NaN   \n4               NaN                 NaN                 NaN              NaN   \n\n  immostar.postcode immostar.location immobilien.district  vrwohnen.street  \\\n0               NaN               NaN                 NaN              NaN   \n1               NaN               NaN                 NaN              NaN   \n2               NaN               NaN                 NaN              NaN   \n3               NaN               NaN                 NaN              NaN   \n4               NaN               NaN                 NaN              NaN   \n\n  vrwohnen.postcode vrwohnen.location  \n0               NaN               NaN  \n1               NaN               NaN  \n2               NaN               NaN  \n3               NaN               NaN  \n4               NaN               NaN  \noriginalAddress\n  street postcode   location                          locationQuery district\n0           67122     altrip          67122 Rheinland-Pfalz, Altrip      NaN\n1           33154        NaN  33154 Nordrhein-Westfalen, Salzkotten      NaN\n2           63739     bayern            63739 Bayern, Aschaffenburg      NaN\n3           86529        NaN           86529 Bayern, Schrobenhausen      NaN\n4           33607  bielefeld                 33607 Bielefeld, Mitte      NaN\n"
     ]
    }
   ],
   "source": [
    "record_paths = [\n",
    "     #'address',\n",
    "     #'locationFactor',\n",
    "     'aggregations',\n",
    "     'oAddress',\t\n",
    "     'originalAddress',\n",
    "]\n",
    "for path in record_paths:\n",
    "    print(path)\n",
    "    print(json_normalize(df[path]).head())"
   ]
  },
  {
   "cell_type": "code",
   "execution_count": 13,
   "metadata": {},
   "outputs": [
    {
     "output_type": "execute_result",
     "data": {
      "text/plain": [
       "{'name': 'ebk',\n",
       " 'id': 'ebk9172d28a8c5c4e69b37c7a65bb0ca6c9',\n",
       " 'url': 'https://www.ebay-kleinanzeigen.de/s-anzeige/moderne-1-zkb-dachgeschosswohnung-fuer-singles-/1672091692-196-5386',\n",
       " 'creationDate': '2021-02-19T09:39:48.811Z',\n",
       " 'publishDate': '2021-02-19T09:39:48.811Z',\n",
       " 'active': True}"
      ]
     },
     "metadata": {},
     "execution_count": 13
    }
   ],
   "source": [
    "df_platforms = df.platforms.values.tolist()\n",
    "df_platforms[0][0]"
   ]
  },
  {
   "cell_type": "code",
   "execution_count": 14,
   "metadata": {},
   "outputs": [
    {
     "output_type": "error",
     "ename": "ValueError",
     "evalue": "6 columns passed, passed data had 7 columns",
     "traceback": [
      "\u001b[0;31m---------------------------------------------------------------------------\u001b[0m",
      "\u001b[0;31mAssertionError\u001b[0m                            Traceback (most recent call last)",
      "\u001b[0;32m~/repository/dataengineer/awesome-dataengineer-masterclass/02_real_estate_roi_calculator/venv02_real/lib/python3.8/site-packages/pandas/core/internals/construction.py\u001b[0m in \u001b[0;36m_list_to_arrays\u001b[0;34m(data, columns, coerce_float, dtype)\u001b[0m\n\u001b[1;32m    567\u001b[0m     \u001b[0;32mtry\u001b[0m\u001b[0;34m:\u001b[0m\u001b[0;34m\u001b[0m\u001b[0;34m\u001b[0m\u001b[0m\n\u001b[0;32m--> 568\u001b[0;31m         \u001b[0mcolumns\u001b[0m \u001b[0;34m=\u001b[0m \u001b[0m_validate_or_indexify_columns\u001b[0m\u001b[0;34m(\u001b[0m\u001b[0mcontent\u001b[0m\u001b[0;34m,\u001b[0m \u001b[0mcolumns\u001b[0m\u001b[0;34m)\u001b[0m\u001b[0;34m\u001b[0m\u001b[0;34m\u001b[0m\u001b[0m\n\u001b[0m\u001b[1;32m    569\u001b[0m         \u001b[0mresult\u001b[0m \u001b[0;34m=\u001b[0m \u001b[0m_convert_object_array\u001b[0m\u001b[0;34m(\u001b[0m\u001b[0mcontent\u001b[0m\u001b[0;34m,\u001b[0m \u001b[0mdtype\u001b[0m\u001b[0;34m=\u001b[0m\u001b[0mdtype\u001b[0m\u001b[0;34m,\u001b[0m \u001b[0mcoerce_float\u001b[0m\u001b[0;34m=\u001b[0m\u001b[0mcoerce_float\u001b[0m\u001b[0;34m)\u001b[0m\u001b[0;34m\u001b[0m\u001b[0;34m\u001b[0m\u001b[0m\n",
      "\u001b[0;32m~/repository/dataengineer/awesome-dataengineer-masterclass/02_real_estate_roi_calculator/venv02_real/lib/python3.8/site-packages/pandas/core/internals/construction.py\u001b[0m in \u001b[0;36m_validate_or_indexify_columns\u001b[0;34m(content, columns)\u001b[0m\n\u001b[1;32m    691\u001b[0m             \u001b[0;31m# caller's responsibility to check for this...\u001b[0m\u001b[0;34m\u001b[0m\u001b[0;34m\u001b[0m\u001b[0;34m\u001b[0m\u001b[0m\n\u001b[0;32m--> 692\u001b[0;31m             raise AssertionError(\n\u001b[0m\u001b[1;32m    693\u001b[0m                 \u001b[0;34mf\"{len(columns)} columns passed, passed data had \"\u001b[0m\u001b[0;34m\u001b[0m\u001b[0;34m\u001b[0m\u001b[0m\n",
      "\u001b[0;31mAssertionError\u001b[0m: 6 columns passed, passed data had 7 columns",
      "\nThe above exception was the direct cause of the following exception:\n",
      "\u001b[0;31mValueError\u001b[0m                                Traceback (most recent call last)",
      "\u001b[0;32m<ipython-input-14-07a4b091f275>\u001b[0m in \u001b[0;36m<module>\u001b[0;34m\u001b[0m\n\u001b[0;32m----> 1\u001b[0;31m \u001b[0mpd\u001b[0m\u001b[0;34m.\u001b[0m\u001b[0mDataFrame\u001b[0m\u001b[0;34m(\u001b[0m\u001b[0mdf_platforms\u001b[0m\u001b[0;34m,\u001b[0m\u001b[0mcolumns\u001b[0m \u001b[0;34m=\u001b[0m\u001b[0;34m[\u001b[0m\u001b[0;34m'name'\u001b[0m\u001b[0;34m,\u001b[0m \u001b[0;34m'id'\u001b[0m\u001b[0;34m,\u001b[0m\u001b[0;34m'url'\u001b[0m\u001b[0;34m,\u001b[0m\u001b[0;34m'creationDate'\u001b[0m\u001b[0;34m,\u001b[0m\u001b[0;34m'publishDate'\u001b[0m\u001b[0;34m,\u001b[0m\u001b[0;34m'active'\u001b[0m\u001b[0;34m]\u001b[0m\u001b[0;34m)\u001b[0m\u001b[0;34m.\u001b[0m\u001b[0mhead\u001b[0m\u001b[0;34m(\u001b[0m\u001b[0;34m)\u001b[0m\u001b[0;34m\u001b[0m\u001b[0;34m\u001b[0m\u001b[0m\n\u001b[0m",
      "\u001b[0;32m~/repository/dataengineer/awesome-dataengineer-masterclass/02_real_estate_roi_calculator/venv02_real/lib/python3.8/site-packages/pandas/core/frame.py\u001b[0m in \u001b[0;36m__init__\u001b[0;34m(self, data, index, columns, dtype, copy)\u001b[0m\n\u001b[1;32m    568\u001b[0m                     \u001b[0;32mif\u001b[0m \u001b[0mis_named_tuple\u001b[0m\u001b[0;34m(\u001b[0m\u001b[0mdata\u001b[0m\u001b[0;34m[\u001b[0m\u001b[0;36m0\u001b[0m\u001b[0;34m]\u001b[0m\u001b[0;34m)\u001b[0m \u001b[0;32mand\u001b[0m \u001b[0mcolumns\u001b[0m \u001b[0;32mis\u001b[0m \u001b[0;32mNone\u001b[0m\u001b[0;34m:\u001b[0m\u001b[0;34m\u001b[0m\u001b[0;34m\u001b[0m\u001b[0m\n\u001b[1;32m    569\u001b[0m                         \u001b[0mcolumns\u001b[0m \u001b[0;34m=\u001b[0m \u001b[0mdata\u001b[0m\u001b[0;34m[\u001b[0m\u001b[0;36m0\u001b[0m\u001b[0;34m]\u001b[0m\u001b[0;34m.\u001b[0m\u001b[0m_fields\u001b[0m\u001b[0;34m\u001b[0m\u001b[0;34m\u001b[0m\u001b[0m\n\u001b[0;32m--> 570\u001b[0;31m                     \u001b[0marrays\u001b[0m\u001b[0;34m,\u001b[0m \u001b[0mcolumns\u001b[0m \u001b[0;34m=\u001b[0m \u001b[0mto_arrays\u001b[0m\u001b[0;34m(\u001b[0m\u001b[0mdata\u001b[0m\u001b[0;34m,\u001b[0m \u001b[0mcolumns\u001b[0m\u001b[0;34m,\u001b[0m \u001b[0mdtype\u001b[0m\u001b[0;34m=\u001b[0m\u001b[0mdtype\u001b[0m\u001b[0;34m)\u001b[0m\u001b[0;34m\u001b[0m\u001b[0;34m\u001b[0m\u001b[0m\n\u001b[0m\u001b[1;32m    571\u001b[0m                     \u001b[0mcolumns\u001b[0m \u001b[0;34m=\u001b[0m \u001b[0mensure_index\u001b[0m\u001b[0;34m(\u001b[0m\u001b[0mcolumns\u001b[0m\u001b[0;34m)\u001b[0m\u001b[0;34m\u001b[0m\u001b[0;34m\u001b[0m\u001b[0m\n\u001b[1;32m    572\u001b[0m \u001b[0;34m\u001b[0m\u001b[0m\n",
      "\u001b[0;32m~/repository/dataengineer/awesome-dataengineer-masterclass/02_real_estate_roi_calculator/venv02_real/lib/python3.8/site-packages/pandas/core/internals/construction.py\u001b[0m in \u001b[0;36mto_arrays\u001b[0;34m(data, columns, coerce_float, dtype)\u001b[0m\n\u001b[1;32m    526\u001b[0m         \u001b[0;32mreturn\u001b[0m \u001b[0;34m[\u001b[0m\u001b[0;34m]\u001b[0m\u001b[0;34m,\u001b[0m \u001b[0;34m[\u001b[0m\u001b[0;34m]\u001b[0m  \u001b[0;31m# columns if columns is not None else []\u001b[0m\u001b[0;34m\u001b[0m\u001b[0;34m\u001b[0m\u001b[0m\n\u001b[1;32m    527\u001b[0m     \u001b[0;32mif\u001b[0m \u001b[0misinstance\u001b[0m\u001b[0;34m(\u001b[0m\u001b[0mdata\u001b[0m\u001b[0;34m[\u001b[0m\u001b[0;36m0\u001b[0m\u001b[0;34m]\u001b[0m\u001b[0;34m,\u001b[0m \u001b[0;34m(\u001b[0m\u001b[0mlist\u001b[0m\u001b[0;34m,\u001b[0m \u001b[0mtuple\u001b[0m\u001b[0;34m)\u001b[0m\u001b[0;34m)\u001b[0m\u001b[0;34m:\u001b[0m\u001b[0;34m\u001b[0m\u001b[0;34m\u001b[0m\u001b[0m\n\u001b[0;32m--> 528\u001b[0;31m         \u001b[0;32mreturn\u001b[0m \u001b[0m_list_to_arrays\u001b[0m\u001b[0;34m(\u001b[0m\u001b[0mdata\u001b[0m\u001b[0;34m,\u001b[0m \u001b[0mcolumns\u001b[0m\u001b[0;34m,\u001b[0m \u001b[0mcoerce_float\u001b[0m\u001b[0;34m=\u001b[0m\u001b[0mcoerce_float\u001b[0m\u001b[0;34m,\u001b[0m \u001b[0mdtype\u001b[0m\u001b[0;34m=\u001b[0m\u001b[0mdtype\u001b[0m\u001b[0;34m)\u001b[0m\u001b[0;34m\u001b[0m\u001b[0;34m\u001b[0m\u001b[0m\n\u001b[0m\u001b[1;32m    529\u001b[0m     \u001b[0;32melif\u001b[0m \u001b[0misinstance\u001b[0m\u001b[0;34m(\u001b[0m\u001b[0mdata\u001b[0m\u001b[0;34m[\u001b[0m\u001b[0;36m0\u001b[0m\u001b[0;34m]\u001b[0m\u001b[0;34m,\u001b[0m \u001b[0mabc\u001b[0m\u001b[0;34m.\u001b[0m\u001b[0mMapping\u001b[0m\u001b[0;34m)\u001b[0m\u001b[0;34m:\u001b[0m\u001b[0;34m\u001b[0m\u001b[0;34m\u001b[0m\u001b[0m\n\u001b[1;32m    530\u001b[0m         return _list_of_dict_to_arrays(\n",
      "\u001b[0;32m~/repository/dataengineer/awesome-dataengineer-masterclass/02_real_estate_roi_calculator/venv02_real/lib/python3.8/site-packages/pandas/core/internals/construction.py\u001b[0m in \u001b[0;36m_list_to_arrays\u001b[0;34m(data, columns, coerce_float, dtype)\u001b[0m\n\u001b[1;32m    569\u001b[0m         \u001b[0mresult\u001b[0m \u001b[0;34m=\u001b[0m \u001b[0m_convert_object_array\u001b[0m\u001b[0;34m(\u001b[0m\u001b[0mcontent\u001b[0m\u001b[0;34m,\u001b[0m \u001b[0mdtype\u001b[0m\u001b[0;34m=\u001b[0m\u001b[0mdtype\u001b[0m\u001b[0;34m,\u001b[0m \u001b[0mcoerce_float\u001b[0m\u001b[0;34m=\u001b[0m\u001b[0mcoerce_float\u001b[0m\u001b[0;34m)\u001b[0m\u001b[0;34m\u001b[0m\u001b[0;34m\u001b[0m\u001b[0m\n\u001b[1;32m    570\u001b[0m     \u001b[0;32mexcept\u001b[0m \u001b[0mAssertionError\u001b[0m \u001b[0;32mas\u001b[0m \u001b[0me\u001b[0m\u001b[0;34m:\u001b[0m\u001b[0;34m\u001b[0m\u001b[0;34m\u001b[0m\u001b[0m\n\u001b[0;32m--> 571\u001b[0;31m         \u001b[0;32mraise\u001b[0m \u001b[0mValueError\u001b[0m\u001b[0;34m(\u001b[0m\u001b[0me\u001b[0m\u001b[0;34m)\u001b[0m \u001b[0;32mfrom\u001b[0m \u001b[0me\u001b[0m\u001b[0;34m\u001b[0m\u001b[0;34m\u001b[0m\u001b[0m\n\u001b[0m\u001b[1;32m    572\u001b[0m     \u001b[0;32mreturn\u001b[0m \u001b[0mresult\u001b[0m\u001b[0;34m,\u001b[0m \u001b[0mcolumns\u001b[0m\u001b[0;34m\u001b[0m\u001b[0;34m\u001b[0m\u001b[0m\n\u001b[1;32m    573\u001b[0m \u001b[0;34m\u001b[0m\u001b[0m\n",
      "\u001b[0;31mValueError\u001b[0m: 6 columns passed, passed data had 7 columns"
     ]
    }
   ],
   "source": [
    "# pd.DataFrame(df_platforms,columns=['name', 'id','url','creationDate','publishDate','active']).head()\n"
   ]
  },
  {
   "cell_type": "code",
   "execution_count": 30,
   "metadata": {},
   "outputs": [
    {
     "output_type": "execute_result",
     "data": {
      "text/plain": [
       "(453,)"
      ]
     },
     "metadata": {},
     "execution_count": 30
    }
   ],
   "source": [
    "df['zip'].unique().shape"
   ]
  },
  {
   "cell_type": "code",
   "execution_count": 31,
   "metadata": {},
   "outputs": [
    {
     "output_type": "execute_result",
     "data": {
      "text/plain": [
       "                                   id  \\\n",
       "598  03cea8b4f5567cf35f2157e8c5a987f6   \n",
       "332  5f735a3dbeba16a87a25dda36c0eb17b   \n",
       "364  64ffd29d0af3e27e4a48bb61ab362d6b   \n",
       "173  bfb0e810d94459ec0c9f1af71f95d4c4   \n",
       "43   72949fa96c0d061c990762d271919054   \n",
       "\n",
       "                                                 title    zip  buyingPrice  \\\n",
       "598      Eigentumswohnung / Kapitalanlage zu verkaufen  31134     150000.0   \n",
       "332  Zweizimmerwohung zur Kapitalanlage mitten im G...  14532     295000.0   \n",
       "364  Barrierefreie Neubauwohnungen in Wachtberg mit...  53343     308000.0   \n",
       "173            Eigentumswohnung in kleiner Wohneinheit  58119     139000.0   \n",
       "43   Vermietete Immobilie für nur 100 € Zuzahlung p...  24534     119500.0   \n",
       "\n",
       "     rooms  squareMeter  comission  \\\n",
       "598    3.0        75.00        NaN   \n",
       "332    2.0        80.91        NaN   \n",
       "364    2.0        65.65        NaN   \n",
       "173    2.0        68.00        NaN   \n",
       "43     2.0        61.00        NaN   \n",
       "\n",
       "                                             platforms  rentPricePerSqm  \\\n",
       "598  [{'name': 'ebk', 'id': 'ebk0905d1a011b19884148...         7.093333   \n",
       "332  [{'name': 'is24', 'publishDate': '2021-01-14T1...        10.456062   \n",
       "364  [{'name': 'meinestadt', 'id': 'meinestadt55947...        10.632140   \n",
       "173  [{'name': 'ebk', 'id': 'ebk9570210834c99ce2021...         6.220588   \n",
       "43   [{'name': 'ebk', 'id': 'ebkb2f60135f55def4ecc9...         6.770492   \n",
       "\n",
       "     pricePerSqm  rentPrice  rentPriceCurrent  rentPriceCurrentPerSqm  \\\n",
       "598  2000.000000      532.0               NaN                     NaN   \n",
       "332  3646.026449      846.0            885.28                10.94154   \n",
       "364  4691.546078      698.0               NaN                     NaN   \n",
       "173  2044.117647      423.0               NaN                     NaN   \n",
       "43   1959.016393      413.0               NaN                     NaN   \n",
       "\n",
       "                                               address               region  \\\n",
       "598  {'ISO_3166-1_alpha-2': 'DE', 'ISO_3166-1_alpha...        Niedersachsen   \n",
       "332  {'ISO_3166-1_alpha-2': 'DE', 'ISO_3166-1_alpha...          Brandenburg   \n",
       "364  {'ISO_3166-1_alpha-2': 'DE', 'ISO_3166-1_alpha...  Nordrhein-Westfalen   \n",
       "173  {'ISO_3166-1_alpha-2': 'DE', 'ISO_3166-1_alpha...  Nordrhein-Westfalen   \n",
       "43   {'ISO_3166-1_alpha-2': 'DE', 'ISO_3166-1_alpha...   Schleswig-Holstein   \n",
       "\n",
       "     foreClosure                                     locationFactor  \\\n",
       "598        False  {'population': 101693, 'populationTrend': {'fr...   \n",
       "332        False  {'population': 0, 'populationTrend': {'from': ...   \n",
       "364        False  {'population': 0, 'populationTrend': {'from': ...   \n",
       "173        False  {'population': 188686, 'populationTrend': {'fr...   \n",
       "43         False  {'population': 80196, 'populationTrend': {'fro...   \n",
       "\n",
       "     grossReturn  grossReturnCurrent  constructionYear  apartmentType  \\\n",
       "598         4.26                 NaN            1964.0      APARTMENT   \n",
       "332         3.44                 3.6            1994.0   GROUND_FLOOR   \n",
       "364         2.72                 NaN               NaN  TERRACED_FLAT   \n",
       "173         3.65                 NaN            1990.0      APARTMENT   \n",
       "43          4.15                 NaN               NaN      APARTMENT   \n",
       "\n",
       "          condition  lastRefurbishment   lift  floor  numberOfFloors  balcony  \\\n",
       "598  FIRST_TIME_USE                NaN  False    NaN             NaN     True   \n",
       "332  NO_INFORMATION                NaN  False    NaN             2.0    False   \n",
       "364  FIRST_TIME_USE                NaN   True    NaN             NaN     True   \n",
       "173  NO_INFORMATION                NaN  False    NaN             NaN     True   \n",
       "43   FIRST_TIME_USE                NaN  False    NaN             NaN     True   \n",
       "\n",
       "     garden  active  rented               publishDate  privateOffer  \\\n",
       "598   False    True    True  2021-02-18T17:00:48.506Z          True   \n",
       "332    True    True    True  2021-02-18T20:59:58.924Z         False   \n",
       "364    True    True   False  2021-02-18T20:34:42.132Z         False   \n",
       "173   False    True   False  2021-02-19T05:21:53.580Z          True   \n",
       "43    False    True    True  2021-02-19T09:19:52.425Z         False   \n",
       "\n",
       "                                          aggregations  leasehold  \\\n",
       "598  {'district': {'name': 'Stadtmitte/Neustadt', '...      False   \n",
       "332  {'location': {'name': 'Kleinmachnow', 'buyingP...      False   \n",
       "364  {'location': {'name': 'Berkum', 'buyingPrice':...      False   \n",
       "173  {'district': {'name': 'Hohenlimburg', 'buyingP...      False   \n",
       "43   {'district': {'name': 'Innenstadt', 'buyingPri...      False   \n",
       "\n",
       "     priceInMarket                                           oAddress  \\\n",
       "598     108.695652  {'ebk': {'street': None, 'postcode': '31134', ...   \n",
       "332      89.939024  {'ivd24': {'street': 'Schillerstraße 8b', 'pos...   \n",
       "364     120.784314  {'meinestadt': {'street': 'alte molkerei 1', '...   \n",
       "173     114.876033  {'ebk': {'street': None, 'postcode': '58119', ...   \n",
       "43      121.938776  {'ebk': {'street': None, 'postcode': '24534', ...   \n",
       "\n",
       "                                       originalAddress  houseMoney  \\\n",
       "598  {'street': '', 'postcode': '31134', 'locationQ...       130.0   \n",
       "332  {'street': 'Schillerstraße 8b', 'postcode': '1...       460.0   \n",
       "364  {'street': 'alte molkerei 1', 'postcode': '533...         NaN   \n",
       "173  {'street': '', 'postcode': '58119', 'location'...       170.0   \n",
       "43   {'street': '', 'postcode': '24534', 'locationQ...         NaN   \n",
       "\n",
       "                                                images  \\\n",
       "598                                                 []   \n",
       "332  [{'id': '8d6e6121878fb77a917d40f52bda69b8', 'o...   \n",
       "364  [{'id': '0bff611b2013c51e44ecbf8e6f7a9314', 'o...   \n",
       "173                                                 []   \n",
       "43                                                  []   \n",
       "\n",
       "                                    buyingPriceHistory  priceReduced  \\\n",
       "598  [{'buyingPrice': 150000, 'platformName': 'ebk'...         False   \n",
       "332  [{'buyingPrice': 295000, 'platformName': 'ivd2...         False   \n",
       "364  [{'buyingPrice': 308000, 'platformName': 'mein...         False   \n",
       "173  [{'buyingPrice': 139000, 'platformName': 'ebk'...         False   \n",
       "43   [{'buyingPrice': 119500, 'platformName': 'ebk'...         False   \n",
       "\n",
       "    priceIncreased  runningTime             lastUpdatedAt  favorite  \\\n",
       "598          False            0  2021-02-19T06:07:31.941Z         0   \n",
       "332          False           35  2021-02-19T01:17:31.276Z         0   \n",
       "364          False            0  2021-02-19T07:18:17.096Z         0   \n",
       "173          False            0  2021-02-19T05:21:53.893Z         0   \n",
       "43           False            0  2021-02-19T09:19:58.827Z         0   \n",
       "\n",
       "    favoriteDate  cashFlow  ownCapitalReturn  cashFlowPerLivingUnit  hasImages  \n",
       "598         None    -80.03         -6.402667                 -80.03      False  \n",
       "332         None   -273.32        -11.118020                -273.32       True  \n",
       "364         None   -430.05        -16.755195                -430.05       True  \n",
       "173         None   -124.63        -10.759712                -124.63      False  \n",
       "43          None    -75.72         -7.603347                 -75.72      False  "
      ],
      "text/html": "<div>\n<style scoped>\n    .dataframe tbody tr th:only-of-type {\n        vertical-align: middle;\n    }\n\n    .dataframe tbody tr th {\n        vertical-align: top;\n    }\n\n    .dataframe thead th {\n        text-align: right;\n    }\n</style>\n<table border=\"1\" class=\"dataframe\">\n  <thead>\n    <tr style=\"text-align: right;\">\n      <th></th>\n      <th>id</th>\n      <th>title</th>\n      <th>zip</th>\n      <th>buyingPrice</th>\n      <th>rooms</th>\n      <th>squareMeter</th>\n      <th>comission</th>\n      <th>platforms</th>\n      <th>rentPricePerSqm</th>\n      <th>pricePerSqm</th>\n      <th>rentPrice</th>\n      <th>rentPriceCurrent</th>\n      <th>rentPriceCurrentPerSqm</th>\n      <th>address</th>\n      <th>region</th>\n      <th>foreClosure</th>\n      <th>locationFactor</th>\n      <th>grossReturn</th>\n      <th>grossReturnCurrent</th>\n      <th>constructionYear</th>\n      <th>apartmentType</th>\n      <th>condition</th>\n      <th>lastRefurbishment</th>\n      <th>lift</th>\n      <th>floor</th>\n      <th>numberOfFloors</th>\n      <th>balcony</th>\n      <th>garden</th>\n      <th>active</th>\n      <th>rented</th>\n      <th>publishDate</th>\n      <th>privateOffer</th>\n      <th>aggregations</th>\n      <th>leasehold</th>\n      <th>priceInMarket</th>\n      <th>oAddress</th>\n      <th>originalAddress</th>\n      <th>houseMoney</th>\n      <th>images</th>\n      <th>buyingPriceHistory</th>\n      <th>priceReduced</th>\n      <th>priceIncreased</th>\n      <th>runningTime</th>\n      <th>lastUpdatedAt</th>\n      <th>favorite</th>\n      <th>favoriteDate</th>\n      <th>cashFlow</th>\n      <th>ownCapitalReturn</th>\n      <th>cashFlowPerLivingUnit</th>\n      <th>hasImages</th>\n    </tr>\n  </thead>\n  <tbody>\n    <tr>\n      <th>598</th>\n      <td>03cea8b4f5567cf35f2157e8c5a987f6</td>\n      <td>Eigentumswohnung / Kapitalanlage zu verkaufen</td>\n      <td>31134</td>\n      <td>150000.0</td>\n      <td>3.0</td>\n      <td>75.00</td>\n      <td>NaN</td>\n      <td>[{'name': 'ebk', 'id': 'ebk0905d1a011b19884148...</td>\n      <td>7.093333</td>\n      <td>2000.000000</td>\n      <td>532.0</td>\n      <td>NaN</td>\n      <td>NaN</td>\n      <td>{'ISO_3166-1_alpha-2': 'DE', 'ISO_3166-1_alpha...</td>\n      <td>Niedersachsen</td>\n      <td>False</td>\n      <td>{'population': 101693, 'populationTrend': {'fr...</td>\n      <td>4.26</td>\n      <td>NaN</td>\n      <td>1964.0</td>\n      <td>APARTMENT</td>\n      <td>FIRST_TIME_USE</td>\n      <td>NaN</td>\n      <td>False</td>\n      <td>NaN</td>\n      <td>NaN</td>\n      <td>True</td>\n      <td>False</td>\n      <td>True</td>\n      <td>True</td>\n      <td>2021-02-18T17:00:48.506Z</td>\n      <td>True</td>\n      <td>{'district': {'name': 'Stadtmitte/Neustadt', '...</td>\n      <td>False</td>\n      <td>108.695652</td>\n      <td>{'ebk': {'street': None, 'postcode': '31134', ...</td>\n      <td>{'street': '', 'postcode': '31134', 'locationQ...</td>\n      <td>130.0</td>\n      <td>[]</td>\n      <td>[{'buyingPrice': 150000, 'platformName': 'ebk'...</td>\n      <td>False</td>\n      <td>False</td>\n      <td>0</td>\n      <td>2021-02-19T06:07:31.941Z</td>\n      <td>0</td>\n      <td>None</td>\n      <td>-80.03</td>\n      <td>-6.402667</td>\n      <td>-80.03</td>\n      <td>False</td>\n    </tr>\n    <tr>\n      <th>332</th>\n      <td>5f735a3dbeba16a87a25dda36c0eb17b</td>\n      <td>Zweizimmerwohung zur Kapitalanlage mitten im G...</td>\n      <td>14532</td>\n      <td>295000.0</td>\n      <td>2.0</td>\n      <td>80.91</td>\n      <td>NaN</td>\n      <td>[{'name': 'is24', 'publishDate': '2021-01-14T1...</td>\n      <td>10.456062</td>\n      <td>3646.026449</td>\n      <td>846.0</td>\n      <td>885.28</td>\n      <td>10.94154</td>\n      <td>{'ISO_3166-1_alpha-2': 'DE', 'ISO_3166-1_alpha...</td>\n      <td>Brandenburg</td>\n      <td>False</td>\n      <td>{'population': 0, 'populationTrend': {'from': ...</td>\n      <td>3.44</td>\n      <td>3.6</td>\n      <td>1994.0</td>\n      <td>GROUND_FLOOR</td>\n      <td>NO_INFORMATION</td>\n      <td>NaN</td>\n      <td>False</td>\n      <td>NaN</td>\n      <td>2.0</td>\n      <td>False</td>\n      <td>True</td>\n      <td>True</td>\n      <td>True</td>\n      <td>2021-02-18T20:59:58.924Z</td>\n      <td>False</td>\n      <td>{'location': {'name': 'Kleinmachnow', 'buyingP...</td>\n      <td>False</td>\n      <td>89.939024</td>\n      <td>{'ivd24': {'street': 'Schillerstraße 8b', 'pos...</td>\n      <td>{'street': 'Schillerstraße 8b', 'postcode': '1...</td>\n      <td>460.0</td>\n      <td>[{'id': '8d6e6121878fb77a917d40f52bda69b8', 'o...</td>\n      <td>[{'buyingPrice': 295000, 'platformName': 'ivd2...</td>\n      <td>False</td>\n      <td>False</td>\n      <td>35</td>\n      <td>2021-02-19T01:17:31.276Z</td>\n      <td>0</td>\n      <td>None</td>\n      <td>-273.32</td>\n      <td>-11.118020</td>\n      <td>-273.32</td>\n      <td>True</td>\n    </tr>\n    <tr>\n      <th>364</th>\n      <td>64ffd29d0af3e27e4a48bb61ab362d6b</td>\n      <td>Barrierefreie Neubauwohnungen in Wachtberg mit...</td>\n      <td>53343</td>\n      <td>308000.0</td>\n      <td>2.0</td>\n      <td>65.65</td>\n      <td>NaN</td>\n      <td>[{'name': 'meinestadt', 'id': 'meinestadt55947...</td>\n      <td>10.632140</td>\n      <td>4691.546078</td>\n      <td>698.0</td>\n      <td>NaN</td>\n      <td>NaN</td>\n      <td>{'ISO_3166-1_alpha-2': 'DE', 'ISO_3166-1_alpha...</td>\n      <td>Nordrhein-Westfalen</td>\n      <td>False</td>\n      <td>{'population': 0, 'populationTrend': {'from': ...</td>\n      <td>2.72</td>\n      <td>NaN</td>\n      <td>NaN</td>\n      <td>TERRACED_FLAT</td>\n      <td>FIRST_TIME_USE</td>\n      <td>NaN</td>\n      <td>True</td>\n      <td>NaN</td>\n      <td>NaN</td>\n      <td>True</td>\n      <td>True</td>\n      <td>True</td>\n      <td>False</td>\n      <td>2021-02-18T20:34:42.132Z</td>\n      <td>False</td>\n      <td>{'location': {'name': 'Berkum', 'buyingPrice':...</td>\n      <td>False</td>\n      <td>120.784314</td>\n      <td>{'meinestadt': {'street': 'alte molkerei 1', '...</td>\n      <td>{'street': 'alte molkerei 1', 'postcode': '533...</td>\n      <td>NaN</td>\n      <td>[{'id': '0bff611b2013c51e44ecbf8e6f7a9314', 'o...</td>\n      <td>[{'buyingPrice': 308000, 'platformName': 'mein...</td>\n      <td>False</td>\n      <td>False</td>\n      <td>0</td>\n      <td>2021-02-19T07:18:17.096Z</td>\n      <td>0</td>\n      <td>None</td>\n      <td>-430.05</td>\n      <td>-16.755195</td>\n      <td>-430.05</td>\n      <td>True</td>\n    </tr>\n    <tr>\n      <th>173</th>\n      <td>bfb0e810d94459ec0c9f1af71f95d4c4</td>\n      <td>Eigentumswohnung in kleiner Wohneinheit</td>\n      <td>58119</td>\n      <td>139000.0</td>\n      <td>2.0</td>\n      <td>68.00</td>\n      <td>NaN</td>\n      <td>[{'name': 'ebk', 'id': 'ebk9570210834c99ce2021...</td>\n      <td>6.220588</td>\n      <td>2044.117647</td>\n      <td>423.0</td>\n      <td>NaN</td>\n      <td>NaN</td>\n      <td>{'ISO_3166-1_alpha-2': 'DE', 'ISO_3166-1_alpha...</td>\n      <td>Nordrhein-Westfalen</td>\n      <td>False</td>\n      <td>{'population': 188686, 'populationTrend': {'fr...</td>\n      <td>3.65</td>\n      <td>NaN</td>\n      <td>1990.0</td>\n      <td>APARTMENT</td>\n      <td>NO_INFORMATION</td>\n      <td>NaN</td>\n      <td>False</td>\n      <td>NaN</td>\n      <td>NaN</td>\n      <td>True</td>\n      <td>False</td>\n      <td>True</td>\n      <td>False</td>\n      <td>2021-02-19T05:21:53.580Z</td>\n      <td>True</td>\n      <td>{'district': {'name': 'Hohenlimburg', 'buyingP...</td>\n      <td>False</td>\n      <td>114.876033</td>\n      <td>{'ebk': {'street': None, 'postcode': '58119', ...</td>\n      <td>{'street': '', 'postcode': '58119', 'location'...</td>\n      <td>170.0</td>\n      <td>[]</td>\n      <td>[{'buyingPrice': 139000, 'platformName': 'ebk'...</td>\n      <td>False</td>\n      <td>False</td>\n      <td>0</td>\n      <td>2021-02-19T05:21:53.893Z</td>\n      <td>0</td>\n      <td>None</td>\n      <td>-124.63</td>\n      <td>-10.759712</td>\n      <td>-124.63</td>\n      <td>False</td>\n    </tr>\n    <tr>\n      <th>43</th>\n      <td>72949fa96c0d061c990762d271919054</td>\n      <td>Vermietete Immobilie für nur 100 € Zuzahlung p...</td>\n      <td>24534</td>\n      <td>119500.0</td>\n      <td>2.0</td>\n      <td>61.00</td>\n      <td>NaN</td>\n      <td>[{'name': 'ebk', 'id': 'ebkb2f60135f55def4ecc9...</td>\n      <td>6.770492</td>\n      <td>1959.016393</td>\n      <td>413.0</td>\n      <td>NaN</td>\n      <td>NaN</td>\n      <td>{'ISO_3166-1_alpha-2': 'DE', 'ISO_3166-1_alpha...</td>\n      <td>Schleswig-Holstein</td>\n      <td>False</td>\n      <td>{'population': 80196, 'populationTrend': {'fro...</td>\n      <td>4.15</td>\n      <td>NaN</td>\n      <td>NaN</td>\n      <td>APARTMENT</td>\n      <td>FIRST_TIME_USE</td>\n      <td>NaN</td>\n      <td>False</td>\n      <td>NaN</td>\n      <td>NaN</td>\n      <td>True</td>\n      <td>False</td>\n      <td>True</td>\n      <td>True</td>\n      <td>2021-02-19T09:19:52.425Z</td>\n      <td>False</td>\n      <td>{'district': {'name': 'Innenstadt', 'buyingPri...</td>\n      <td>False</td>\n      <td>121.938776</td>\n      <td>{'ebk': {'street': None, 'postcode': '24534', ...</td>\n      <td>{'street': '', 'postcode': '24534', 'locationQ...</td>\n      <td>NaN</td>\n      <td>[]</td>\n      <td>[{'buyingPrice': 119500, 'platformName': 'ebk'...</td>\n      <td>False</td>\n      <td>False</td>\n      <td>0</td>\n      <td>2021-02-19T09:19:58.827Z</td>\n      <td>0</td>\n      <td>None</td>\n      <td>-75.72</td>\n      <td>-7.603347</td>\n      <td>-75.72</td>\n      <td>False</td>\n    </tr>\n  </tbody>\n</table>\n</div>"
     },
     "metadata": {},
     "execution_count": 31
    }
   ],
   "source": [
    "df[df['comission'].isnull()].sample(5)"
   ]
  },
  {
   "cell_type": "code",
   "execution_count": 32,
   "metadata": {},
   "outputs": [
    {
     "output_type": "stream",
     "name": "stdout",
     "text": [
      "<class 'pandas.core.frame.DataFrame'>\nRangeIndex: 600 entries, 0 to 599\nData columns (total 50 columns):\n #   Column                  Non-Null Count  Dtype  \n---  ------                  --------------  -----  \n 0   id                      600 non-null    object \n 1   title                   600 non-null    object \n 2   zip                     600 non-null    object \n 3   buyingPrice             584 non-null    float64\n 4   rooms                   581 non-null    float64\n 5   squareMeter             597 non-null    float64\n 6   comission               278 non-null    float64\n 7   platforms               600 non-null    object \n 8   rentPricePerSqm         599 non-null    float64\n 9   pricePerSqm             584 non-null    float64\n 10  rentPrice               596 non-null    float64\n 11  rentPriceCurrent        51 non-null     float64\n 12  rentPriceCurrentPerSqm  51 non-null     float64\n 13  address                 599 non-null    object \n 14  region                  599 non-null    object \n 15  foreClosure             600 non-null    bool   \n 16  locationFactor          599 non-null    object \n 17  grossReturn             581 non-null    float64\n 18  grossReturnCurrent      51 non-null     float64\n 19  constructionYear        481 non-null    float64\n 20  apartmentType           600 non-null    object \n 21  condition               600 non-null    object \n 22  lastRefurbishment       86 non-null     float64\n 23  lift                    600 non-null    bool   \n 24  floor                   202 non-null    float64\n 25  numberOfFloors          227 non-null    float64\n 26  balcony                 600 non-null    bool   \n 27  garden                  600 non-null    bool   \n 28  active                  600 non-null    bool   \n 29  rented                  600 non-null    bool   \n 30  publishDate             600 non-null    object \n 31  privateOffer            600 non-null    bool   \n 32  aggregations            600 non-null    object \n 33  leasehold               600 non-null    bool   \n 34  priceInMarket           597 non-null    float64\n 35  oAddress                600 non-null    object \n 36  originalAddress         600 non-null    object \n 37  houseMoney              226 non-null    float64\n 38  images                  600 non-null    object \n 39  buyingPriceHistory      600 non-null    object \n 40  priceReduced            600 non-null    bool   \n 41  priceIncreased          584 non-null    object \n 42  runningTime             600 non-null    int64  \n 43  lastUpdatedAt           600 non-null    object \n 44  favorite                600 non-null    int64  \n 45  favoriteDate            0 non-null      object \n 46  cashFlow                600 non-null    float64\n 47  ownCapitalReturn        600 non-null    float64\n 48  cashFlowPerLivingUnit   600 non-null    float64\n 49  hasImages               600 non-null    bool   \ndtypes: bool(10), float64(20), int64(2), object(18)\nmemory usage: 193.5+ KB\n"
     ]
    }
   ],
   "source": [
    "# Check null values and unique values\n",
    "df.info()"
   ]
  },
  {
   "cell_type": "code",
   "execution_count": 33,
   "metadata": {},
   "outputs": [
    {
     "output_type": "execute_result",
     "data": {
      "text/plain": [
       "zip\n",
       "22301   -8702.43\n",
       "81245   -5402.95\n",
       "80639   -5040.90\n",
       "22529   -4031.55\n",
       "10785   -3959.82\n",
       "50933   -2775.55\n",
       "82131   -2601.13\n",
       "60598   -2539.73\n",
       "14167   -2485.93\n",
       "10719   -2206.43\n",
       "Name: cashFlow, dtype: float64"
      ]
     },
     "metadata": {},
     "execution_count": 33
    }
   ],
   "source": [
    "# group by city\n",
    "# group by type\n",
    "df.groupby(\"zip\")['cashFlow'].max().sort_values()[:10]"
   ]
  },
  {
   "cell_type": "markdown",
   "metadata": {},
   "source": [
    "# Database"
   ]
  },
  {
   "cell_type": "code",
   "execution_count": 35,
   "metadata": {},
   "outputs": [],
   "source": [
    "import psycopg2\n",
    "import pandas as pd\n",
    "import os\n",
    "from dotenv import load_dotenv\n",
    "\n",
    "load_dotenv()\n",
    "\n",
    "DB_HOST = os.getenv('DB_HOST')\n",
    "DB_NAME  = os.getenv('DB_NAME')\n",
    "DB_USER  = os.getenv('DB_USER')\n",
    "DB_PASSWORD  = os.getenv('DB_PASSWORD')\n",
    "\n",
    "connection_parameter = {\n",
    "    \"host\"      : DB_HOST,\n",
    "    \"database\"  : DB_NAME,\n",
    "    \"user\"      : DB_USER,\n",
    "    \"password\"  : DB_PASSWORD\n",
    "}\n",
    "\n",
    "def connect(connection_parameter):\n",
    "    \"\"\" Connect to the PostgreSQL database server \"\"\"\n",
    "    conn = None\n",
    "    try:\n",
    "        # connect to the PostgreSQL server\n",
    "        print('Connecting to the PostgreSQL database...')\n",
    "        conn = psycopg2.connect(**connection_parameter)\n",
    "    except (Exception, psycopg2.DatabaseError) as error:\n",
    "        print(error)\n",
    "        sys.exit(1)\n",
    "    print(\"Connection successful\")\n",
    "    return conn\n",
    "\n",
    "def postgresql_to_dataframe(conn, select_query):\n",
    "    \"\"\"\n",
    "    Tranform a SELECT query into a pandas dataframe\n",
    "    \"\"\"\n",
    "    # cursor = conn.cursor()\n",
    "    # try:\n",
    "    #     cursor.execute(select_query)\n",
    "    # except (Exception, psycopg2.DatabaseError) as error:\n",
    "    #     print(\"Error: %s\" % error)\n",
    "    #     cursor.close()\n",
    "    #     return 1\n",
    "    \n",
    "    # # Naturally we get a list of tupples\n",
    "    # tupples = cursor.fetchall()\n",
    "    # cursor.close()\n",
    "    print(\"Read from table\")\n",
    "    df = pd.read_sql_query(select_query,con=conn)\n",
    "    \n",
    "    # We just need to turn it into a pandas dataframe\n",
    "    # df = pd.DataFrame(tupples, columns=column_names)\n",
    "    return df"
   ]
  },
  {
   "cell_type": "code",
   "execution_count": 2,
   "metadata": {},
   "outputs": [],
   "source": []
  },
  {
   "cell_type": "code",
   "execution_count": 21,
   "metadata": {},
   "outputs": [
    {
     "output_type": "stream",
     "name": "stdout",
     "text": [
      "Connecting to the PostgreSQL database...\n",
      "Connection successful\n",
      "Read from table\n"
     ]
    },
    {
     "output_type": "execute_result",
     "data": {
      "text/plain": [
       "      id  active                       property_id  \\\n",
       "0  45857    True  6a867704a532a627f707d778d30d8439   \n",
       "1  33503    True  f65bb574710bc2bb043bea8069d10131   \n",
       "2  33504    True  5835cc06d03607cc80f642d982de4eff   \n",
       "3  34809    True  68e621da2bb7a3b7bb8557f04b74f3bd   \n",
       "4  35827    True  4813f6cbf82e17c704360dcad5aa5480   \n",
       "\n",
       "                                        property_url  source_id source_portal  \\\n",
       "0  https://www.immobilienscout24.de/expose/116894250  116894250          is24   \n",
       "1  https://www.immobilienscout24.de/expose/120330418  120330418          is24   \n",
       "2  https://www.immobilienscout24.de/expose/120331198  120331198          is24   \n",
       "3  https://www.immobilienscout24.de/expose/122422682  122422682          is24   \n",
       "4  https://www.immobilienscout24.de/expose/122184987  122184987          is24   \n",
       "\n",
       "  property_type                                         image_urls  \\\n",
       "0          flat  https://pictures.immobilienscout24.de/listings...   \n",
       "1          flat  https://pictures.immobilienscout24.de/listings...   \n",
       "2          flat  https://pictures.immobilienscout24.de/listings...   \n",
       "3          flat  https://pictures.immobilienscout24.de/listings...   \n",
       "4          flat  https://pictures.immobilienscout24.de/listings...   \n",
       "\n",
       "                                      image_captions          city  \\\n",
       "0            1AA1\\n3ABD\\n7\\nLogopartner\\nLogopartner        Berlin   \n",
       "1  Gartenperspektive\\nInnenraumperspektive\\nVogel...  Obersontheim   \n",
       "2  Gartenperspektive\\nInnenraumperspektive\\nVogel...  Obersontheim   \n",
       "3  Diele\\nHausflur\\nKüche\\nBadezimmer\\nGäste-WC\\n...    Düsseldorf   \n",
       "4  Wohnzimmer\\nAußenansicht\\nBadezimmer Beispiel\\...        Nieste   \n",
       "\n",
       "                                               title  \\\n",
       "0  HERRSCHAFTLICHE GARTENRESIDENZ mit Privatgarte...   \n",
       "1  Exklusives 5-Zimmer-Penthouse mit Dachterrasse...   \n",
       "2  Raum & Lebensfreunde! Repräsentatives 5-Zimmer...   \n",
       "3  Sanierte und barrierefreie 4-Zimmer-Wohnung mi...   \n",
       "4                        Wohnen im Herzen von Nieste   \n",
       "\n",
       "                                          address  rooms  living_space  floor  \\\n",
       "0                 Tiergarten, Berlin, Deutschland    2.0         73.00    NaN   \n",
       "1  Frankenstraße, 74423 Obersontheim, Deutschland    5.0        127.79    NaN   \n",
       "2  Frankenstraße, 74423 Obersontheim, Deutschland    4.0        138.44    NaN   \n",
       "3       Holthausen, 40589 Düsseldorf, Deutschland    4.0         90.00    NaN   \n",
       "4                       34329 Nieste, Deutschland    3.0         93.90    NaN   \n",
       "\n",
       "   no_of_floors  construction_year       condition   latitude  longitude  \\\n",
       "0           4.0             1880.0  FIRST_TIME_USE  52.509778  13.357260   \n",
       "1           NaN             2021.0  FIRST_TIME_USE  49.058834   9.887907   \n",
       "2           NaN             2021.0  FIRST_TIME_USE  49.058834   9.887907   \n",
       "3           NaN             1967.0  NO_INFORMATION  51.175156   6.832360   \n",
       "4           3.0             2020.0  FIRST_TIME_USE  51.312294   9.670994   \n",
       "\n",
       "  zipcode foreclosure is_rented_out                       created_at  \\\n",
       "0   10785       False         False 2020-12-15 15:59:06.680017+00:00   \n",
       "1   74423       False         False 2020-12-13 15:34:46.452927+00:00   \n",
       "2   74423       False         False 2020-12-13 15:34:46.464072+00:00   \n",
       "3   40589       False         False 2020-12-13 15:37:15.498003+00:00   \n",
       "4   34329       False         False 2020-12-13 15:39:42.735693+00:00   \n",
       "\n",
       "                        updated_at  price_id  \n",
       "0 2020-12-15 15:59:06.684562+00:00   46854.0  \n",
       "1 2020-12-15 15:38:05.368774+00:00   33650.0  \n",
       "2 2020-12-15 15:38:05.374792+00:00   33651.0  \n",
       "3 2020-12-15 15:40:34.740057+00:00   34956.0  \n",
       "4 2020-12-15 15:43:02.089328+00:00   35974.0  "
      ],
      "text/html": "<div>\n<style scoped>\n    .dataframe tbody tr th:only-of-type {\n        vertical-align: middle;\n    }\n\n    .dataframe tbody tr th {\n        vertical-align: top;\n    }\n\n    .dataframe thead th {\n        text-align: right;\n    }\n</style>\n<table border=\"1\" class=\"dataframe\">\n  <thead>\n    <tr style=\"text-align: right;\">\n      <th></th>\n      <th>id</th>\n      <th>active</th>\n      <th>property_id</th>\n      <th>property_url</th>\n      <th>source_id</th>\n      <th>source_portal</th>\n      <th>property_type</th>\n      <th>image_urls</th>\n      <th>image_captions</th>\n      <th>city</th>\n      <th>title</th>\n      <th>address</th>\n      <th>rooms</th>\n      <th>living_space</th>\n      <th>floor</th>\n      <th>no_of_floors</th>\n      <th>construction_year</th>\n      <th>condition</th>\n      <th>latitude</th>\n      <th>longitude</th>\n      <th>zipcode</th>\n      <th>foreclosure</th>\n      <th>is_rented_out</th>\n      <th>created_at</th>\n      <th>updated_at</th>\n      <th>price_id</th>\n    </tr>\n  </thead>\n  <tbody>\n    <tr>\n      <th>0</th>\n      <td>45857</td>\n      <td>True</td>\n      <td>6a867704a532a627f707d778d30d8439</td>\n      <td>https://www.immobilienscout24.de/expose/116894250</td>\n      <td>116894250</td>\n      <td>is24</td>\n      <td>flat</td>\n      <td>https://pictures.immobilienscout24.de/listings...</td>\n      <td>1AA1\\n3ABD\\n7\\nLogopartner\\nLogopartner</td>\n      <td>Berlin</td>\n      <td>HERRSCHAFTLICHE GARTENRESIDENZ mit Privatgarte...</td>\n      <td>Tiergarten, Berlin, Deutschland</td>\n      <td>2.0</td>\n      <td>73.00</td>\n      <td>NaN</td>\n      <td>4.0</td>\n      <td>1880.0</td>\n      <td>FIRST_TIME_USE</td>\n      <td>52.509778</td>\n      <td>13.357260</td>\n      <td>10785</td>\n      <td>False</td>\n      <td>False</td>\n      <td>2020-12-15 15:59:06.680017+00:00</td>\n      <td>2020-12-15 15:59:06.684562+00:00</td>\n      <td>46854.0</td>\n    </tr>\n    <tr>\n      <th>1</th>\n      <td>33503</td>\n      <td>True</td>\n      <td>f65bb574710bc2bb043bea8069d10131</td>\n      <td>https://www.immobilienscout24.de/expose/120330418</td>\n      <td>120330418</td>\n      <td>is24</td>\n      <td>flat</td>\n      <td>https://pictures.immobilienscout24.de/listings...</td>\n      <td>Gartenperspektive\\nInnenraumperspektive\\nVogel...</td>\n      <td>Obersontheim</td>\n      <td>Exklusives 5-Zimmer-Penthouse mit Dachterrasse...</td>\n      <td>Frankenstraße, 74423 Obersontheim, Deutschland</td>\n      <td>5.0</td>\n      <td>127.79</td>\n      <td>NaN</td>\n      <td>NaN</td>\n      <td>2021.0</td>\n      <td>FIRST_TIME_USE</td>\n      <td>49.058834</td>\n      <td>9.887907</td>\n      <td>74423</td>\n      <td>False</td>\n      <td>False</td>\n      <td>2020-12-13 15:34:46.452927+00:00</td>\n      <td>2020-12-15 15:38:05.368774+00:00</td>\n      <td>33650.0</td>\n    </tr>\n    <tr>\n      <th>2</th>\n      <td>33504</td>\n      <td>True</td>\n      <td>5835cc06d03607cc80f642d982de4eff</td>\n      <td>https://www.immobilienscout24.de/expose/120331198</td>\n      <td>120331198</td>\n      <td>is24</td>\n      <td>flat</td>\n      <td>https://pictures.immobilienscout24.de/listings...</td>\n      <td>Gartenperspektive\\nInnenraumperspektive\\nVogel...</td>\n      <td>Obersontheim</td>\n      <td>Raum &amp; Lebensfreunde! Repräsentatives 5-Zimmer...</td>\n      <td>Frankenstraße, 74423 Obersontheim, Deutschland</td>\n      <td>4.0</td>\n      <td>138.44</td>\n      <td>NaN</td>\n      <td>NaN</td>\n      <td>2021.0</td>\n      <td>FIRST_TIME_USE</td>\n      <td>49.058834</td>\n      <td>9.887907</td>\n      <td>74423</td>\n      <td>False</td>\n      <td>False</td>\n      <td>2020-12-13 15:34:46.464072+00:00</td>\n      <td>2020-12-15 15:38:05.374792+00:00</td>\n      <td>33651.0</td>\n    </tr>\n    <tr>\n      <th>3</th>\n      <td>34809</td>\n      <td>True</td>\n      <td>68e621da2bb7a3b7bb8557f04b74f3bd</td>\n      <td>https://www.immobilienscout24.de/expose/122422682</td>\n      <td>122422682</td>\n      <td>is24</td>\n      <td>flat</td>\n      <td>https://pictures.immobilienscout24.de/listings...</td>\n      <td>Diele\\nHausflur\\nKüche\\nBadezimmer\\nGäste-WC\\n...</td>\n      <td>Düsseldorf</td>\n      <td>Sanierte und barrierefreie 4-Zimmer-Wohnung mi...</td>\n      <td>Holthausen, 40589 Düsseldorf, Deutschland</td>\n      <td>4.0</td>\n      <td>90.00</td>\n      <td>NaN</td>\n      <td>NaN</td>\n      <td>1967.0</td>\n      <td>NO_INFORMATION</td>\n      <td>51.175156</td>\n      <td>6.832360</td>\n      <td>40589</td>\n      <td>False</td>\n      <td>False</td>\n      <td>2020-12-13 15:37:15.498003+00:00</td>\n      <td>2020-12-15 15:40:34.740057+00:00</td>\n      <td>34956.0</td>\n    </tr>\n    <tr>\n      <th>4</th>\n      <td>35827</td>\n      <td>True</td>\n      <td>4813f6cbf82e17c704360dcad5aa5480</td>\n      <td>https://www.immobilienscout24.de/expose/122184987</td>\n      <td>122184987</td>\n      <td>is24</td>\n      <td>flat</td>\n      <td>https://pictures.immobilienscout24.de/listings...</td>\n      <td>Wohnzimmer\\nAußenansicht\\nBadezimmer Beispiel\\...</td>\n      <td>Nieste</td>\n      <td>Wohnen im Herzen von Nieste</td>\n      <td>34329 Nieste, Deutschland</td>\n      <td>3.0</td>\n      <td>93.90</td>\n      <td>NaN</td>\n      <td>3.0</td>\n      <td>2020.0</td>\n      <td>FIRST_TIME_USE</td>\n      <td>51.312294</td>\n      <td>9.670994</td>\n      <td>34329</td>\n      <td>False</td>\n      <td>False</td>\n      <td>2020-12-13 15:39:42.735693+00:00</td>\n      <td>2020-12-15 15:43:02.089328+00:00</td>\n      <td>35974.0</td>\n    </tr>\n  </tbody>\n</table>\n</div>"
     },
     "metadata": {},
     "execution_count": 21
    }
   ],
   "source": [
    "# Connect to the database\n",
    "conn = connect(connection_parameter)\n",
    "column_names = []#[\"id\", \"source\", \"datetime\", \"mean_temp\"]\n",
    "# Execute the \"SELECT *\" query\n",
    "df = postgresql_to_dataframe(conn, \"SELECT * FROM public.api_liveaiproperty\")\n",
    "df.head()"
   ]
  },
  {
   "cell_type": "code",
   "execution_count": 36,
   "metadata": {},
   "outputs": [
    {
     "output_type": "execute_result",
     "data": {
      "text/plain": [
       "(600, 50)"
      ]
     },
     "metadata": {},
     "execution_count": 36
    }
   ],
   "source": [
    "df.shape"
   ]
  },
  {
   "cell_type": "code",
   "execution_count": 37,
   "metadata": {},
   "outputs": [
    {
     "output_type": "execute_result",
     "data": {
      "text/plain": [
       "Index(['id', 'title', 'zip', 'platforms', 'address', 'region',\n",
       "       'locationFactor', 'apartmentType', 'condition', 'publishDate',\n",
       "       'aggregations', 'oAddress', 'originalAddress', 'images',\n",
       "       'buyingPriceHistory', 'priceIncreased', 'lastUpdatedAt',\n",
       "       'favoriteDate'],\n",
       "      dtype='object')"
      ]
     },
     "metadata": {},
     "execution_count": 37
    }
   ],
   "source": [
    "df.columns[df.dtypes == object]"
   ]
  },
  {
   "cell_type": "code",
   "execution_count": 38,
   "metadata": {},
   "outputs": [
    {
     "output_type": "error",
     "ename": "KeyError",
     "evalue": "'property_id'",
     "traceback": [
      "\u001b[0;31m---------------------------------------------------------------------------\u001b[0m",
      "\u001b[0;31mKeyError\u001b[0m                                  Traceback (most recent call last)",
      "\u001b[0;32m~/repository/dataengineer/awesome-dataengineer-masterclass/02_real_estate_roi_calculator/venv02_real/lib/python3.8/site-packages/pandas/core/indexes/base.py\u001b[0m in \u001b[0;36mget_loc\u001b[0;34m(self, key, method, tolerance)\u001b[0m\n\u001b[1;32m   3079\u001b[0m             \u001b[0;32mtry\u001b[0m\u001b[0;34m:\u001b[0m\u001b[0;34m\u001b[0m\u001b[0;34m\u001b[0m\u001b[0m\n\u001b[0;32m-> 3080\u001b[0;31m                 \u001b[0;32mreturn\u001b[0m \u001b[0mself\u001b[0m\u001b[0;34m.\u001b[0m\u001b[0m_engine\u001b[0m\u001b[0;34m.\u001b[0m\u001b[0mget_loc\u001b[0m\u001b[0;34m(\u001b[0m\u001b[0mcasted_key\u001b[0m\u001b[0;34m)\u001b[0m\u001b[0;34m\u001b[0m\u001b[0;34m\u001b[0m\u001b[0m\n\u001b[0m\u001b[1;32m   3081\u001b[0m             \u001b[0;32mexcept\u001b[0m \u001b[0mKeyError\u001b[0m \u001b[0;32mas\u001b[0m \u001b[0merr\u001b[0m\u001b[0;34m:\u001b[0m\u001b[0;34m\u001b[0m\u001b[0;34m\u001b[0m\u001b[0m\n",
      "\u001b[0;32mpandas/_libs/index.pyx\u001b[0m in \u001b[0;36mpandas._libs.index.IndexEngine.get_loc\u001b[0;34m()\u001b[0m\n",
      "\u001b[0;32mpandas/_libs/index.pyx\u001b[0m in \u001b[0;36mpandas._libs.index.IndexEngine.get_loc\u001b[0;34m()\u001b[0m\n",
      "\u001b[0;32mpandas/_libs/hashtable_class_helper.pxi\u001b[0m in \u001b[0;36mpandas._libs.hashtable.PyObjectHashTable.get_item\u001b[0;34m()\u001b[0m\n",
      "\u001b[0;32mpandas/_libs/hashtable_class_helper.pxi\u001b[0m in \u001b[0;36mpandas._libs.hashtable.PyObjectHashTable.get_item\u001b[0;34m()\u001b[0m\n",
      "\u001b[0;31mKeyError\u001b[0m: 'property_id'",
      "\nThe above exception was the direct cause of the following exception:\n",
      "\u001b[0;31mKeyError\u001b[0m                                  Traceback (most recent call last)",
      "\u001b[0;32m<ipython-input-38-79068cd0e6af>\u001b[0m in \u001b[0;36m<module>\u001b[0;34m\u001b[0m\n\u001b[1;32m      4\u001b[0m        'address', 'condition', 'zipcode']\n\u001b[1;32m      5\u001b[0m \u001b[0;32mfor\u001b[0m \u001b[0mcolumn\u001b[0m \u001b[0;32min\u001b[0m \u001b[0mcolumns_strings\u001b[0m\u001b[0;34m:\u001b[0m\u001b[0;34m\u001b[0m\u001b[0;34m\u001b[0m\u001b[0m\n\u001b[0;32m----> 6\u001b[0;31m     \u001b[0mprint\u001b[0m\u001b[0;34m(\u001b[0m\u001b[0;34mf\"Column: {column}: {df[column].str.len().max()}\"\u001b[0m\u001b[0;34m)\u001b[0m\u001b[0;34m\u001b[0m\u001b[0;34m\u001b[0m\u001b[0m\n\u001b[0m",
      "\u001b[0;32m~/repository/dataengineer/awesome-dataengineer-masterclass/02_real_estate_roi_calculator/venv02_real/lib/python3.8/site-packages/pandas/core/frame.py\u001b[0m in \u001b[0;36m__getitem__\u001b[0;34m(self, key)\u001b[0m\n\u001b[1;32m   3022\u001b[0m             \u001b[0;32mif\u001b[0m \u001b[0mself\u001b[0m\u001b[0;34m.\u001b[0m\u001b[0mcolumns\u001b[0m\u001b[0;34m.\u001b[0m\u001b[0mnlevels\u001b[0m \u001b[0;34m>\u001b[0m \u001b[0;36m1\u001b[0m\u001b[0;34m:\u001b[0m\u001b[0;34m\u001b[0m\u001b[0;34m\u001b[0m\u001b[0m\n\u001b[1;32m   3023\u001b[0m                 \u001b[0;32mreturn\u001b[0m \u001b[0mself\u001b[0m\u001b[0;34m.\u001b[0m\u001b[0m_getitem_multilevel\u001b[0m\u001b[0;34m(\u001b[0m\u001b[0mkey\u001b[0m\u001b[0;34m)\u001b[0m\u001b[0;34m\u001b[0m\u001b[0;34m\u001b[0m\u001b[0m\n\u001b[0;32m-> 3024\u001b[0;31m             \u001b[0mindexer\u001b[0m \u001b[0;34m=\u001b[0m \u001b[0mself\u001b[0m\u001b[0;34m.\u001b[0m\u001b[0mcolumns\u001b[0m\u001b[0;34m.\u001b[0m\u001b[0mget_loc\u001b[0m\u001b[0;34m(\u001b[0m\u001b[0mkey\u001b[0m\u001b[0;34m)\u001b[0m\u001b[0;34m\u001b[0m\u001b[0;34m\u001b[0m\u001b[0m\n\u001b[0m\u001b[1;32m   3025\u001b[0m             \u001b[0;32mif\u001b[0m \u001b[0mis_integer\u001b[0m\u001b[0;34m(\u001b[0m\u001b[0mindexer\u001b[0m\u001b[0;34m)\u001b[0m\u001b[0;34m:\u001b[0m\u001b[0;34m\u001b[0m\u001b[0;34m\u001b[0m\u001b[0m\n\u001b[1;32m   3026\u001b[0m                 \u001b[0mindexer\u001b[0m \u001b[0;34m=\u001b[0m \u001b[0;34m[\u001b[0m\u001b[0mindexer\u001b[0m\u001b[0;34m]\u001b[0m\u001b[0;34m\u001b[0m\u001b[0;34m\u001b[0m\u001b[0m\n",
      "\u001b[0;32m~/repository/dataengineer/awesome-dataengineer-masterclass/02_real_estate_roi_calculator/venv02_real/lib/python3.8/site-packages/pandas/core/indexes/base.py\u001b[0m in \u001b[0;36mget_loc\u001b[0;34m(self, key, method, tolerance)\u001b[0m\n\u001b[1;32m   3080\u001b[0m                 \u001b[0;32mreturn\u001b[0m \u001b[0mself\u001b[0m\u001b[0;34m.\u001b[0m\u001b[0m_engine\u001b[0m\u001b[0;34m.\u001b[0m\u001b[0mget_loc\u001b[0m\u001b[0;34m(\u001b[0m\u001b[0mcasted_key\u001b[0m\u001b[0;34m)\u001b[0m\u001b[0;34m\u001b[0m\u001b[0;34m\u001b[0m\u001b[0m\n\u001b[1;32m   3081\u001b[0m             \u001b[0;32mexcept\u001b[0m \u001b[0mKeyError\u001b[0m \u001b[0;32mas\u001b[0m \u001b[0merr\u001b[0m\u001b[0;34m:\u001b[0m\u001b[0;34m\u001b[0m\u001b[0;34m\u001b[0m\u001b[0m\n\u001b[0;32m-> 3082\u001b[0;31m                 \u001b[0;32mraise\u001b[0m \u001b[0mKeyError\u001b[0m\u001b[0;34m(\u001b[0m\u001b[0mkey\u001b[0m\u001b[0;34m)\u001b[0m \u001b[0;32mfrom\u001b[0m \u001b[0merr\u001b[0m\u001b[0;34m\u001b[0m\u001b[0;34m\u001b[0m\u001b[0m\n\u001b[0m\u001b[1;32m   3083\u001b[0m \u001b[0;34m\u001b[0m\u001b[0m\n\u001b[1;32m   3084\u001b[0m         \u001b[0;32mif\u001b[0m \u001b[0mtolerance\u001b[0m \u001b[0;32mis\u001b[0m \u001b[0;32mnot\u001b[0m \u001b[0;32mNone\u001b[0m\u001b[0;34m:\u001b[0m\u001b[0;34m\u001b[0m\u001b[0;34m\u001b[0m\u001b[0m\n",
      "\u001b[0;31mKeyError\u001b[0m: 'property_id'"
     ]
    }
   ],
   "source": [
    "#columns_strings = df.columns[df.dtypes == object]\n",
    "columns_strings = ['property_id', 'property_url', 'source_id', 'source_portal',\n",
    "       'property_type', 'image_urls', 'image_captions', 'city', 'title',\n",
    "       'address', 'condition', 'zipcode']\n",
    "for column in columns_strings:\n",
    "    print(f\"Column: {column}: {df[column].str.len().max()}\")"
   ]
  },
  {
   "cell_type": "markdown",
   "metadata": {},
   "source": [
    "# ROI Calculation"
   ]
  },
  {
   "cell_type": "code",
   "execution_count": 39,
   "metadata": {},
   "outputs": [
    {
     "output_type": "error",
     "ename": "ModuleNotFoundError",
     "evalue": "No module named 'roi_utils'",
     "traceback": [
      "\u001b[0;31m---------------------------------------------------------------------------\u001b[0m",
      "\u001b[0;31mModuleNotFoundError\u001b[0m                       Traceback (most recent call last)",
      "\u001b[0;32m<ipython-input-39-c2ee71ad7687>\u001b[0m in \u001b[0;36m<module>\u001b[0;34m\u001b[0m\n\u001b[0;32m----> 1\u001b[0;31m \u001b[0;32mfrom\u001b[0m \u001b[0mroi_utils\u001b[0m \u001b[0;32mimport\u001b[0m \u001b[0mget_roi_gross\u001b[0m\u001b[0;34m,\u001b[0m \u001b[0mget_cashflow_after_operating_expenses\u001b[0m\u001b[0;34m,\u001b[0m \u001b[0mget_cashflow_after_taxes\u001b[0m\u001b[0;34m,\u001b[0m \u001b[0mget_cashflow_after_reserves\u001b[0m\u001b[0;34m,\u001b[0m \u001b[0mget_tax_year\u001b[0m\u001b[0;34m\u001b[0m\u001b[0;34m\u001b[0m\u001b[0m\n\u001b[0m",
      "\u001b[0;31mModuleNotFoundError\u001b[0m: No module named 'roi_utils'"
     ]
    }
   ],
   "source": [
    "from roi_utils import get_roi_gross, get_cashflow_after_operating_expenses, get_cashflow_after_taxes, get_cashflow_after_reserves, get_tax_year\n"
   ]
  },
  {
   "cell_type": "code",
   "execution_count": 40,
   "metadata": {},
   "outputs": [
    {
     "output_type": "error",
     "ename": "NameError",
     "evalue": "name 'get_tax_year' is not defined",
     "traceback": [
      "\u001b[0;31m---------------------------------------------------------------------------\u001b[0m",
      "\u001b[0;31mNameError\u001b[0m                                 Traceback (most recent call last)",
      "\u001b[0;32m<ipython-input-40-c952b9a76aff>\u001b[0m in \u001b[0;36m<module>\u001b[0;34m\u001b[0m\n\u001b[1;32m     47\u001b[0m \u001b[0mmortgage_month\u001b[0m \u001b[0;34m=\u001b[0m \u001b[0mmortgage_year\u001b[0m \u001b[0;34m/\u001b[0m \u001b[0;36m12\u001b[0m\u001b[0;34m\u001b[0m\u001b[0;34m\u001b[0m\u001b[0m\n\u001b[1;32m     48\u001b[0m \u001b[0;31m#   HOUSE ALLOWANCE (Hausgeld)\u001b[0m\u001b[0;34m\u001b[0m\u001b[0;34m\u001b[0m\u001b[0;34m\u001b[0m\u001b[0m\n\u001b[0;32m---> 49\u001b[0;31m \u001b[0mtax\u001b[0m \u001b[0;34m=\u001b[0m \u001b[0mget_tax_year\u001b[0m\u001b[0;34m(\u001b[0m\u001b[0mcold_rent_year\u001b[0m\u001b[0;34m,\u001b[0m \u001b[0mvacancy_year\u001b[0m\u001b[0;34m,\u001b[0m \u001b[0mhouse_allowance_month\u001b[0m\u001b[0;34m,\u001b[0m \u001b[0minterest_year\u001b[0m\u001b[0;34m,\u001b[0m \u001b[0mtax_write_off_year\u001b[0m\u001b[0;34m,\u001b[0m \u001b[0mmaintenance_reserve_private_year\u001b[0m\u001b[0;34m)\u001b[0m\u001b[0;34m\u001b[0m\u001b[0;34m\u001b[0m\u001b[0m\n\u001b[0m",
      "\u001b[0;31mNameError\u001b[0m: name 'get_tax_year' is not defined"
     ]
    }
   ],
   "source": [
    "# FROM EXPOSE\n",
    "purchase_price = 150000         # required\n",
    "living_space_sqm = 60           # required\n",
    "cold_rent_given = 700           # can be given or not; DEFAULT: None\n",
    "house_allowance_given = 300     # can be given or not; DEFAULT: None\n",
    "\n",
    "\n",
    "# OUR DEFAULT VALUES\n",
    "rent_price_index_per_sqm = 11               # varies from city and living space\n",
    "vacancy_rate = 0.02                         # 2% standard = no rent per year\n",
    "house_allowance_rate = 0.35                 # 35% of cold rent\n",
    "interest_rate = 0.02                        # 2% as standard\n",
    "mortgage_rate = 0.02                        # 2% as standard\n",
    "equity_rate = 0.2                           # 20% of purchase price \n",
    "maintenance_reserve_per_sqm_per_year = 10   # 10€ per sqm and per year as standard\n",
    "tax_rate = 0.3                              # could be 20-30%\n",
    "tax_write_off_rate = 0.02                   # 2% (has to be validated by professionals)\n",
    "\n",
    "# VALUES FOR KEY METRICS CALCULATION\n",
    "#   COLD RENT\n",
    "cold_rent_month = cold_rent_given if cold_rent_given else cold_rent_estimated\n",
    "cold_rent_year = cold_rent_month * 12\n",
    "\n",
    "#   EQUITY\n",
    "equity = purchase_price * equity_rate\n",
    "#   LOAN\n",
    "loan = purchase_price - equity\n",
    "\n",
    "# ESTIMATED VALUES\n",
    "cold_rent_estimated = living_space_sqm * rent_price_index_per_sqm\n",
    "house_allowance_estimated = cold_rent_month * house_allowance_rate\n",
    "maintenance_reserve_private_year = living_space_sqm * maintenance_reserve_per_sqm_per_year\n",
    "maintenance_reserve_private_month = maintenance_reserve_private_year / 12\n",
    "vacancy_year = cold_rent_year * vacancy_rate\n",
    "vacancy_month = vacancy_year / 12\n",
    "tax_write_off_year = tax_write_off_rate * loan\n",
    "tax_write_off_month = tax_write_off_year / 12\n",
    "\n",
    "#   HOUSE ALLOWANCE \n",
    "house_allowance_month = house_allowance_given if house_allowance_given else house_allowance_estimated\n",
    "house_allowance_year = house_allowance_month * 12\n",
    "#   INTEREST\n",
    "interest_year = loan * interest_rate\n",
    "interest_month = interest_year / 12\n",
    "#   MORTGAGE\n",
    "mortgage_year = loan * mortgage_rate\n",
    "mortgage_month = mortgage_year / 12\n",
    "#   HOUSE ALLOWANCE (Hausgeld)\n",
    "tax = get_tax_year(cold_rent_year, vacancy_year, house_allowance_month, interest_year, tax_write_off_year, maintenance_reserve_private_year)"
   ]
  },
  {
   "cell_type": "code",
   "execution_count": 41,
   "metadata": {},
   "outputs": [
    {
     "output_type": "error",
     "ename": "NameError",
     "evalue": "name 'get_roi_gross' is not defined",
     "traceback": [
      "\u001b[0;31m---------------------------------------------------------------------------\u001b[0m",
      "\u001b[0;31mNameError\u001b[0m                                 Traceback (most recent call last)",
      "\u001b[0;32m<ipython-input-41-9254ac1c6385>\u001b[0m in \u001b[0;36m<module>\u001b[0;34m\u001b[0m\n\u001b[0;32m----> 1\u001b[0;31m \u001b[0mroi_gross\u001b[0m \u001b[0;34m=\u001b[0m \u001b[0mget_roi_gross\u001b[0m\u001b[0;34m(\u001b[0m\u001b[0mcold_rent_year\u001b[0m\u001b[0;34m,\u001b[0m\u001b[0mpurchase_price\u001b[0m\u001b[0;34m)\u001b[0m\u001b[0;34m\u001b[0m\u001b[0;34m\u001b[0m\u001b[0m\n\u001b[0m\u001b[1;32m      2\u001b[0m \u001b[0;34m\u001b[0m\u001b[0m\n\u001b[1;32m      3\u001b[0m \u001b[0mcashflow_after_operating_expenses\u001b[0m \u001b[0;34m=\u001b[0m \u001b[0mget_cashflow_after_operating_expenses\u001b[0m\u001b[0;34m(\u001b[0m\u001b[0mcold_rent_month\u001b[0m\u001b[0;34m,\u001b[0m \u001b[0mvacancy_month\u001b[0m\u001b[0;34m,\u001b[0m \u001b[0mhouse_allowance_month\u001b[0m\u001b[0;34m,\u001b[0m \u001b[0minterest_month\u001b[0m\u001b[0;34m,\u001b[0m \u001b[0mmortgage_month\u001b[0m\u001b[0;34m)\u001b[0m\u001b[0;34m\u001b[0m\u001b[0;34m\u001b[0m\u001b[0m\n\u001b[1;32m      4\u001b[0m \u001b[0;34m\u001b[0m\u001b[0m\n\u001b[1;32m      5\u001b[0m \u001b[0mcashflow_after_taxes\u001b[0m \u001b[0;34m=\u001b[0m \u001b[0mget_cashflow_after_taxes\u001b[0m\u001b[0;34m(\u001b[0m\u001b[0mcold_rent_month\u001b[0m\u001b[0;34m,\u001b[0m \u001b[0mvacancy_month\u001b[0m\u001b[0;34m,\u001b[0m \u001b[0mhouse_allowance_month\u001b[0m\u001b[0;34m,\u001b[0m \u001b[0minterest_month\u001b[0m\u001b[0;34m,\u001b[0m \u001b[0mmortgage_month\u001b[0m\u001b[0;34m,\u001b[0m \u001b[0mtax\u001b[0m\u001b[0;34m)\u001b[0m\u001b[0;34m\u001b[0m\u001b[0;34m\u001b[0m\u001b[0m\n",
      "\u001b[0;31mNameError\u001b[0m: name 'get_roi_gross' is not defined"
     ]
    }
   ],
   "source": [
    "\n",
    "roi_gross = get_roi_gross(cold_rent_year,purchase_price)\n",
    "\n",
    "cashflow_after_operating_expenses = get_cashflow_after_operating_expenses(cold_rent_month, vacancy_month, house_allowance_month, interest_month, mortgage_month)\n",
    "\n",
    "cashflow_after_taxes = get_cashflow_after_taxes(cold_rent_month, vacancy_month, house_allowance_month, interest_month, mortgage_month, tax)\n",
    "\n",
    "cashflow_after_reserves = get_cashflow_after_reserves(cold_rent_month, vacancy_month, house_allowance_month, interest_month, mortgage_month, tax, maintenance_reserve_private_month)\n",
    "\n",
    "print(roi_gross)\n",
    "print(cashflow_after_operating_expenses)\n",
    "print(cashflow_after_taxes)\n",
    "print(cashflow_after_reserves)"
   ]
  },
  {
   "cell_type": "code",
   "execution_count": 42,
   "metadata": {},
   "outputs": [
    {
     "output_type": "execute_result",
     "data": {
      "text/plain": [
       "                                   id  \\\n",
       "478  5c2607457bdb53f2f05fb2eaed988743   \n",
       "107  ba8f834dc6d0c7deec3fd79bfe113bd7   \n",
       "159  68527ade9cbb5d85e2580bc27eb51388   \n",
       "148  5e5e9e7b211959aa794428fd73d7e820   \n",
       "229  8f3b9ec2069a33c6fd363b29a5717d8d   \n",
       "411  21618ae01e987ba8a6cede3b60ce7c4a   \n",
       "82   0ec32c15b880eda6a7e19b9be990369e   \n",
       "193  c91b3f34f9a6fcf14892b77b38b50c6b   \n",
       "558  3f5a72754cb254fb98e9d79d110cac28   \n",
       "456  4e7d3a5cedba1ac58b5a8690ccfd6303   \n",
       "\n",
       "                                                 title    zip  buyingPrice  \\\n",
       "478  Vermietete Einzimmerwohnung in zentraler Lage ...  68159     129000.0   \n",
       "107  Geräumige 3-Zimmer-Eigentumswohnung in MA-Waldhof  68305      85000.0   \n",
       "159  🏡🌳GRÜN, RUHIG; ZENTRAL🌳: Neubau-Maisonette mit...  13156     941500.0   \n",
       "148  Moderne 2-Zimmer-Wohnung auf ca. 60 m² mit gro...  12529     287800.0   \n",
       "229  Großzügige Wohnmöglichkeit über zwei Ebenen...  22529    2175000.0   \n",
       "411  Zwangsversteigerung Wohnung, Bürgermeister-Kut...  67059     156000.0   \n",
       "82    Hochwertige Neubauwohnung - inkl. Erstvermietung  48167     291887.0   \n",
       "193   Kapitalanleger aufgepasst: DG-Whg. mit TOP-Re...  10551     399000.0   \n",
       "558  Wiesbaden – Solide vermietete, pfiffige Wohnun...  65189     145000.0   \n",
       "456  Voll ausgestattete Zwei-Zimmer-Wohnung mit Bal...  85598     389000.0   \n",
       "\n",
       "     rooms  squareMeter  comission  \\\n",
       "478    1.0        36.00       1.95   \n",
       "107    3.0        79.26        NaN   \n",
       "159    4.0       201.00        NaN   \n",
       "148    2.0        59.41        NaN   \n",
       "229    7.0       250.00       6.12   \n",
       "411    3.0        91.00        NaN   \n",
       "82     2.0        61.45        NaN   \n",
       "193    3.0        93.00       6.99   \n",
       "558    1.0        51.00       3.57   \n",
       "456    2.0        57.00       1.95   \n",
       "\n",
       "                                             platforms  rentPricePerSqm  \\\n",
       "478  [{'deactivationDate': '2021-02-19T09:01:08.690...        11.722222   \n",
       "107  [{'name': 'is24', 'id': '126717302', 'url': 'h...        10.017663   \n",
       "159  [{'name': 'is24', 'id': '126714433', 'url': 'h...        15.522388   \n",
       "148  [{'name': 'is24', 'id': '126668719', 'url': 'h...        12.943949   \n",
       "229  [{'name': 'ebk', 'id': 'ebkf295daea30d13c350dc...        15.252000   \n",
       "411  [{'name': 'immobilien', 'publishDate': '2021-0...         8.703297   \n",
       "82   [{'name': 'is24', 'id': '126718144', 'url': 'h...        11.863303   \n",
       "193  [{'name': 'immobilienmarkt1a', 'id': 'immobili...        11.559140   \n",
       "558  [{'name': 'ivd24', 'publishDate': '2021-02-18T...        11.450980   \n",
       "456  [{'name': 'is24', 'publishDate': '2021-02-18T1...        13.982456   \n",
       "\n",
       "     pricePerSqm  rentPrice  rentPriceCurrent  rentPriceCurrentPerSqm  \\\n",
       "478  3583.333333      422.0        310.000000                8.611111   \n",
       "107  1072.419884      794.0               NaN                     NaN   \n",
       "159  4684.079602     3120.0               NaN                     NaN   \n",
       "148  4844.302306      769.0               NaN                     NaN   \n",
       "229  8700.000000     3813.0               NaN                     NaN   \n",
       "411  1714.285714      792.0               NaN                     NaN   \n",
       "82   4749.991863      729.0               NaN                     NaN   \n",
       "193  4290.322581     1075.0               NaN                     NaN   \n",
       "558  2843.137255      584.0        166.916667                3.272876   \n",
       "456  6824.561404      797.0        764.000000               13.403509   \n",
       "\n",
       "                                               address               region  \\\n",
       "478  {'ISO_3166-1_alpha-2': 'DE', 'ISO_3166-1_alpha...    Baden-Württemberg   \n",
       "107  {'ISO_3166-1_alpha-2': 'DE', 'ISO_3166-1_alpha...    Baden-Württemberg   \n",
       "159  {'ISO_3166-1_alpha-2': 'DE', 'ISO_3166-1_alpha...               Berlin   \n",
       "148  {'ISO_3166-1_alpha-2': 'DE', 'ISO_3166-1_alpha...          Brandenburg   \n",
       "229  {'ISO_3166-1_alpha-2': 'DE', 'ISO_3166-1_alpha...              Hamburg   \n",
       "411  {'ISO_3166-1_alpha-2': 'DE', 'ISO_3166-1_alpha...      Rheinland-Pfalz   \n",
       "82   {'ISO_3166-1_alpha-2': 'DE', 'ISO_3166-1_alpha...  Nordrhein-Westfalen   \n",
       "193  {'ISO_3166-1_alpha-2': 'DE', 'ISO_3166-1_alpha...               Berlin   \n",
       "558  {'ISO_3166-1_alpha-2': 'DE', 'ISO_3166-1_alpha...               Hessen   \n",
       "456  {'ISO_3166-1_alpha-2': 'DE', 'ISO_3166-1_alpha...               Bayern   \n",
       "\n",
       "     foreClosure                                     locationFactor  \\\n",
       "478        False  {'population': 310658, 'populationTrend': {'fr...   \n",
       "107         True  {'population': 310658, 'populationTrend': {'fr...   \n",
       "159        False  {'population': 3669491, 'populationTrend': {'f...   \n",
       "148        False  {'population': 0, 'populationTrend': {'from': ...   \n",
       "229        False  {'population': 1847253, 'populationTrend': {'f...   \n",
       "411         True  {'population': 172253, 'populationTrend': {'fr...   \n",
       "82         False  {'population': 315293, 'populationTrend': {'fr...   \n",
       "193        False  {'population': 3669491, 'populationTrend': {'f...   \n",
       "558        False  {'population': 278474, 'populationTrend': {'fr...   \n",
       "456        False  {'population': 0, 'populationTrend': {'from': ...   \n",
       "\n",
       "     grossReturn  grossReturnCurrent  constructionYear   apartmentType  \\\n",
       "478         3.93                2.88            1988.0  NO_INFORMATION   \n",
       "107        11.21                 NaN            1900.0       APARTMENT   \n",
       "159         3.98                 NaN            2021.0  NO_INFORMATION   \n",
       "148         3.21                 NaN            2023.0       APARTMENT   \n",
       "229         2.10                 NaN            2011.0    GROUND_FLOOR   \n",
       "411         6.09                 NaN               NaN       APARTMENT   \n",
       "82          3.00                 NaN            2021.0  NO_INFORMATION   \n",
       "193         3.23                 NaN            1918.0     ROOF_STOREY   \n",
       "558         4.83                1.38            1983.0    GROUND_FLOOR   \n",
       "456         2.46                2.36            1972.0  NO_INFORMATION   \n",
       "\n",
       "              condition  lastRefurbishment   lift  floor  numberOfFloors  \\\n",
       "478           WELL_KEPT                NaN   True    7.0             7.0   \n",
       "107  NEED_OF_RENOVATION                NaN  False    NaN             NaN   \n",
       "159      FIRST_TIME_USE             2021.0   True    NaN             NaN   \n",
       "148      FIRST_TIME_USE                NaN   True    6.0             NaN   \n",
       "229           WELL_KEPT                NaN  False    NaN             NaN   \n",
       "411      NO_INFORMATION                NaN  False    NaN             NaN   \n",
       "82       FIRST_TIME_USE                NaN   True    2.0             4.0   \n",
       "193      NO_INFORMATION                NaN  False    5.0             NaN   \n",
       "558      NO_INFORMATION                NaN  False    NaN             NaN   \n",
       "456           WELL_KEPT                NaN   True    2.0             5.0   \n",
       "\n",
       "     balcony  garden  active  rented               publishDate  privateOffer  \\\n",
       "478    False   False    True    True  2021-02-18T18:21:23.000Z         False   \n",
       "107    False   False    True   False  2021-02-19T08:09:04.000Z         False   \n",
       "159     True    True    True   False  2021-02-19T06:52:16.000Z         False   \n",
       "148     True   False    True   False  2021-02-19T07:13:48.000Z         False   \n",
       "229     True   False    True   False  2021-02-18T22:19:54.454Z         False   \n",
       "411    False   False    True   False  2021-02-18T19:27:59.223Z         False   \n",
       "82      True   False    True    True  2021-02-19T08:35:33.000Z         False   \n",
       "193    False   False    True   False  2021-02-19T02:16:48.519Z         False   \n",
       "558    False   False    True    True  2021-02-18T17:24:44.502Z         False   \n",
       "456     True   False    True    True  2021-02-18T18:51:15.000Z         False   \n",
       "\n",
       "                                          aggregations  leasehold  \\\n",
       "478  {'district': {'name': 'Innenstadt/Jungbusch', ...      False   \n",
       "107  {'district': {'name': 'Waldhof', 'buyingPrice'...      False   \n",
       "159  {'district': {'name': 'Niederschönhausen', 'bu...      False   \n",
       "148  {'district': {'name': 'Schönefeld', 'buyingPri...      False   \n",
       "229  {'district': {'name': 'Eimsbüttel', 'buyingPri...      False   \n",
       "411  {'district': {'name': 'Ludwigshafen-Südliche-I...      False   \n",
       "82   {'district': {'name': 'Münster-Südost', 'buyin...      False   \n",
       "193  {'location': {'name': 'Berlin', 'buyingPrice':...      False   \n",
       "558  {'district': {'name': 'Südost', 'buyingPrice':...      False   \n",
       "456  {'location': {'name': 'Vaterstetten', 'buyingP...      False   \n",
       "\n",
       "     priceInMarket                                           oAddress  \\\n",
       "478     126.470588  {'is24': {'street': None, 'postcode': '68159',...   \n",
       "107      34.274194  {'is24': {'street': None, 'postcode': '68305',...   \n",
       "159      78.132780  {'is24': {'street': None, 'postcode': '13156',...   \n",
       "148      96.254181  {'is24': {'street': 'Rathausgasse 3', 'postcod...   \n",
       "229     110.969388  {'ebk': {'street': None, 'postcode': '22529', ...   \n",
       "411      68.122271  {'ivd24': {'street': None, 'postcode': '67059'...   \n",
       "82      113.134496  {'is24': {'street': 'Schlesienstraße 21', 'pos...   \n",
       "193     101.269036  {'immobilienmarkt1a': {'street': None, 'postco...   \n",
       "558      81.460674  {'immobilio': {'street': 'Friedenstraße 24b', ...   \n",
       "456     123.492063  {'is24': {'street': None, 'postcode': '85598',...   \n",
       "\n",
       "                                       originalAddress  houseMoney  \\\n",
       "478  {'postcode': '68159', 'location': 'Mannheim', ...         NaN   \n",
       "107  {'postcode': '68305', 'location': 'Mannheim', ...         NaN   \n",
       "159  {'postcode': '13156', 'location': 'Berlin - Pa...         NaN   \n",
       "148  {'street': 'Rathausgasse 3', 'postcode': '1252...         NaN   \n",
       "229  {'street': '', 'postcode': '22529', 'location'...         NaN   \n",
       "411  {'postcode': '67059', 'location': 'Ludwigshafen'}         NaN   \n",
       "82   {'street': 'Schlesienstraße 21', 'postcode': '...         NaN   \n",
       "193        {'postcode': '10551', 'location': 'Berlin'}         NaN   \n",
       "558  {'street': 'Friedenstraße 24b', 'postcode': '6...       182.0   \n",
       "456  {'postcode': '85598', 'location': 'Vaterstette...       220.0   \n",
       "\n",
       "                                                images  \\\n",
       "478  [{'id': '81d34d244d9d038c57140ed89b51e533', 'o...   \n",
       "107  [{'id': 'd588b00303587dd4319af6fd4b650163', 'o...   \n",
       "159  [{'id': '71b1520678bdfd05aa3bdc74d465eafe', 'o...   \n",
       "148  [{'id': '3a28f1df5b796d153714bbf1cc7f04fc', 'o...   \n",
       "229                                                 []   \n",
       "411  [{'id': 'c16955ccf813ddf86dace4ecb7f9c9cb', 'o...   \n",
       "82   [{'id': 'bd79628d93da2c974b0e5b4a3307f34f', 'o...   \n",
       "193  [{'id': '9779fc1c2a9940a83ef2885980127866', 'o...   \n",
       "558  [{'id': '8d65156e36ea47a80ac8a12c67f2dd01', 'o...   \n",
       "456  [{'id': 'f93bc1ef2776a0e92b30fa38e1d46159', 'o...   \n",
       "\n",
       "                                    buyingPriceHistory  priceReduced  \\\n",
       "478  [{'buyingPrice': 129000, 'platformName': 'is24...         False   \n",
       "107  [{'buyingPrice': 85000, 'platformName': 'is24'...         False   \n",
       "159  [{'buyingPrice': 941500, 'platformName': 'is24...         False   \n",
       "148  [{'buyingPrice': 287800, 'platformName': 'is24...         False   \n",
       "229  [{'buyingPrice': 2175000, 'platformName': 'ebk...         False   \n",
       "411  [{'buyingPrice': 156000, 'platformName': 'ivd2...         False   \n",
       "82   [{'buyingPrice': 291887, 'platformName': 'is24...         False   \n",
       "193  [{'buyingPrice': 399000, 'platformName': 'immo...         False   \n",
       "558  [{'buyingPrice': 145000, 'platformName': 'ivd2...         False   \n",
       "456  [{'buyingPrice': 389000, 'platformName': 'is24...         False   \n",
       "\n",
       "    priceIncreased  runningTime             lastUpdatedAt  favorite  \\\n",
       "478          False            1  2021-02-18T18:24:19.755Z         0   \n",
       "107          False            0  2021-02-19T08:12:33.302Z         0   \n",
       "159          False            0  2021-02-19T08:56:49.252Z         0   \n",
       "148          False            0  2021-02-19T09:17:24.653Z         0   \n",
       "229          False            0  2021-02-19T05:56:51.715Z         0   \n",
       "411          False            0  2021-02-19T08:37:25.164Z         0   \n",
       "82           False            0  2021-02-19T08:38:32.190Z         0   \n",
       "193          False            0  2021-02-19T02:16:50.189Z         0   \n",
       "558          False            0  2021-02-19T08:14:29.114Z         0   \n",
       "456          False            1  2021-02-19T08:51:23.374Z         0   \n",
       "\n",
       "    favoriteDate  cashFlow  ownCapitalReturn  cashFlowPerLivingUnit  hasImages  \n",
       "478         None   -171.83        -15.984496                -171.83       True  \n",
       "107         None    276.93         39.096471                 276.93       True  \n",
       "159         None   -664.08         -8.464153                -664.08       True  \n",
       "148         None   -325.57        -13.574705                -325.57       True  \n",
       "229         None  -4031.55        -22.243034               -4031.55      False  \n",
       "411         None     74.38          5.721795                  74.38       True  \n",
       "82          None   -366.15        -15.053086                -366.15       True  \n",
       "193         None   -523.33        -15.739348                -523.33       True  \n",
       "558         None   -320.25        -26.503793                -320.25       True  \n",
       "456         None   -608.82        -18.780977                -608.82       True  "
      ],
      "text/html": "<div>\n<style scoped>\n    .dataframe tbody tr th:only-of-type {\n        vertical-align: middle;\n    }\n\n    .dataframe tbody tr th {\n        vertical-align: top;\n    }\n\n    .dataframe thead th {\n        text-align: right;\n    }\n</style>\n<table border=\"1\" class=\"dataframe\">\n  <thead>\n    <tr style=\"text-align: right;\">\n      <th></th>\n      <th>id</th>\n      <th>title</th>\n      <th>zip</th>\n      <th>buyingPrice</th>\n      <th>rooms</th>\n      <th>squareMeter</th>\n      <th>comission</th>\n      <th>platforms</th>\n      <th>rentPricePerSqm</th>\n      <th>pricePerSqm</th>\n      <th>rentPrice</th>\n      <th>rentPriceCurrent</th>\n      <th>rentPriceCurrentPerSqm</th>\n      <th>address</th>\n      <th>region</th>\n      <th>foreClosure</th>\n      <th>locationFactor</th>\n      <th>grossReturn</th>\n      <th>grossReturnCurrent</th>\n      <th>constructionYear</th>\n      <th>apartmentType</th>\n      <th>condition</th>\n      <th>lastRefurbishment</th>\n      <th>lift</th>\n      <th>floor</th>\n      <th>numberOfFloors</th>\n      <th>balcony</th>\n      <th>garden</th>\n      <th>active</th>\n      <th>rented</th>\n      <th>publishDate</th>\n      <th>privateOffer</th>\n      <th>aggregations</th>\n      <th>leasehold</th>\n      <th>priceInMarket</th>\n      <th>oAddress</th>\n      <th>originalAddress</th>\n      <th>houseMoney</th>\n      <th>images</th>\n      <th>buyingPriceHistory</th>\n      <th>priceReduced</th>\n      <th>priceIncreased</th>\n      <th>runningTime</th>\n      <th>lastUpdatedAt</th>\n      <th>favorite</th>\n      <th>favoriteDate</th>\n      <th>cashFlow</th>\n      <th>ownCapitalReturn</th>\n      <th>cashFlowPerLivingUnit</th>\n      <th>hasImages</th>\n    </tr>\n  </thead>\n  <tbody>\n    <tr>\n      <th>478</th>\n      <td>5c2607457bdb53f2f05fb2eaed988743</td>\n      <td>Vermietete Einzimmerwohnung in zentraler Lage ...</td>\n      <td>68159</td>\n      <td>129000.0</td>\n      <td>1.0</td>\n      <td>36.00</td>\n      <td>1.95</td>\n      <td>[{'deactivationDate': '2021-02-19T09:01:08.690...</td>\n      <td>11.722222</td>\n      <td>3583.333333</td>\n      <td>422.0</td>\n      <td>310.000000</td>\n      <td>8.611111</td>\n      <td>{'ISO_3166-1_alpha-2': 'DE', 'ISO_3166-1_alpha...</td>\n      <td>Baden-Württemberg</td>\n      <td>False</td>\n      <td>{'population': 310658, 'populationTrend': {'fr...</td>\n      <td>3.93</td>\n      <td>2.88</td>\n      <td>1988.0</td>\n      <td>NO_INFORMATION</td>\n      <td>WELL_KEPT</td>\n      <td>NaN</td>\n      <td>True</td>\n      <td>7.0</td>\n      <td>7.0</td>\n      <td>False</td>\n      <td>False</td>\n      <td>True</td>\n      <td>True</td>\n      <td>2021-02-18T18:21:23.000Z</td>\n      <td>False</td>\n      <td>{'district': {'name': 'Innenstadt/Jungbusch', ...</td>\n      <td>False</td>\n      <td>126.470588</td>\n      <td>{'is24': {'street': None, 'postcode': '68159',...</td>\n      <td>{'postcode': '68159', 'location': 'Mannheim', ...</td>\n      <td>NaN</td>\n      <td>[{'id': '81d34d244d9d038c57140ed89b51e533', 'o...</td>\n      <td>[{'buyingPrice': 129000, 'platformName': 'is24...</td>\n      <td>False</td>\n      <td>False</td>\n      <td>1</td>\n      <td>2021-02-18T18:24:19.755Z</td>\n      <td>0</td>\n      <td>None</td>\n      <td>-171.83</td>\n      <td>-15.984496</td>\n      <td>-171.83</td>\n      <td>True</td>\n    </tr>\n    <tr>\n      <th>107</th>\n      <td>ba8f834dc6d0c7deec3fd79bfe113bd7</td>\n      <td>Geräumige 3-Zimmer-Eigentumswohnung in MA-Waldhof</td>\n      <td>68305</td>\n      <td>85000.0</td>\n      <td>3.0</td>\n      <td>79.26</td>\n      <td>NaN</td>\n      <td>[{'name': 'is24', 'id': '126717302', 'url': 'h...</td>\n      <td>10.017663</td>\n      <td>1072.419884</td>\n      <td>794.0</td>\n      <td>NaN</td>\n      <td>NaN</td>\n      <td>{'ISO_3166-1_alpha-2': 'DE', 'ISO_3166-1_alpha...</td>\n      <td>Baden-Württemberg</td>\n      <td>True</td>\n      <td>{'population': 310658, 'populationTrend': {'fr...</td>\n      <td>11.21</td>\n      <td>NaN</td>\n      <td>1900.0</td>\n      <td>APARTMENT</td>\n      <td>NEED_OF_RENOVATION</td>\n      <td>NaN</td>\n      <td>False</td>\n      <td>NaN</td>\n      <td>NaN</td>\n      <td>False</td>\n      <td>False</td>\n      <td>True</td>\n      <td>False</td>\n      <td>2021-02-19T08:09:04.000Z</td>\n      <td>False</td>\n      <td>{'district': {'name': 'Waldhof', 'buyingPrice'...</td>\n      <td>False</td>\n      <td>34.274194</td>\n      <td>{'is24': {'street': None, 'postcode': '68305',...</td>\n      <td>{'postcode': '68305', 'location': 'Mannheim', ...</td>\n      <td>NaN</td>\n      <td>[{'id': 'd588b00303587dd4319af6fd4b650163', 'o...</td>\n      <td>[{'buyingPrice': 85000, 'platformName': 'is24'...</td>\n      <td>False</td>\n      <td>False</td>\n      <td>0</td>\n      <td>2021-02-19T08:12:33.302Z</td>\n      <td>0</td>\n      <td>None</td>\n      <td>276.93</td>\n      <td>39.096471</td>\n      <td>276.93</td>\n      <td>True</td>\n    </tr>\n    <tr>\n      <th>159</th>\n      <td>68527ade9cbb5d85e2580bc27eb51388</td>\n      <td>🏡🌳GRÜN, RUHIG; ZENTRAL🌳: Neubau-Maisonette mit...</td>\n      <td>13156</td>\n      <td>941500.0</td>\n      <td>4.0</td>\n      <td>201.00</td>\n      <td>NaN</td>\n      <td>[{'name': 'is24', 'id': '126714433', 'url': 'h...</td>\n      <td>15.522388</td>\n      <td>4684.079602</td>\n      <td>3120.0</td>\n      <td>NaN</td>\n      <td>NaN</td>\n      <td>{'ISO_3166-1_alpha-2': 'DE', 'ISO_3166-1_alpha...</td>\n      <td>Berlin</td>\n      <td>False</td>\n      <td>{'population': 3669491, 'populationTrend': {'f...</td>\n      <td>3.98</td>\n      <td>NaN</td>\n      <td>2021.0</td>\n      <td>NO_INFORMATION</td>\n      <td>FIRST_TIME_USE</td>\n      <td>2021.0</td>\n      <td>True</td>\n      <td>NaN</td>\n      <td>NaN</td>\n      <td>True</td>\n      <td>True</td>\n      <td>True</td>\n      <td>False</td>\n      <td>2021-02-19T06:52:16.000Z</td>\n      <td>False</td>\n      <td>{'district': {'name': 'Niederschönhausen', 'bu...</td>\n      <td>False</td>\n      <td>78.132780</td>\n      <td>{'is24': {'street': None, 'postcode': '13156',...</td>\n      <td>{'postcode': '13156', 'location': 'Berlin - Pa...</td>\n      <td>NaN</td>\n      <td>[{'id': '71b1520678bdfd05aa3bdc74d465eafe', 'o...</td>\n      <td>[{'buyingPrice': 941500, 'platformName': 'is24...</td>\n      <td>False</td>\n      <td>False</td>\n      <td>0</td>\n      <td>2021-02-19T08:56:49.252Z</td>\n      <td>0</td>\n      <td>None</td>\n      <td>-664.08</td>\n      <td>-8.464153</td>\n      <td>-664.08</td>\n      <td>True</td>\n    </tr>\n    <tr>\n      <th>148</th>\n      <td>5e5e9e7b211959aa794428fd73d7e820</td>\n      <td>Moderne 2-Zimmer-Wohnung auf ca. 60 m² mit gro...</td>\n      <td>12529</td>\n      <td>287800.0</td>\n      <td>2.0</td>\n      <td>59.41</td>\n      <td>NaN</td>\n      <td>[{'name': 'is24', 'id': '126668719', 'url': 'h...</td>\n      <td>12.943949</td>\n      <td>4844.302306</td>\n      <td>769.0</td>\n      <td>NaN</td>\n      <td>NaN</td>\n      <td>{'ISO_3166-1_alpha-2': 'DE', 'ISO_3166-1_alpha...</td>\n      <td>Brandenburg</td>\n      <td>False</td>\n      <td>{'population': 0, 'populationTrend': {'from': ...</td>\n      <td>3.21</td>\n      <td>NaN</td>\n      <td>2023.0</td>\n      <td>APARTMENT</td>\n      <td>FIRST_TIME_USE</td>\n      <td>NaN</td>\n      <td>True</td>\n      <td>6.0</td>\n      <td>NaN</td>\n      <td>True</td>\n      <td>False</td>\n      <td>True</td>\n      <td>False</td>\n      <td>2021-02-19T07:13:48.000Z</td>\n      <td>False</td>\n      <td>{'district': {'name': 'Schönefeld', 'buyingPri...</td>\n      <td>False</td>\n      <td>96.254181</td>\n      <td>{'is24': {'street': 'Rathausgasse 3', 'postcod...</td>\n      <td>{'street': 'Rathausgasse 3', 'postcode': '1252...</td>\n      <td>NaN</td>\n      <td>[{'id': '3a28f1df5b796d153714bbf1cc7f04fc', 'o...</td>\n      <td>[{'buyingPrice': 287800, 'platformName': 'is24...</td>\n      <td>False</td>\n      <td>False</td>\n      <td>0</td>\n      <td>2021-02-19T09:17:24.653Z</td>\n      <td>0</td>\n      <td>None</td>\n      <td>-325.57</td>\n      <td>-13.574705</td>\n      <td>-325.57</td>\n      <td>True</td>\n    </tr>\n    <tr>\n      <th>229</th>\n      <td>8f3b9ec2069a33c6fd363b29a5717d8d</td>\n      <td>Großzügige Wohnmöglichkeit über zwei Ebenen...</td>\n      <td>22529</td>\n      <td>2175000.0</td>\n      <td>7.0</td>\n      <td>250.00</td>\n      <td>6.12</td>\n      <td>[{'name': 'ebk', 'id': 'ebkf295daea30d13c350dc...</td>\n      <td>15.252000</td>\n      <td>8700.000000</td>\n      <td>3813.0</td>\n      <td>NaN</td>\n      <td>NaN</td>\n      <td>{'ISO_3166-1_alpha-2': 'DE', 'ISO_3166-1_alpha...</td>\n      <td>Hamburg</td>\n      <td>False</td>\n      <td>{'population': 1847253, 'populationTrend': {'f...</td>\n      <td>2.10</td>\n      <td>NaN</td>\n      <td>2011.0</td>\n      <td>GROUND_FLOOR</td>\n      <td>WELL_KEPT</td>\n      <td>NaN</td>\n      <td>False</td>\n      <td>NaN</td>\n      <td>NaN</td>\n      <td>True</td>\n      <td>False</td>\n      <td>True</td>\n      <td>False</td>\n      <td>2021-02-18T22:19:54.454Z</td>\n      <td>False</td>\n      <td>{'district': {'name': 'Eimsbüttel', 'buyingPri...</td>\n      <td>False</td>\n      <td>110.969388</td>\n      <td>{'ebk': {'street': None, 'postcode': '22529', ...</td>\n      <td>{'street': '', 'postcode': '22529', 'location'...</td>\n      <td>NaN</td>\n      <td>[]</td>\n      <td>[{'buyingPrice': 2175000, 'platformName': 'ebk...</td>\n      <td>False</td>\n      <td>False</td>\n      <td>0</td>\n      <td>2021-02-19T05:56:51.715Z</td>\n      <td>0</td>\n      <td>None</td>\n      <td>-4031.55</td>\n      <td>-22.243034</td>\n      <td>-4031.55</td>\n      <td>False</td>\n    </tr>\n    <tr>\n      <th>411</th>\n      <td>21618ae01e987ba8a6cede3b60ce7c4a</td>\n      <td>Zwangsversteigerung Wohnung, Bürgermeister-Kut...</td>\n      <td>67059</td>\n      <td>156000.0</td>\n      <td>3.0</td>\n      <td>91.00</td>\n      <td>NaN</td>\n      <td>[{'name': 'immobilien', 'publishDate': '2021-0...</td>\n      <td>8.703297</td>\n      <td>1714.285714</td>\n      <td>792.0</td>\n      <td>NaN</td>\n      <td>NaN</td>\n      <td>{'ISO_3166-1_alpha-2': 'DE', 'ISO_3166-1_alpha...</td>\n      <td>Rheinland-Pfalz</td>\n      <td>True</td>\n      <td>{'population': 172253, 'populationTrend': {'fr...</td>\n      <td>6.09</td>\n      <td>NaN</td>\n      <td>NaN</td>\n      <td>APARTMENT</td>\n      <td>NO_INFORMATION</td>\n      <td>NaN</td>\n      <td>False</td>\n      <td>NaN</td>\n      <td>NaN</td>\n      <td>False</td>\n      <td>False</td>\n      <td>True</td>\n      <td>False</td>\n      <td>2021-02-18T19:27:59.223Z</td>\n      <td>False</td>\n      <td>{'district': {'name': 'Ludwigshafen-Südliche-I...</td>\n      <td>False</td>\n      <td>68.122271</td>\n      <td>{'ivd24': {'street': None, 'postcode': '67059'...</td>\n      <td>{'postcode': '67059', 'location': 'Ludwigshafen'}</td>\n      <td>NaN</td>\n      <td>[{'id': 'c16955ccf813ddf86dace4ecb7f9c9cb', 'o...</td>\n      <td>[{'buyingPrice': 156000, 'platformName': 'ivd2...</td>\n      <td>False</td>\n      <td>False</td>\n      <td>0</td>\n      <td>2021-02-19T08:37:25.164Z</td>\n      <td>0</td>\n      <td>None</td>\n      <td>74.38</td>\n      <td>5.721795</td>\n      <td>74.38</td>\n      <td>True</td>\n    </tr>\n    <tr>\n      <th>82</th>\n      <td>0ec32c15b880eda6a7e19b9be990369e</td>\n      <td>Hochwertige Neubauwohnung - inkl. Erstvermietung</td>\n      <td>48167</td>\n      <td>291887.0</td>\n      <td>2.0</td>\n      <td>61.45</td>\n      <td>NaN</td>\n      <td>[{'name': 'is24', 'id': '126718144', 'url': 'h...</td>\n      <td>11.863303</td>\n      <td>4749.991863</td>\n      <td>729.0</td>\n      <td>NaN</td>\n      <td>NaN</td>\n      <td>{'ISO_3166-1_alpha-2': 'DE', 'ISO_3166-1_alpha...</td>\n      <td>Nordrhein-Westfalen</td>\n      <td>False</td>\n      <td>{'population': 315293, 'populationTrend': {'fr...</td>\n      <td>3.00</td>\n      <td>NaN</td>\n      <td>2021.0</td>\n      <td>NO_INFORMATION</td>\n      <td>FIRST_TIME_USE</td>\n      <td>NaN</td>\n      <td>True</td>\n      <td>2.0</td>\n      <td>4.0</td>\n      <td>True</td>\n      <td>False</td>\n      <td>True</td>\n      <td>True</td>\n      <td>2021-02-19T08:35:33.000Z</td>\n      <td>False</td>\n      <td>{'district': {'name': 'Münster-Südost', 'buyin...</td>\n      <td>False</td>\n      <td>113.134496</td>\n      <td>{'is24': {'street': 'Schlesienstraße 21', 'pos...</td>\n      <td>{'street': 'Schlesienstraße 21', 'postcode': '...</td>\n      <td>NaN</td>\n      <td>[{'id': 'bd79628d93da2c974b0e5b4a3307f34f', 'o...</td>\n      <td>[{'buyingPrice': 291887, 'platformName': 'is24...</td>\n      <td>False</td>\n      <td>False</td>\n      <td>0</td>\n      <td>2021-02-19T08:38:32.190Z</td>\n      <td>0</td>\n      <td>None</td>\n      <td>-366.15</td>\n      <td>-15.053086</td>\n      <td>-366.15</td>\n      <td>True</td>\n    </tr>\n    <tr>\n      <th>193</th>\n      <td>c91b3f34f9a6fcf14892b77b38b50c6b</td>\n      <td>Kapitalanleger aufgepasst: DG-Whg. mit TOP-Re...</td>\n      <td>10551</td>\n      <td>399000.0</td>\n      <td>3.0</td>\n      <td>93.00</td>\n      <td>6.99</td>\n      <td>[{'name': 'immobilienmarkt1a', 'id': 'immobili...</td>\n      <td>11.559140</td>\n      <td>4290.322581</td>\n      <td>1075.0</td>\n      <td>NaN</td>\n      <td>NaN</td>\n      <td>{'ISO_3166-1_alpha-2': 'DE', 'ISO_3166-1_alpha...</td>\n      <td>Berlin</td>\n      <td>False</td>\n      <td>{'population': 3669491, 'populationTrend': {'f...</td>\n      <td>3.23</td>\n      <td>NaN</td>\n      <td>1918.0</td>\n      <td>ROOF_STOREY</td>\n      <td>NO_INFORMATION</td>\n      <td>NaN</td>\n      <td>False</td>\n      <td>5.0</td>\n      <td>NaN</td>\n      <td>False</td>\n      <td>False</td>\n      <td>True</td>\n      <td>False</td>\n      <td>2021-02-19T02:16:48.519Z</td>\n      <td>False</td>\n      <td>{'location': {'name': 'Berlin', 'buyingPrice':...</td>\n      <td>False</td>\n      <td>101.269036</td>\n      <td>{'immobilienmarkt1a': {'street': None, 'postco...</td>\n      <td>{'postcode': '10551', 'location': 'Berlin'}</td>\n      <td>NaN</td>\n      <td>[{'id': '9779fc1c2a9940a83ef2885980127866', 'o...</td>\n      <td>[{'buyingPrice': 399000, 'platformName': 'immo...</td>\n      <td>False</td>\n      <td>False</td>\n      <td>0</td>\n      <td>2021-02-19T02:16:50.189Z</td>\n      <td>0</td>\n      <td>None</td>\n      <td>-523.33</td>\n      <td>-15.739348</td>\n      <td>-523.33</td>\n      <td>True</td>\n    </tr>\n    <tr>\n      <th>558</th>\n      <td>3f5a72754cb254fb98e9d79d110cac28</td>\n      <td>Wiesbaden – Solide vermietete, pfiffige Wohnun...</td>\n      <td>65189</td>\n      <td>145000.0</td>\n      <td>1.0</td>\n      <td>51.00</td>\n      <td>3.57</td>\n      <td>[{'name': 'ivd24', 'publishDate': '2021-02-18T...</td>\n      <td>11.450980</td>\n      <td>2843.137255</td>\n      <td>584.0</td>\n      <td>166.916667</td>\n      <td>3.272876</td>\n      <td>{'ISO_3166-1_alpha-2': 'DE', 'ISO_3166-1_alpha...</td>\n      <td>Hessen</td>\n      <td>False</td>\n      <td>{'population': 278474, 'populationTrend': {'fr...</td>\n      <td>4.83</td>\n      <td>1.38</td>\n      <td>1983.0</td>\n      <td>GROUND_FLOOR</td>\n      <td>NO_INFORMATION</td>\n      <td>NaN</td>\n      <td>False</td>\n      <td>NaN</td>\n      <td>NaN</td>\n      <td>False</td>\n      <td>False</td>\n      <td>True</td>\n      <td>True</td>\n      <td>2021-02-18T17:24:44.502Z</td>\n      <td>False</td>\n      <td>{'district': {'name': 'Südost', 'buyingPrice':...</td>\n      <td>False</td>\n      <td>81.460674</td>\n      <td>{'immobilio': {'street': 'Friedenstraße 24b', ...</td>\n      <td>{'street': 'Friedenstraße 24b', 'postcode': '6...</td>\n      <td>182.0</td>\n      <td>[{'id': '8d65156e36ea47a80ac8a12c67f2dd01', 'o...</td>\n      <td>[{'buyingPrice': 145000, 'platformName': 'ivd2...</td>\n      <td>False</td>\n      <td>False</td>\n      <td>0</td>\n      <td>2021-02-19T08:14:29.114Z</td>\n      <td>0</td>\n      <td>None</td>\n      <td>-320.25</td>\n      <td>-26.503793</td>\n      <td>-320.25</td>\n      <td>True</td>\n    </tr>\n    <tr>\n      <th>456</th>\n      <td>4e7d3a5cedba1ac58b5a8690ccfd6303</td>\n      <td>Voll ausgestattete Zwei-Zimmer-Wohnung mit Bal...</td>\n      <td>85598</td>\n      <td>389000.0</td>\n      <td>2.0</td>\n      <td>57.00</td>\n      <td>1.95</td>\n      <td>[{'name': 'is24', 'publishDate': '2021-02-18T1...</td>\n      <td>13.982456</td>\n      <td>6824.561404</td>\n      <td>797.0</td>\n      <td>764.000000</td>\n      <td>13.403509</td>\n      <td>{'ISO_3166-1_alpha-2': 'DE', 'ISO_3166-1_alpha...</td>\n      <td>Bayern</td>\n      <td>False</td>\n      <td>{'population': 0, 'populationTrend': {'from': ...</td>\n      <td>2.46</td>\n      <td>2.36</td>\n      <td>1972.0</td>\n      <td>NO_INFORMATION</td>\n      <td>WELL_KEPT</td>\n      <td>NaN</td>\n      <td>True</td>\n      <td>2.0</td>\n      <td>5.0</td>\n      <td>True</td>\n      <td>False</td>\n      <td>True</td>\n      <td>True</td>\n      <td>2021-02-18T18:51:15.000Z</td>\n      <td>False</td>\n      <td>{'location': {'name': 'Vaterstetten', 'buyingP...</td>\n      <td>False</td>\n      <td>123.492063</td>\n      <td>{'is24': {'street': None, 'postcode': '85598',...</td>\n      <td>{'postcode': '85598', 'location': 'Vaterstette...</td>\n      <td>220.0</td>\n      <td>[{'id': 'f93bc1ef2776a0e92b30fa38e1d46159', 'o...</td>\n      <td>[{'buyingPrice': 389000, 'platformName': 'is24...</td>\n      <td>False</td>\n      <td>False</td>\n      <td>1</td>\n      <td>2021-02-19T08:51:23.374Z</td>\n      <td>0</td>\n      <td>None</td>\n      <td>-608.82</td>\n      <td>-18.780977</td>\n      <td>-608.82</td>\n      <td>True</td>\n    </tr>\n  </tbody>\n</table>\n</div>"
     },
     "metadata": {},
     "execution_count": 42
    }
   ],
   "source": [
    "df.sample(10)"
   ]
  },
  {
   "cell_type": "code",
   "execution_count": 43,
   "metadata": {},
   "outputs": [
    {
     "output_type": "error",
     "ename": "NameError",
     "evalue": "name 'get_cashflow_after_operating_expenses' is not defined",
     "traceback": [
      "\u001b[0;31m---------------------------------------------------------------------------\u001b[0m",
      "\u001b[0;31mNameError\u001b[0m                                 Traceback (most recent call last)",
      "\u001b[0;32m<ipython-input-43-5cddd50d5e76>\u001b[0m in \u001b[0;36m<module>\u001b[0;34m\u001b[0m\n\u001b[1;32m      1\u001b[0m \u001b[0mdf_cashflow_comparisson\u001b[0m \u001b[0;34m=\u001b[0m \u001b[0mdf\u001b[0m\u001b[0;34m[\u001b[0m\u001b[0;34m[\u001b[0m\u001b[0;34m\"id\"\u001b[0m\u001b[0;34m,\u001b[0m\u001b[0;34m\"title\"\u001b[0m\u001b[0;34m,\u001b[0m\u001b[0;34m\"zip\"\u001b[0m\u001b[0;34m,\u001b[0m\u001b[0;34m\"buyingPrice\"\u001b[0m\u001b[0;34m,\u001b[0m\u001b[0;34m\"cashFlow\"\u001b[0m\u001b[0;34m]\u001b[0m\u001b[0;34m]\u001b[0m\u001b[0;34m\u001b[0m\u001b[0;34m\u001b[0m\u001b[0m\n\u001b[0;32m----> 2\u001b[0;31m \u001b[0mdf_cashflow_comparisson\u001b[0m\u001b[0;34m[\u001b[0m\u001b[0;34m\"liveAiCashflow\"\u001b[0m\u001b[0;34m]\u001b[0m \u001b[0;34m=\u001b[0m \u001b[0mget_cashflow_after_operating_expenses\u001b[0m\u001b[0;34m(\u001b[0m\u001b[0mdf_cashflow_comparisson\u001b[0m\u001b[0;34m[\u001b[0m\u001b[0;34m\"buyingPrice\"\u001b[0m\u001b[0;34m]\u001b[0m\u001b[0;34m,\u001b[0m\u001b[0;34m)\u001b[0m\u001b[0;34m\u001b[0m\u001b[0;34m\u001b[0m\u001b[0m\n\u001b[0m\u001b[1;32m      3\u001b[0m \u001b[0mdf_cashflow_comparisson\u001b[0m\u001b[0;34m.\u001b[0m\u001b[0mhead\u001b[0m\u001b[0;34m(\u001b[0m\u001b[0;34m)\u001b[0m\u001b[0;34m\u001b[0m\u001b[0;34m\u001b[0m\u001b[0m\n",
      "\u001b[0;31mNameError\u001b[0m: name 'get_cashflow_after_operating_expenses' is not defined"
     ]
    }
   ],
   "source": [
    "df_cashflow_comparisson = df[[\"id\",\"title\",\"zip\",\"buyingPrice\",\"cashFlow\"]] \n",
    "df_cashflow_comparisson[\"liveAiCashflow\"] = get_cashflow_after_operating_expenses(df_cashflow_comparisson[\"buyingPrice\"],)\n",
    "df_cashflow_comparisson.head()"
   ]
  },
  {
   "cell_type": "markdown",
   "metadata": {},
   "source": [
    "# Next steps"
   ]
  },
  {
   "cell_type": "markdown",
   "metadata": {},
   "source": [
    "- Clean null values. \n",
    "- Transform into clean schema.\n",
    "- Load clean csv into S3 bucket.\n"
   ]
  },
  {
   "cell_type": "code",
   "execution_count": null,
   "metadata": {},
   "outputs": [],
   "source": []
  }
 ],
 "metadata": {
  "kernelspec": {
   "display_name": "venv02_real",
   "language": "python",
   "name": "venv02_real"
  },
  "language_info": {
   "codemirror_mode": {
    "name": "ipython",
    "version": 3
   },
   "file_extension": ".py",
   "mimetype": "text/x-python",
   "name": "python",
   "nbconvert_exporter": "python",
   "pygments_lexer": "ipython3",
   "version": "3.8.6-final"
  },
  "toc": {
   "base_numbering": 1,
   "nav_menu": {},
   "number_sections": true,
   "sideBar": true,
   "skip_h1_title": false,
   "title_cell": "Table of Contents",
   "title_sidebar": "Contents",
   "toc_cell": false,
   "toc_position": {},
   "toc_section_display": true,
   "toc_window_display": false
  }
 },
 "nbformat": 4,
 "nbformat_minor": 2
}