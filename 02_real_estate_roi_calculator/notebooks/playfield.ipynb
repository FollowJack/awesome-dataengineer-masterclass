{
 "cells": [
  {
   "cell_type": "code",
   "execution_count": 1,
   "metadata": {},
   "outputs": [],
   "source": [
    "# Importing modules\n",
    "import pandas as pd\n",
    "import requests\n",
    "import json"
   ]
  },
  {
   "cell_type": "code",
   "execution_count": 25,
   "metadata": {},
   "outputs": [
    {
     "output_type": "stream",
     "name": "stdout",
     "text": [
      "https://api.thinkimmo.com/immo?active=true&type=APARTMENTBUY&sortBy=publishDate,desc&from=0&size=300&grossReturnAnd=false&allowUnknown=false&ownCapital=10&ownCapitalInPercent=true&ownCapitalAdditionalCost=false&managementCostInPercent=true&renovationCostInPercent=true&renovationCost=0&interestRate=1.5&repaymentRate=2&managementCost=35&additionalPurchaseCost=2&favorite=false&excludedFields=true&geoSearches=[]&averageAggregation=pricePerSqm%3BgrossReturn%3BsquareMeter%3BbuyingPrice%3BrunningTime%3BrentPricePerSqm%3BrentPrice%3BconstructionYear\n"
     ]
    }
   ],
   "source": [
    "property_type = \"APARTMENTBUY\"\n",
    "offset=0\n",
    "size=300\n",
    "data_path = \"../data/thinkimmo.json\"\n",
    "ALL_PROPERTY_URL = \"https://api.thinkimmo.com/immo?active=true&type={property_type}&sortBy=publishDate,desc&from={offset}&size={size}&grossReturnAnd=false&allowUnknown=false&ownCapital=10&ownCapitalInPercent=true&ownCapitalAdditionalCost=false&managementCostInPercent=true&renovationCostInPercent=true&renovationCost=0&interestRate=1.5&repaymentRate=2&managementCost=35&additionalPurchaseCost=2&favorite=false&excludedFields=true&geoSearches=[]&averageAggregation=pricePerSqm%3BgrossReturn%3BsquareMeter%3BbuyingPrice%3BrunningTime%3BrentPricePerSqm%3BrentPrice%3BconstructionYear\"\n",
    "url = ALL_PROPERTY_URL.format(\n",
    "    property_type=property_type, offset=offset, size=size\n",
    ")\n",
    "print(url)\n",
    "_session = requests.Session()\n",
    "response = _session.get(url=url)\n",
    "data = {}\n",
    "if response.status_code == requests.codes.ok:\n",
    "    data = response.json()\n",
    "    with open(data_path, 'w') as outfile:\n",
    "        json.dump(data, outfile)"
   ]
  },
  {
   "cell_type": "code",
   "execution_count": 27,
   "metadata": {},
   "outputs": [
    {
     "output_type": "execute_result",
     "data": {
      "text/plain": [
       "'../data/thinkimmo.json'"
      ]
     },
     "metadata": {},
     "execution_count": 27
    }
   ],
   "source": [
    "data_path"
   ]
  },
  {
   "cell_type": "code",
   "execution_count": 36,
   "metadata": {},
   "outputs": [
    {
     "output_type": "execute_result",
     "data": {
      "text/plain": [
       "                                   id  \\\n",
       "0    a96d949081a272536e820d93ffb4a205   \n",
       "1    0574646ce54499ee08cedc7a1754d432   \n",
       "2    73eefaaf745ce1496eb95865d9551489   \n",
       "3    78bf848769322e231167dffcf2748435   \n",
       "4    8c809cd91e29ad203a26eac0c825264c   \n",
       "..                                ...   \n",
       "295  e207f7a42f0da489a2d621687b2b4e34   \n",
       "296  bd2ae51e91a919b2d30f4b6e732e6ff2   \n",
       "297  d6d687e3df01d91205f934ff8e20b257   \n",
       "298  c08fd69ea7b370ef55760e7bf6e90737   \n",
       "299  f9db8257514436a8a55b7971f33764e9   \n",
       "\n",
       "                                                 title    zip  buyingPrice  \\\n",
       "0    Naturnahe und hochwertige Eigentumswohnungen i...  51789       249900   \n",
       "1      108 m² DG-Wohnung in ruhiger Lage von Hövelhof!  33161       129000   \n",
       "2    Naturnahe und hochwertige Eigentumswohnungen i...  51789       235900   \n",
       "3    4-Raum-Wohnung mit EBK und Balkon in Hochheim ...  65239       295000   \n",
       "4    ToFa: neuwertige Etagenwohnung mit gehobener A...  65239       259000   \n",
       "..                                                 ...    ...          ...   \n",
       "295  2,5 Zi-ETW mit Garage in ruhiger Lage von Bütt...  64572       290000   \n",
       "296  \"Märchenhaft Wohnen am Zauberland\" 3,5-Zi.Mais...  72290       379000   \n",
       "297  Ideal an München angebunden und ruhig gelegen ...  82008       353000   \n",
       "298  \"Märchenhaft Wohnen am Zauberland\" HIGLIGHT! 3...  72290       499000   \n",
       "299  \"Märchenhaft Wohnen am Zauberland\" 2,5-Zi.Mais...  72290       309000   \n",
       "\n",
       "     rooms  squareMeter  comission  \\\n",
       "0      2.0        68.74        NaN   \n",
       "1      3.0       108.15       3.00   \n",
       "2      2.0        64.47        NaN   \n",
       "3      4.0       108.00        NaN   \n",
       "4      2.0        62.00       3.00   \n",
       "..     ...          ...        ...   \n",
       "295    2.0        61.60        NaN   \n",
       "296    3.0       106.80        NaN   \n",
       "297    2.0        54.27       1.79   \n",
       "298    3.0       142.81        NaN   \n",
       "299    2.0        87.24        NaN   \n",
       "\n",
       "                                             platforms  rentPricePerSqm  \\\n",
       "0    [{'name': 'is24', 'id': '125697069', 'url': 'h...         9.339540   \n",
       "1    [{'name': 'is24', 'id': '125697150', 'url': 'h...         6.204346   \n",
       "2    [{'name': 'is24', 'id': '125696909', 'url': 'h...         9.430743   \n",
       "3    [{'name': 'is24', 'id': '125648871', 'url': 'h...         9.324074   \n",
       "4    [{'name': 'is24', 'id': '125696836', 'url': 'h...        11.935484   \n",
       "..                                                 ...              ...   \n",
       "295  [{'name': 'ivd24', 'publishDate': '2021-01-08T...         9.399351   \n",
       "296  [{'name': 'is24', 'id': '125688825', 'url': 'h...         8.258427   \n",
       "297  [{'name': 'is24', 'id': '125688805', 'url': 'h...        15.201769   \n",
       "298  [{'name': 'is24', 'id': '125688800', 'url': 'h...         7.961627   \n",
       "299  [{'name': 'is24', 'id': '125688777', 'url': 'h...         8.470885   \n",
       "\n",
       "     pricePerSqm  ...  priceReduced  priceIncreased  runningTime  \\\n",
       "0    3635.437882  ...         False           False            0   \n",
       "1    1192.787795  ...         False           False            0   \n",
       "2    3659.066232  ...         False           False            0   \n",
       "3    2731.481481  ...         False           False            0   \n",
       "4    4177.419355  ...         False           False            0   \n",
       "..           ...  ...           ...             ...          ...   \n",
       "295  4707.792208  ...         False           False            0   \n",
       "296  3548.689139  ...         False           False            0   \n",
       "297  6504.514465  ...         False           False            0   \n",
       "298  3494.153071  ...         False           False            0   \n",
       "299  3541.953232  ...         False           False            0   \n",
       "\n",
       "                lastUpdatedAt favorite  favoriteDate cashFlow  \\\n",
       "0    2021-01-08T12:19:42.836Z        0          None  -300.20   \n",
       "1    2021-01-08T12:20:08.629Z        0          None    54.07   \n",
       "2    2021-01-08T12:20:12.643Z        0          None  -281.47   \n",
       "3    2021-01-08T12:20:17.527Z        0          None  -188.37   \n",
       "4    2021-01-08T12:20:21.276Z        0          None  -344.92   \n",
       "..                        ...      ...           ...      ...   \n",
       "295  2021-01-08T12:18:00.365Z        0          None  -451.98   \n",
       "296  2021-01-08T12:18:00.396Z        0          None  -500.03   \n",
       "297  2021-01-08T11:07:04.448Z        0          None  -464.17   \n",
       "298  2021-01-08T12:10:48.926Z        0          None  -672.62   \n",
       "299  2021-01-08T12:10:49.314Z        0          None  -394.65   \n",
       "\n",
       "     ownCapitalReturn  cashFlowPerLivingUnit  hasImages  \n",
       "0          -14.415366                -300.20       True  \n",
       "1            5.029457                  54.07       True  \n",
       "2          -14.317931                -281.47       True  \n",
       "3           -7.662373                -188.37       True  \n",
       "4          -15.980695                -344.92       True  \n",
       "..                ...                    ...        ...  \n",
       "295        -18.702759                -451.98       True  \n",
       "296        -15.832190                -500.03       True  \n",
       "297        -15.779037                -464.17       True  \n",
       "298        -16.175150                -672.62       True  \n",
       "299        -15.326214                -394.65       True  \n",
       "\n",
       "[300 rows x 50 columns]"
      ],
      "text/html": "<div>\n<style scoped>\n    .dataframe tbody tr th:only-of-type {\n        vertical-align: middle;\n    }\n\n    .dataframe tbody tr th {\n        vertical-align: top;\n    }\n\n    .dataframe thead th {\n        text-align: right;\n    }\n</style>\n<table border=\"1\" class=\"dataframe\">\n  <thead>\n    <tr style=\"text-align: right;\">\n      <th></th>\n      <th>id</th>\n      <th>title</th>\n      <th>zip</th>\n      <th>buyingPrice</th>\n      <th>rooms</th>\n      <th>squareMeter</th>\n      <th>comission</th>\n      <th>platforms</th>\n      <th>rentPricePerSqm</th>\n      <th>pricePerSqm</th>\n      <th>...</th>\n      <th>priceReduced</th>\n      <th>priceIncreased</th>\n      <th>runningTime</th>\n      <th>lastUpdatedAt</th>\n      <th>favorite</th>\n      <th>favoriteDate</th>\n      <th>cashFlow</th>\n      <th>ownCapitalReturn</th>\n      <th>cashFlowPerLivingUnit</th>\n      <th>hasImages</th>\n    </tr>\n  </thead>\n  <tbody>\n    <tr>\n      <th>0</th>\n      <td>a96d949081a272536e820d93ffb4a205</td>\n      <td>Naturnahe und hochwertige Eigentumswohnungen i...</td>\n      <td>51789</td>\n      <td>249900</td>\n      <td>2.0</td>\n      <td>68.74</td>\n      <td>NaN</td>\n      <td>[{'name': 'is24', 'id': '125697069', 'url': 'h...</td>\n      <td>9.339540</td>\n      <td>3635.437882</td>\n      <td>...</td>\n      <td>False</td>\n      <td>False</td>\n      <td>0</td>\n      <td>2021-01-08T12:19:42.836Z</td>\n      <td>0</td>\n      <td>None</td>\n      <td>-300.20</td>\n      <td>-14.415366</td>\n      <td>-300.20</td>\n      <td>True</td>\n    </tr>\n    <tr>\n      <th>1</th>\n      <td>0574646ce54499ee08cedc7a1754d432</td>\n      <td>108 m² DG-Wohnung in ruhiger Lage von Hövelhof!</td>\n      <td>33161</td>\n      <td>129000</td>\n      <td>3.0</td>\n      <td>108.15</td>\n      <td>3.00</td>\n      <td>[{'name': 'is24', 'id': '125697150', 'url': 'h...</td>\n      <td>6.204346</td>\n      <td>1192.787795</td>\n      <td>...</td>\n      <td>False</td>\n      <td>False</td>\n      <td>0</td>\n      <td>2021-01-08T12:20:08.629Z</td>\n      <td>0</td>\n      <td>None</td>\n      <td>54.07</td>\n      <td>5.029457</td>\n      <td>54.07</td>\n      <td>True</td>\n    </tr>\n    <tr>\n      <th>2</th>\n      <td>73eefaaf745ce1496eb95865d9551489</td>\n      <td>Naturnahe und hochwertige Eigentumswohnungen i...</td>\n      <td>51789</td>\n      <td>235900</td>\n      <td>2.0</td>\n      <td>64.47</td>\n      <td>NaN</td>\n      <td>[{'name': 'is24', 'id': '125696909', 'url': 'h...</td>\n      <td>9.430743</td>\n      <td>3659.066232</td>\n      <td>...</td>\n      <td>False</td>\n      <td>False</td>\n      <td>0</td>\n      <td>2021-01-08T12:20:12.643Z</td>\n      <td>0</td>\n      <td>None</td>\n      <td>-281.47</td>\n      <td>-14.317931</td>\n      <td>-281.47</td>\n      <td>True</td>\n    </tr>\n    <tr>\n      <th>3</th>\n      <td>78bf848769322e231167dffcf2748435</td>\n      <td>4-Raum-Wohnung mit EBK und Balkon in Hochheim ...</td>\n      <td>65239</td>\n      <td>295000</td>\n      <td>4.0</td>\n      <td>108.00</td>\n      <td>NaN</td>\n      <td>[{'name': 'is24', 'id': '125648871', 'url': 'h...</td>\n      <td>9.324074</td>\n      <td>2731.481481</td>\n      <td>...</td>\n      <td>False</td>\n      <td>False</td>\n      <td>0</td>\n      <td>2021-01-08T12:20:17.527Z</td>\n      <td>0</td>\n      <td>None</td>\n      <td>-188.37</td>\n      <td>-7.662373</td>\n      <td>-188.37</td>\n      <td>True</td>\n    </tr>\n    <tr>\n      <th>4</th>\n      <td>8c809cd91e29ad203a26eac0c825264c</td>\n      <td>ToFa: neuwertige Etagenwohnung mit gehobener A...</td>\n      <td>65239</td>\n      <td>259000</td>\n      <td>2.0</td>\n      <td>62.00</td>\n      <td>3.00</td>\n      <td>[{'name': 'is24', 'id': '125696836', 'url': 'h...</td>\n      <td>11.935484</td>\n      <td>4177.419355</td>\n      <td>...</td>\n      <td>False</td>\n      <td>False</td>\n      <td>0</td>\n      <td>2021-01-08T12:20:21.276Z</td>\n      <td>0</td>\n      <td>None</td>\n      <td>-344.92</td>\n      <td>-15.980695</td>\n      <td>-344.92</td>\n      <td>True</td>\n    </tr>\n    <tr>\n      <th>...</th>\n      <td>...</td>\n      <td>...</td>\n      <td>...</td>\n      <td>...</td>\n      <td>...</td>\n      <td>...</td>\n      <td>...</td>\n      <td>...</td>\n      <td>...</td>\n      <td>...</td>\n      <td>...</td>\n      <td>...</td>\n      <td>...</td>\n      <td>...</td>\n      <td>...</td>\n      <td>...</td>\n      <td>...</td>\n      <td>...</td>\n      <td>...</td>\n      <td>...</td>\n      <td>...</td>\n    </tr>\n    <tr>\n      <th>295</th>\n      <td>e207f7a42f0da489a2d621687b2b4e34</td>\n      <td>2,5 Zi-ETW mit Garage in ruhiger Lage von Bütt...</td>\n      <td>64572</td>\n      <td>290000</td>\n      <td>2.0</td>\n      <td>61.60</td>\n      <td>NaN</td>\n      <td>[{'name': 'ivd24', 'publishDate': '2021-01-08T...</td>\n      <td>9.399351</td>\n      <td>4707.792208</td>\n      <td>...</td>\n      <td>False</td>\n      <td>False</td>\n      <td>0</td>\n      <td>2021-01-08T12:18:00.365Z</td>\n      <td>0</td>\n      <td>None</td>\n      <td>-451.98</td>\n      <td>-18.702759</td>\n      <td>-451.98</td>\n      <td>True</td>\n    </tr>\n    <tr>\n      <th>296</th>\n      <td>bd2ae51e91a919b2d30f4b6e732e6ff2</td>\n      <td>\"Märchenhaft Wohnen am Zauberland\" 3,5-Zi.Mais...</td>\n      <td>72290</td>\n      <td>379000</td>\n      <td>3.0</td>\n      <td>106.80</td>\n      <td>NaN</td>\n      <td>[{'name': 'is24', 'id': '125688825', 'url': 'h...</td>\n      <td>8.258427</td>\n      <td>3548.689139</td>\n      <td>...</td>\n      <td>False</td>\n      <td>False</td>\n      <td>0</td>\n      <td>2021-01-08T12:18:00.396Z</td>\n      <td>0</td>\n      <td>None</td>\n      <td>-500.03</td>\n      <td>-15.832190</td>\n      <td>-500.03</td>\n      <td>True</td>\n    </tr>\n    <tr>\n      <th>297</th>\n      <td>d6d687e3df01d91205f934ff8e20b257</td>\n      <td>Ideal an München angebunden und ruhig gelegen ...</td>\n      <td>82008</td>\n      <td>353000</td>\n      <td>2.0</td>\n      <td>54.27</td>\n      <td>1.79</td>\n      <td>[{'name': 'is24', 'id': '125688805', 'url': 'h...</td>\n      <td>15.201769</td>\n      <td>6504.514465</td>\n      <td>...</td>\n      <td>False</td>\n      <td>False</td>\n      <td>0</td>\n      <td>2021-01-08T11:07:04.448Z</td>\n      <td>0</td>\n      <td>None</td>\n      <td>-464.17</td>\n      <td>-15.779037</td>\n      <td>-464.17</td>\n      <td>True</td>\n    </tr>\n    <tr>\n      <th>298</th>\n      <td>c08fd69ea7b370ef55760e7bf6e90737</td>\n      <td>\"Märchenhaft Wohnen am Zauberland\" HIGLIGHT! 3...</td>\n      <td>72290</td>\n      <td>499000</td>\n      <td>3.0</td>\n      <td>142.81</td>\n      <td>NaN</td>\n      <td>[{'name': 'is24', 'id': '125688800', 'url': 'h...</td>\n      <td>7.961627</td>\n      <td>3494.153071</td>\n      <td>...</td>\n      <td>False</td>\n      <td>False</td>\n      <td>0</td>\n      <td>2021-01-08T12:10:48.926Z</td>\n      <td>0</td>\n      <td>None</td>\n      <td>-672.62</td>\n      <td>-16.175150</td>\n      <td>-672.62</td>\n      <td>True</td>\n    </tr>\n    <tr>\n      <th>299</th>\n      <td>f9db8257514436a8a55b7971f33764e9</td>\n      <td>\"Märchenhaft Wohnen am Zauberland\" 2,5-Zi.Mais...</td>\n      <td>72290</td>\n      <td>309000</td>\n      <td>2.0</td>\n      <td>87.24</td>\n      <td>NaN</td>\n      <td>[{'name': 'is24', 'id': '125688777', 'url': 'h...</td>\n      <td>8.470885</td>\n      <td>3541.953232</td>\n      <td>...</td>\n      <td>False</td>\n      <td>False</td>\n      <td>0</td>\n      <td>2021-01-08T12:10:49.314Z</td>\n      <td>0</td>\n      <td>None</td>\n      <td>-394.65</td>\n      <td>-15.326214</td>\n      <td>-394.65</td>\n      <td>True</td>\n    </tr>\n  </tbody>\n</table>\n<p>300 rows × 50 columns</p>\n</div>"
     },
     "metadata": {},
     "execution_count": 36
    }
   ],
   "source": [
    "with open(data_path) as json_file:\n",
    "    data = json.load(json_file)\n",
    "df = pd.DataFrame.from_dict(data['results'])\n",
    "df"
   ]
  },
  {
   "cell_type": "code",
   "execution_count": 33,
   "metadata": {
    "dc": {
     "key": "4"
    },
    "tags": [
     "sample_code"
    ]
   },
   "outputs": [
    {
     "output_type": "error",
     "ename": "ValueError",
     "evalue": "Mixing dicts with non-Series may lead to ambiguous ordering.",
     "traceback": [
      "\u001b[0;31m---------------------------------------------------------------------------\u001b[0m",
      "\u001b[0;31mValueError\u001b[0m                                Traceback (most recent call last)",
      "\u001b[0;32m<ipython-input-33-ce3294179e84>\u001b[0m in \u001b[0;36m<module>\u001b[0;34m\u001b[0m\n\u001b[1;32m      1\u001b[0m \u001b[0;31m# with open(data_path) as json_file:\u001b[0m\u001b[0;34m\u001b[0m\u001b[0;34m\u001b[0m\u001b[0;34m\u001b[0m\u001b[0m\n\u001b[1;32m      2\u001b[0m \u001b[0;31m#     data = json.load(json_file)\u001b[0m\u001b[0;34m\u001b[0m\u001b[0;34m\u001b[0m\u001b[0;34m\u001b[0m\u001b[0m\n\u001b[0;32m----> 3\u001b[0;31m \u001b[0mdf\u001b[0m \u001b[0;34m=\u001b[0m \u001b[0mpd\u001b[0m\u001b[0;34m.\u001b[0m\u001b[0mread_json\u001b[0m\u001b[0;34m(\u001b[0m\u001b[0mdata_path\u001b[0m\u001b[0;34m)\u001b[0m\u001b[0;34m\u001b[0m\u001b[0;34m\u001b[0m\u001b[0m\n\u001b[0m\u001b[1;32m      4\u001b[0m \u001b[0;34m\u001b[0m\u001b[0m\n\u001b[1;32m      5\u001b[0m \u001b[0;31m# Print out the first rows of papers\u001b[0m\u001b[0;34m\u001b[0m\u001b[0;34m\u001b[0m\u001b[0;34m\u001b[0m\u001b[0m\n",
      "\u001b[0;32m~/opt/anaconda3/lib/python3.8/site-packages/pandas/util/_decorators.py\u001b[0m in \u001b[0;36mwrapper\u001b[0;34m(*args, **kwargs)\u001b[0m\n\u001b[1;32m    197\u001b[0m                 \u001b[0;32melse\u001b[0m\u001b[0;34m:\u001b[0m\u001b[0;34m\u001b[0m\u001b[0;34m\u001b[0m\u001b[0m\n\u001b[1;32m    198\u001b[0m                     \u001b[0mkwargs\u001b[0m\u001b[0;34m[\u001b[0m\u001b[0mnew_arg_name\u001b[0m\u001b[0;34m]\u001b[0m \u001b[0;34m=\u001b[0m \u001b[0mnew_arg_value\u001b[0m\u001b[0;34m\u001b[0m\u001b[0;34m\u001b[0m\u001b[0m\n\u001b[0;32m--> 199\u001b[0;31m             \u001b[0;32mreturn\u001b[0m \u001b[0mfunc\u001b[0m\u001b[0;34m(\u001b[0m\u001b[0;34m*\u001b[0m\u001b[0margs\u001b[0m\u001b[0;34m,\u001b[0m \u001b[0;34m**\u001b[0m\u001b[0mkwargs\u001b[0m\u001b[0;34m)\u001b[0m\u001b[0;34m\u001b[0m\u001b[0;34m\u001b[0m\u001b[0m\n\u001b[0m\u001b[1;32m    200\u001b[0m \u001b[0;34m\u001b[0m\u001b[0m\n\u001b[1;32m    201\u001b[0m         \u001b[0;32mreturn\u001b[0m \u001b[0mcast\u001b[0m\u001b[0;34m(\u001b[0m\u001b[0mF\u001b[0m\u001b[0;34m,\u001b[0m \u001b[0mwrapper\u001b[0m\u001b[0;34m)\u001b[0m\u001b[0;34m\u001b[0m\u001b[0;34m\u001b[0m\u001b[0m\n",
      "\u001b[0;32m~/opt/anaconda3/lib/python3.8/site-packages/pandas/util/_decorators.py\u001b[0m in \u001b[0;36mwrapper\u001b[0;34m(*args, **kwargs)\u001b[0m\n\u001b[1;32m    294\u001b[0m                 )\n\u001b[1;32m    295\u001b[0m                 \u001b[0mwarnings\u001b[0m\u001b[0;34m.\u001b[0m\u001b[0mwarn\u001b[0m\u001b[0;34m(\u001b[0m\u001b[0mmsg\u001b[0m\u001b[0;34m,\u001b[0m \u001b[0mFutureWarning\u001b[0m\u001b[0;34m,\u001b[0m \u001b[0mstacklevel\u001b[0m\u001b[0;34m=\u001b[0m\u001b[0mstacklevel\u001b[0m\u001b[0;34m)\u001b[0m\u001b[0;34m\u001b[0m\u001b[0;34m\u001b[0m\u001b[0m\n\u001b[0;32m--> 296\u001b[0;31m             \u001b[0;32mreturn\u001b[0m \u001b[0mfunc\u001b[0m\u001b[0;34m(\u001b[0m\u001b[0;34m*\u001b[0m\u001b[0margs\u001b[0m\u001b[0;34m,\u001b[0m \u001b[0;34m**\u001b[0m\u001b[0mkwargs\u001b[0m\u001b[0;34m)\u001b[0m\u001b[0;34m\u001b[0m\u001b[0;34m\u001b[0m\u001b[0m\n\u001b[0m\u001b[1;32m    297\u001b[0m \u001b[0;34m\u001b[0m\u001b[0m\n\u001b[1;32m    298\u001b[0m         \u001b[0;32mreturn\u001b[0m \u001b[0mwrapper\u001b[0m\u001b[0;34m\u001b[0m\u001b[0;34m\u001b[0m\u001b[0m\n",
      "\u001b[0;32m~/opt/anaconda3/lib/python3.8/site-packages/pandas/io/json/_json.py\u001b[0m in \u001b[0;36mread_json\u001b[0;34m(path_or_buf, orient, typ, dtype, convert_axes, convert_dates, keep_default_dates, numpy, precise_float, date_unit, encoding, lines, chunksize, compression, nrows)\u001b[0m\n\u001b[1;32m    616\u001b[0m         \u001b[0;32mreturn\u001b[0m \u001b[0mjson_reader\u001b[0m\u001b[0;34m\u001b[0m\u001b[0;34m\u001b[0m\u001b[0m\n\u001b[1;32m    617\u001b[0m \u001b[0;34m\u001b[0m\u001b[0m\n\u001b[0;32m--> 618\u001b[0;31m     \u001b[0mresult\u001b[0m \u001b[0;34m=\u001b[0m \u001b[0mjson_reader\u001b[0m\u001b[0;34m.\u001b[0m\u001b[0mread\u001b[0m\u001b[0;34m(\u001b[0m\u001b[0;34m)\u001b[0m\u001b[0;34m\u001b[0m\u001b[0;34m\u001b[0m\u001b[0m\n\u001b[0m\u001b[1;32m    619\u001b[0m     \u001b[0;32mif\u001b[0m \u001b[0mshould_close\u001b[0m\u001b[0;34m:\u001b[0m\u001b[0;34m\u001b[0m\u001b[0;34m\u001b[0m\u001b[0m\n\u001b[1;32m    620\u001b[0m         \u001b[0mfilepath_or_buffer\u001b[0m\u001b[0;34m.\u001b[0m\u001b[0mclose\u001b[0m\u001b[0;34m(\u001b[0m\u001b[0;34m)\u001b[0m\u001b[0;34m\u001b[0m\u001b[0;34m\u001b[0m\u001b[0m\n",
      "\u001b[0;32m~/opt/anaconda3/lib/python3.8/site-packages/pandas/io/json/_json.py\u001b[0m in \u001b[0;36mread\u001b[0;34m(self)\u001b[0m\n\u001b[1;32m    753\u001b[0m                 \u001b[0mobj\u001b[0m \u001b[0;34m=\u001b[0m \u001b[0mself\u001b[0m\u001b[0;34m.\u001b[0m\u001b[0m_get_object_parser\u001b[0m\u001b[0;34m(\u001b[0m\u001b[0mself\u001b[0m\u001b[0;34m.\u001b[0m\u001b[0m_combine_lines\u001b[0m\u001b[0;34m(\u001b[0m\u001b[0mdata\u001b[0m\u001b[0;34m)\u001b[0m\u001b[0;34m)\u001b[0m\u001b[0;34m\u001b[0m\u001b[0;34m\u001b[0m\u001b[0m\n\u001b[1;32m    754\u001b[0m         \u001b[0;32melse\u001b[0m\u001b[0;34m:\u001b[0m\u001b[0;34m\u001b[0m\u001b[0;34m\u001b[0m\u001b[0m\n\u001b[0;32m--> 755\u001b[0;31m             \u001b[0mobj\u001b[0m \u001b[0;34m=\u001b[0m \u001b[0mself\u001b[0m\u001b[0;34m.\u001b[0m\u001b[0m_get_object_parser\u001b[0m\u001b[0;34m(\u001b[0m\u001b[0mself\u001b[0m\u001b[0;34m.\u001b[0m\u001b[0mdata\u001b[0m\u001b[0;34m)\u001b[0m\u001b[0;34m\u001b[0m\u001b[0;34m\u001b[0m\u001b[0m\n\u001b[0m\u001b[1;32m    756\u001b[0m         \u001b[0mself\u001b[0m\u001b[0;34m.\u001b[0m\u001b[0mclose\u001b[0m\u001b[0;34m(\u001b[0m\u001b[0;34m)\u001b[0m\u001b[0;34m\u001b[0m\u001b[0;34m\u001b[0m\u001b[0m\n\u001b[1;32m    757\u001b[0m         \u001b[0;32mreturn\u001b[0m \u001b[0mobj\u001b[0m\u001b[0;34m\u001b[0m\u001b[0;34m\u001b[0m\u001b[0m\n",
      "\u001b[0;32m~/opt/anaconda3/lib/python3.8/site-packages/pandas/io/json/_json.py\u001b[0m in \u001b[0;36m_get_object_parser\u001b[0;34m(self, json)\u001b[0m\n\u001b[1;32m    775\u001b[0m         \u001b[0mobj\u001b[0m \u001b[0;34m=\u001b[0m \u001b[0;32mNone\u001b[0m\u001b[0;34m\u001b[0m\u001b[0;34m\u001b[0m\u001b[0m\n\u001b[1;32m    776\u001b[0m         \u001b[0;32mif\u001b[0m \u001b[0mtyp\u001b[0m \u001b[0;34m==\u001b[0m \u001b[0;34m\"frame\"\u001b[0m\u001b[0;34m:\u001b[0m\u001b[0;34m\u001b[0m\u001b[0;34m\u001b[0m\u001b[0m\n\u001b[0;32m--> 777\u001b[0;31m             \u001b[0mobj\u001b[0m \u001b[0;34m=\u001b[0m \u001b[0mFrameParser\u001b[0m\u001b[0;34m(\u001b[0m\u001b[0mjson\u001b[0m\u001b[0;34m,\u001b[0m \u001b[0;34m**\u001b[0m\u001b[0mkwargs\u001b[0m\u001b[0;34m)\u001b[0m\u001b[0;34m.\u001b[0m\u001b[0mparse\u001b[0m\u001b[0;34m(\u001b[0m\u001b[0;34m)\u001b[0m\u001b[0;34m\u001b[0m\u001b[0;34m\u001b[0m\u001b[0m\n\u001b[0m\u001b[1;32m    778\u001b[0m \u001b[0;34m\u001b[0m\u001b[0m\n\u001b[1;32m    779\u001b[0m         \u001b[0;32mif\u001b[0m \u001b[0mtyp\u001b[0m \u001b[0;34m==\u001b[0m \u001b[0;34m\"series\"\u001b[0m \u001b[0;32mor\u001b[0m \u001b[0mobj\u001b[0m \u001b[0;32mis\u001b[0m \u001b[0;32mNone\u001b[0m\u001b[0;34m:\u001b[0m\u001b[0;34m\u001b[0m\u001b[0;34m\u001b[0m\u001b[0m\n",
      "\u001b[0;32m~/opt/anaconda3/lib/python3.8/site-packages/pandas/io/json/_json.py\u001b[0m in \u001b[0;36mparse\u001b[0;34m(self)\u001b[0m\n\u001b[1;32m    884\u001b[0m \u001b[0;34m\u001b[0m\u001b[0m\n\u001b[1;32m    885\u001b[0m         \u001b[0;32melse\u001b[0m\u001b[0;34m:\u001b[0m\u001b[0;34m\u001b[0m\u001b[0;34m\u001b[0m\u001b[0m\n\u001b[0;32m--> 886\u001b[0;31m             \u001b[0mself\u001b[0m\u001b[0;34m.\u001b[0m\u001b[0m_parse_no_numpy\u001b[0m\u001b[0;34m(\u001b[0m\u001b[0;34m)\u001b[0m\u001b[0;34m\u001b[0m\u001b[0;34m\u001b[0m\u001b[0m\n\u001b[0m\u001b[1;32m    887\u001b[0m \u001b[0;34m\u001b[0m\u001b[0m\n\u001b[1;32m    888\u001b[0m         \u001b[0;32mif\u001b[0m \u001b[0mself\u001b[0m\u001b[0;34m.\u001b[0m\u001b[0mobj\u001b[0m \u001b[0;32mis\u001b[0m \u001b[0;32mNone\u001b[0m\u001b[0;34m:\u001b[0m\u001b[0;34m\u001b[0m\u001b[0;34m\u001b[0m\u001b[0m\n",
      "\u001b[0;32m~/opt/anaconda3/lib/python3.8/site-packages/pandas/io/json/_json.py\u001b[0m in \u001b[0;36m_parse_no_numpy\u001b[0;34m(self)\u001b[0m\n\u001b[1;32m   1116\u001b[0m \u001b[0;34m\u001b[0m\u001b[0m\n\u001b[1;32m   1117\u001b[0m         \u001b[0;32mif\u001b[0m \u001b[0morient\u001b[0m \u001b[0;34m==\u001b[0m \u001b[0;34m\"columns\"\u001b[0m\u001b[0;34m:\u001b[0m\u001b[0;34m\u001b[0m\u001b[0;34m\u001b[0m\u001b[0m\n\u001b[0;32m-> 1118\u001b[0;31m             self.obj = DataFrame(\n\u001b[0m\u001b[1;32m   1119\u001b[0m                 \u001b[0mloads\u001b[0m\u001b[0;34m(\u001b[0m\u001b[0mjson\u001b[0m\u001b[0;34m,\u001b[0m \u001b[0mprecise_float\u001b[0m\u001b[0;34m=\u001b[0m\u001b[0mself\u001b[0m\u001b[0;34m.\u001b[0m\u001b[0mprecise_float\u001b[0m\u001b[0;34m)\u001b[0m\u001b[0;34m,\u001b[0m \u001b[0mdtype\u001b[0m\u001b[0;34m=\u001b[0m\u001b[0;32mNone\u001b[0m\u001b[0;34m\u001b[0m\u001b[0;34m\u001b[0m\u001b[0m\n\u001b[1;32m   1120\u001b[0m             )\n",
      "\u001b[0;32m~/opt/anaconda3/lib/python3.8/site-packages/pandas/core/frame.py\u001b[0m in \u001b[0;36m__init__\u001b[0;34m(self, data, index, columns, dtype, copy)\u001b[0m\n\u001b[1;32m    466\u001b[0m \u001b[0;34m\u001b[0m\u001b[0m\n\u001b[1;32m    467\u001b[0m         \u001b[0;32melif\u001b[0m \u001b[0misinstance\u001b[0m\u001b[0;34m(\u001b[0m\u001b[0mdata\u001b[0m\u001b[0;34m,\u001b[0m \u001b[0mdict\u001b[0m\u001b[0;34m)\u001b[0m\u001b[0;34m:\u001b[0m\u001b[0;34m\u001b[0m\u001b[0;34m\u001b[0m\u001b[0m\n\u001b[0;32m--> 468\u001b[0;31m             \u001b[0mmgr\u001b[0m \u001b[0;34m=\u001b[0m \u001b[0minit_dict\u001b[0m\u001b[0;34m(\u001b[0m\u001b[0mdata\u001b[0m\u001b[0;34m,\u001b[0m \u001b[0mindex\u001b[0m\u001b[0;34m,\u001b[0m \u001b[0mcolumns\u001b[0m\u001b[0;34m,\u001b[0m \u001b[0mdtype\u001b[0m\u001b[0;34m=\u001b[0m\u001b[0mdtype\u001b[0m\u001b[0;34m)\u001b[0m\u001b[0;34m\u001b[0m\u001b[0;34m\u001b[0m\u001b[0m\n\u001b[0m\u001b[1;32m    469\u001b[0m         \u001b[0;32melif\u001b[0m \u001b[0misinstance\u001b[0m\u001b[0;34m(\u001b[0m\u001b[0mdata\u001b[0m\u001b[0;34m,\u001b[0m \u001b[0mma\u001b[0m\u001b[0;34m.\u001b[0m\u001b[0mMaskedArray\u001b[0m\u001b[0;34m)\u001b[0m\u001b[0;34m:\u001b[0m\u001b[0;34m\u001b[0m\u001b[0;34m\u001b[0m\u001b[0m\n\u001b[1;32m    470\u001b[0m             \u001b[0;32mimport\u001b[0m \u001b[0mnumpy\u001b[0m\u001b[0;34m.\u001b[0m\u001b[0mma\u001b[0m\u001b[0;34m.\u001b[0m\u001b[0mmrecords\u001b[0m \u001b[0;32mas\u001b[0m \u001b[0mmrecords\u001b[0m\u001b[0;34m\u001b[0m\u001b[0;34m\u001b[0m\u001b[0m\n",
      "\u001b[0;32m~/opt/anaconda3/lib/python3.8/site-packages/pandas/core/internals/construction.py\u001b[0m in \u001b[0;36minit_dict\u001b[0;34m(data, index, columns, dtype)\u001b[0m\n\u001b[1;32m    281\u001b[0m             \u001b[0marr\u001b[0m \u001b[0;32mif\u001b[0m \u001b[0;32mnot\u001b[0m \u001b[0mis_datetime64tz_dtype\u001b[0m\u001b[0;34m(\u001b[0m\u001b[0marr\u001b[0m\u001b[0;34m)\u001b[0m \u001b[0;32melse\u001b[0m \u001b[0marr\u001b[0m\u001b[0;34m.\u001b[0m\u001b[0mcopy\u001b[0m\u001b[0;34m(\u001b[0m\u001b[0;34m)\u001b[0m \u001b[0;32mfor\u001b[0m \u001b[0marr\u001b[0m \u001b[0;32min\u001b[0m \u001b[0marrays\u001b[0m\u001b[0;34m\u001b[0m\u001b[0;34m\u001b[0m\u001b[0m\n\u001b[1;32m    282\u001b[0m         ]\n\u001b[0;32m--> 283\u001b[0;31m     \u001b[0;32mreturn\u001b[0m \u001b[0marrays_to_mgr\u001b[0m\u001b[0;34m(\u001b[0m\u001b[0marrays\u001b[0m\u001b[0;34m,\u001b[0m \u001b[0mdata_names\u001b[0m\u001b[0;34m,\u001b[0m \u001b[0mindex\u001b[0m\u001b[0;34m,\u001b[0m \u001b[0mcolumns\u001b[0m\u001b[0;34m,\u001b[0m \u001b[0mdtype\u001b[0m\u001b[0;34m=\u001b[0m\u001b[0mdtype\u001b[0m\u001b[0;34m)\u001b[0m\u001b[0;34m\u001b[0m\u001b[0;34m\u001b[0m\u001b[0m\n\u001b[0m\u001b[1;32m    284\u001b[0m \u001b[0;34m\u001b[0m\u001b[0m\n\u001b[1;32m    285\u001b[0m \u001b[0;34m\u001b[0m\u001b[0m\n",
      "\u001b[0;32m~/opt/anaconda3/lib/python3.8/site-packages/pandas/core/internals/construction.py\u001b[0m in \u001b[0;36marrays_to_mgr\u001b[0;34m(arrays, arr_names, index, columns, dtype, verify_integrity)\u001b[0m\n\u001b[1;32m     76\u001b[0m         \u001b[0;31m# figure out the index, if necessary\u001b[0m\u001b[0;34m\u001b[0m\u001b[0;34m\u001b[0m\u001b[0;34m\u001b[0m\u001b[0m\n\u001b[1;32m     77\u001b[0m         \u001b[0;32mif\u001b[0m \u001b[0mindex\u001b[0m \u001b[0;32mis\u001b[0m \u001b[0;32mNone\u001b[0m\u001b[0;34m:\u001b[0m\u001b[0;34m\u001b[0m\u001b[0;34m\u001b[0m\u001b[0m\n\u001b[0;32m---> 78\u001b[0;31m             \u001b[0mindex\u001b[0m \u001b[0;34m=\u001b[0m \u001b[0mextract_index\u001b[0m\u001b[0;34m(\u001b[0m\u001b[0marrays\u001b[0m\u001b[0;34m)\u001b[0m\u001b[0;34m\u001b[0m\u001b[0;34m\u001b[0m\u001b[0m\n\u001b[0m\u001b[1;32m     79\u001b[0m         \u001b[0;32melse\u001b[0m\u001b[0;34m:\u001b[0m\u001b[0;34m\u001b[0m\u001b[0;34m\u001b[0m\u001b[0m\n\u001b[1;32m     80\u001b[0m             \u001b[0mindex\u001b[0m \u001b[0;34m=\u001b[0m \u001b[0mensure_index\u001b[0m\u001b[0;34m(\u001b[0m\u001b[0mindex\u001b[0m\u001b[0;34m)\u001b[0m\u001b[0;34m\u001b[0m\u001b[0;34m\u001b[0m\u001b[0m\n",
      "\u001b[0;32m~/opt/anaconda3/lib/python3.8/site-packages/pandas/core/internals/construction.py\u001b[0m in \u001b[0;36mextract_index\u001b[0;34m(data)\u001b[0m\n\u001b[1;32m    398\u001b[0m \u001b[0;34m\u001b[0m\u001b[0m\n\u001b[1;32m    399\u001b[0m             \u001b[0;32mif\u001b[0m \u001b[0mhave_dicts\u001b[0m\u001b[0;34m:\u001b[0m\u001b[0;34m\u001b[0m\u001b[0;34m\u001b[0m\u001b[0m\n\u001b[0;32m--> 400\u001b[0;31m                 raise ValueError(\n\u001b[0m\u001b[1;32m    401\u001b[0m                     \u001b[0;34m\"Mixing dicts with non-Series may lead to ambiguous ordering.\"\u001b[0m\u001b[0;34m\u001b[0m\u001b[0;34m\u001b[0m\u001b[0m\n\u001b[1;32m    402\u001b[0m                 )\n",
      "\u001b[0;31mValueError\u001b[0m: Mixing dicts with non-Series may lead to ambiguous ordering."
     ]
    }
   ],
   "source": [
    "# with open(data_path) as json_file:\n",
    "#     data = json.load(json_file)\n",
    "df = pd.read_json(data_path)\n",
    "\n",
    "# Print out the first rows of papers\n",
    "df.head()"
   ]
  },
  {
   "cell_type": "code",
   "execution_count": 3,
   "metadata": {},
   "outputs": [],
   "source": [
    "#"
   ]
  },
  {
   "cell_type": "code",
   "execution_count": 1,
   "metadata": {},
   "outputs": [],
   "source": []
  },
  {
   "cell_type": "code",
   "execution_count": 2,
   "metadata": {},
   "outputs": [],
   "source": [
    "def postgresql_to_dataframe(conn, select_query):\n",
    "    \"\"\"\n",
    "    Tranform a SELECT query into a pandas dataframe\n",
    "    \"\"\"\n",
    "    # cursor = conn.cursor()\n",
    "    # try:\n",
    "    #     cursor.execute(select_query)\n",
    "    # except (Exception, psycopg2.DatabaseError) as error:\n",
    "    #     print(\"Error: %s\" % error)\n",
    "    #     cursor.close()\n",
    "    #     return 1\n",
    "    \n",
    "    # # Naturally we get a list of tupples\n",
    "    # tupples = cursor.fetchall()\n",
    "    # cursor.close()\n",
    "    print(\"Read from table\")\n",
    "    df = pd.read_sql_query(select_query,con=conn)\n",
    "    \n",
    "    # We just need to turn it into a pandas dataframe\n",
    "    # df = pd.DataFrame(tupples, columns=column_names)\n",
    "    return df"
   ]
  },
  {
   "cell_type": "code",
   "execution_count": 3,
   "metadata": {},
   "outputs": [
    {
     "output_type": "stream",
     "name": "stdout",
     "text": [
      "Connecting to the PostgreSQL database...\n",
      "Connection successful\n",
      "Read from table\n"
     ]
    },
    {
     "output_type": "execute_result",
     "data": {
      "text/plain": [
       "      id  active                       property_id  \\\n",
       "0  54253    True  deacd866948568ba215cb5a600c8a835   \n",
       "1  54254    True  109aed76a7f0d3cf4a0b4465b9a8f1f5   \n",
       "2  54255    True  6860351e314af87d7adc16f23659cab2   \n",
       "3  54263    True  3bab8b280b12f4c8eb50297ee182f52a   \n",
       "4  54264    True  94a1562d7a9a10a8a5599f61ec7f9a27   \n",
       "\n",
       "                                        property_url            source_id  \\\n",
       "0  https://www.immobilienscout24.de/expose/125127621            125127621   \n",
       "1  https://www.immobilienscout24.de/expose/125127610            125127610   \n",
       "2  https://www.immobilienscout24.de/expose/125127613            125127613   \n",
       "3           https://www.immobilien.de/wohnen/7390738    immobilien7390738   \n",
       "4  https://www.immobilienanzeigen24.com//53340-me...  immoanzeigen2479129   \n",
       "\n",
       "    source_portal property_type  \\\n",
       "0            is24         house   \n",
       "1            is24         house   \n",
       "2            is24         house   \n",
       "3      immobilien         house   \n",
       "4  immoanzeigen24         house   \n",
       "\n",
       "                                          image_urls  \\\n",
       "0  https://pictures.immobilienscout24.de/listings...   \n",
       "1  https://pictures.immobilienscout24.de/listings...   \n",
       "2  https://pictures.immobilienscout24.de/listings...   \n",
       "3  https://pictures.immobilienscout24.de/listings...   \n",
       "4  https://www.immobilienanzeigen24.com/immobilie...   \n",
       "\n",
       "                                      image_captions          city  ...  \\\n",
       "0  Hausansicht\\nSchlafzimmer\\nKinderzimmer\\nKinde...  Schulzendorf  ...   \n",
       "1  Hausansicht\\nAnkleide-Bad\\nBadezimmer\\nBadezim...  Schulzendorf  ...   \n",
       "2  Bien Zenker Evolution \\nCertifTestsieger \\nBie...       Hamburg  ...   \n",
       "3  Blick auf Haus/Wintergarten\\nKüche\\nBlick Terr...       Meldorf  ...   \n",
       "4             Vorderansicht\\nRückansicht\\nDachstudio    Meckenheim  ...   \n",
       "\n",
       "  construction_year       condition   latitude  longitude  zipcode  \\\n",
       "0               NaN  NO_INFORMATION  52.364316  13.596091    15732   \n",
       "1               NaN  NO_INFORMATION  52.364316  13.596091    15732   \n",
       "2               NaN  MINT_CONDITION  53.578103   9.828054    22589   \n",
       "3            1957.0  NO_INFORMATION  54.089880   9.070633    25704   \n",
       "4            1975.0       WELL_KEPT  50.625663   7.021561    53340   \n",
       "\n",
       "   foreclosure  is_rented_out                       created_at  \\\n",
       "0        False          False 2020-12-15 16:17:43.414476+00:00   \n",
       "1        False          False 2020-12-15 16:17:43.425658+00:00   \n",
       "2        False           True 2020-12-15 16:17:43.436296+00:00   \n",
       "3        False          False 2020-12-15 16:17:43.528304+00:00   \n",
       "4        False          False 2020-12-15 16:17:43.539198+00:00   \n",
       "\n",
       "                        updated_at  price_id  \n",
       "0 2020-12-15 16:17:43.419523+00:00   55250.0  \n",
       "1 2020-12-15 16:17:43.430226+00:00   55251.0  \n",
       "2 2020-12-15 16:17:43.440789+00:00   55252.0  \n",
       "3 2020-12-15 16:17:43.533079+00:00   55260.0  \n",
       "4 2020-12-15 16:17:43.543822+00:00   55261.0  \n",
       "\n",
       "[5 rows x 26 columns]"
      ],
      "text/html": "<div>\n<style scoped>\n    .dataframe tbody tr th:only-of-type {\n        vertical-align: middle;\n    }\n\n    .dataframe tbody tr th {\n        vertical-align: top;\n    }\n\n    .dataframe thead th {\n        text-align: right;\n    }\n</style>\n<table border=\"1\" class=\"dataframe\">\n  <thead>\n    <tr style=\"text-align: right;\">\n      <th></th>\n      <th>id</th>\n      <th>active</th>\n      <th>property_id</th>\n      <th>property_url</th>\n      <th>source_id</th>\n      <th>source_portal</th>\n      <th>property_type</th>\n      <th>image_urls</th>\n      <th>image_captions</th>\n      <th>city</th>\n      <th>...</th>\n      <th>construction_year</th>\n      <th>condition</th>\n      <th>latitude</th>\n      <th>longitude</th>\n      <th>zipcode</th>\n      <th>foreclosure</th>\n      <th>is_rented_out</th>\n      <th>created_at</th>\n      <th>updated_at</th>\n      <th>price_id</th>\n    </tr>\n  </thead>\n  <tbody>\n    <tr>\n      <th>0</th>\n      <td>54253</td>\n      <td>True</td>\n      <td>deacd866948568ba215cb5a600c8a835</td>\n      <td>https://www.immobilienscout24.de/expose/125127621</td>\n      <td>125127621</td>\n      <td>is24</td>\n      <td>house</td>\n      <td>https://pictures.immobilienscout24.de/listings...</td>\n      <td>Hausansicht\\nSchlafzimmer\\nKinderzimmer\\nKinde...</td>\n      <td>Schulzendorf</td>\n      <td>...</td>\n      <td>NaN</td>\n      <td>NO_INFORMATION</td>\n      <td>52.364316</td>\n      <td>13.596091</td>\n      <td>15732</td>\n      <td>False</td>\n      <td>False</td>\n      <td>2020-12-15 16:17:43.414476+00:00</td>\n      <td>2020-12-15 16:17:43.419523+00:00</td>\n      <td>55250.0</td>\n    </tr>\n    <tr>\n      <th>1</th>\n      <td>54254</td>\n      <td>True</td>\n      <td>109aed76a7f0d3cf4a0b4465b9a8f1f5</td>\n      <td>https://www.immobilienscout24.de/expose/125127610</td>\n      <td>125127610</td>\n      <td>is24</td>\n      <td>house</td>\n      <td>https://pictures.immobilienscout24.de/listings...</td>\n      <td>Hausansicht\\nAnkleide-Bad\\nBadezimmer\\nBadezim...</td>\n      <td>Schulzendorf</td>\n      <td>...</td>\n      <td>NaN</td>\n      <td>NO_INFORMATION</td>\n      <td>52.364316</td>\n      <td>13.596091</td>\n      <td>15732</td>\n      <td>False</td>\n      <td>False</td>\n      <td>2020-12-15 16:17:43.425658+00:00</td>\n      <td>2020-12-15 16:17:43.430226+00:00</td>\n      <td>55251.0</td>\n    </tr>\n    <tr>\n      <th>2</th>\n      <td>54255</td>\n      <td>True</td>\n      <td>6860351e314af87d7adc16f23659cab2</td>\n      <td>https://www.immobilienscout24.de/expose/125127613</td>\n      <td>125127613</td>\n      <td>is24</td>\n      <td>house</td>\n      <td>https://pictures.immobilienscout24.de/listings...</td>\n      <td>Bien Zenker Evolution \\nCertifTestsieger \\nBie...</td>\n      <td>Hamburg</td>\n      <td>...</td>\n      <td>NaN</td>\n      <td>MINT_CONDITION</td>\n      <td>53.578103</td>\n      <td>9.828054</td>\n      <td>22589</td>\n      <td>False</td>\n      <td>True</td>\n      <td>2020-12-15 16:17:43.436296+00:00</td>\n      <td>2020-12-15 16:17:43.440789+00:00</td>\n      <td>55252.0</td>\n    </tr>\n    <tr>\n      <th>3</th>\n      <td>54263</td>\n      <td>True</td>\n      <td>3bab8b280b12f4c8eb50297ee182f52a</td>\n      <td>https://www.immobilien.de/wohnen/7390738</td>\n      <td>immobilien7390738</td>\n      <td>immobilien</td>\n      <td>house</td>\n      <td>https://pictures.immobilienscout24.de/listings...</td>\n      <td>Blick auf Haus/Wintergarten\\nKüche\\nBlick Terr...</td>\n      <td>Meldorf</td>\n      <td>...</td>\n      <td>1957.0</td>\n      <td>NO_INFORMATION</td>\n      <td>54.089880</td>\n      <td>9.070633</td>\n      <td>25704</td>\n      <td>False</td>\n      <td>False</td>\n      <td>2020-12-15 16:17:43.528304+00:00</td>\n      <td>2020-12-15 16:17:43.533079+00:00</td>\n      <td>55260.0</td>\n    </tr>\n    <tr>\n      <th>4</th>\n      <td>54264</td>\n      <td>True</td>\n      <td>94a1562d7a9a10a8a5599f61ec7f9a27</td>\n      <td>https://www.immobilienanzeigen24.com//53340-me...</td>\n      <td>immoanzeigen2479129</td>\n      <td>immoanzeigen24</td>\n      <td>house</td>\n      <td>https://www.immobilienanzeigen24.com/immobilie...</td>\n      <td>Vorderansicht\\nRückansicht\\nDachstudio</td>\n      <td>Meckenheim</td>\n      <td>...</td>\n      <td>1975.0</td>\n      <td>WELL_KEPT</td>\n      <td>50.625663</td>\n      <td>7.021561</td>\n      <td>53340</td>\n      <td>False</td>\n      <td>False</td>\n      <td>2020-12-15 16:17:43.539198+00:00</td>\n      <td>2020-12-15 16:17:43.543822+00:00</td>\n      <td>55261.0</td>\n    </tr>\n  </tbody>\n</table>\n<p>5 rows × 26 columns</p>\n</div>"
     },
     "metadata": {},
     "execution_count": 3
    }
   ],
   "source": [
    "# Connect to the database\n",
    "conn = connect(connection_parameter)\n",
    "column_names = []#[\"id\", \"source\", \"datetime\", \"mean_temp\"]\n",
    "# Execute the \"SELECT *\" query\n",
    "df = postgresql_to_dataframe(conn, \"SELECT * FROM public.api_liveaiproperty;\")\n",
    "df.head()"
   ]
  },
  {
   "cell_type": "code",
   "execution_count": null,
   "metadata": {},
   "outputs": [],
   "source": []
  }
 ],
 "metadata": {
  "kernelspec": {
   "display_name": "Python 3",
   "language": "python",
   "name": "python3"
  },
  "language_info": {
   "codemirror_mode": {
    "name": "ipython",
    "version": 3
   },
   "file_extension": ".py",
   "mimetype": "text/x-python",
   "name": "python",
   "nbconvert_exporter": "python",
   "pygments_lexer": "ipython3",
   "version": "3.8.5-final"
  }
 },
 "nbformat": 4,
 "nbformat_minor": 2
}