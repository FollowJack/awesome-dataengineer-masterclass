{
 "cells": [
  {
   "cell_type": "markdown",
   "metadata": {},
   "source": [
    "### Setup Dependencies"
   ]
  },
  {
   "cell_type": "code",
   "execution_count": 37,
   "metadata": {},
   "outputs": [],
   "source": [
    "import csv\n",
    "import json\n",
    "from pymongo import MongoClient"
   ]
  },
  {
   "cell_type": "code",
   "execution_count": 38,
   "metadata": {},
   "outputs": [
    {
     "output_type": "execute_result",
     "data": {
      "text/plain": [
       "['admin', 'config', 'local', 'test']"
      ]
     },
     "metadata": {},
     "execution_count": 38
    }
   ],
   "source": [
    "# drop database\n",
    "client = MongoClient('mongodb://localhost:27017/')\n",
    "client.drop_database('nobel')\n",
    "client.list_database_names()"
   ]
  },
  {
   "cell_type": "code",
   "execution_count": 39,
   "metadata": {},
   "outputs": [],
   "source": [
    "def import_json_array(filename, collection):\n",
    "    \"\"\"Takes a csv file, converts each row into json, and inserts the rows into mongo \"\"\"\n",
    "\n",
    "    client = MongoClient('mongodb://localhost:27017/')\n",
    "    db = client.get_database('nobel')\n",
    "\n",
    "    with open(filename, 'r') as data_file:\n",
    "        # json_data = data_file.read()\n",
    "        array = json.load(data_file)\n",
    "        for entry in array:\n",
    "           db[collection].insert_one(entry)\n",
    "\n",
    "import_json_array(\"../data/laureates.json\",\"laureates\")\n",
    "import_json_array(\"../data/prizes.json\",\"prizes\")"
   ]
  },
  {
   "cell_type": "code",
   "execution_count": 40,
   "metadata": {},
   "outputs": [
    {
     "output_type": "execute_result",
     "data": {
      "text/plain": [
       "(['admin', 'config', 'local', 'nobel', 'test'], ['laureates', 'prizes'])"
      ]
     },
     "metadata": {},
     "execution_count": 40
    }
   ],
   "source": [
    "# list database names\n",
    "client = MongoClient('mongodb://localhost:27017/')\n",
    "db = client.get_database('nobel')\n",
    "client.list_database_names(),db.list_collection_names()"
   ]
  },
  {
   "cell_type": "code",
   "execution_count": 41,
   "metadata": {},
   "outputs": [],
   "source": [
    "def import_csv(filename, collection):\n",
    "    \"\"\"Takes a json file, converts each row into json, and inserts the rows into mongo \"\"\"\n",
    "\n",
    "    client = MongoClient('mongodb://localhost:27017/')\n",
    "    db = client.get_database('test')\n",
    "\n",
    "    with open(filename) as csvfile:\n",
    "        reader = csv.DictReader(csvfile)\n",
    "        for row in reader:\n",
    "            row['newfield'] = 'newvalue'\n",
    "            db[collection].insert_one(row)\n",
    "import_csv(\"../data/test.csv\",\"test_collection\")"
   ]
  },
  {
   "cell_type": "code",
   "execution_count": 42,
   "metadata": {},
   "outputs": [],
   "source": [
    "def read(collection):\n",
    "    \"\"\"Reads from a collection and prints out data \"\"\"\n",
    "\n",
    "    client = MongoClient('mongodb://localhost:27017/')\n",
    "    db = client.get_database('nobel')\n",
    "\n",
    "    cursor = db[collection].find()\n",
    "\n",
    "    for row in cursor:\n",
    "        # Do stuff here\n",
    "        print(row)\n",
    "        \n",
    "read(\"test_collection\")"
   ]
  },
  {
   "cell_type": "code",
   "execution_count": 43,
   "metadata": {},
   "outputs": [
    {
     "output_type": "execute_result",
     "data": {
      "text/plain": [
       "(590, 934)"
      ]
     },
     "metadata": {},
     "execution_count": 43
    }
   ],
   "source": [
    "len(list(db.prizes.find())), len(list(db.laureates.find()))"
   ]
  },
  {
   "cell_type": "code",
   "execution_count": 44,
   "metadata": {},
   "outputs": [
    {
     "output_type": "execute_result",
     "data": {
      "text/plain": [
       "(590, 934)"
      ]
     },
     "metadata": {},
     "execution_count": 44
    }
   ],
   "source": [
    "db[\"prizes\"].count_documents({}),db.laureates.count_documents({})"
   ]
  },
  {
   "cell_type": "code",
   "execution_count": 45,
   "metadata": {},
   "outputs": [
    {
     "output_type": "execute_result",
     "data": {
      "text/plain": [
       "{'_id': ObjectId('60016c9d585e08fd9974875c'),\n",
       " 'year': '2018',\n",
       " 'category': 'physics',\n",
       " 'overallMotivation': '“for groundbreaking inventions in the field of laser physics”',\n",
       " 'laureates': [{'id': '960',\n",
       "   'firstname': 'Arthur',\n",
       "   'surname': 'Ashkin',\n",
       "   'motivation': '\"for the optical tweezers and their application to biological systems\"',\n",
       "   'share': '2'},\n",
       "  {'id': '961',\n",
       "   'firstname': 'Gérard',\n",
       "   'surname': 'Mourou',\n",
       "   'motivation': '\"for their method of generating high-intensity, ultra-short optical pulses\"',\n",
       "   'share': '4'},\n",
       "  {'id': '962',\n",
       "   'firstname': 'Donna',\n",
       "   'surname': 'Strickland',\n",
       "   'motivation': '\"for their method of generating high-intensity, ultra-short optical pulses\"',\n",
       "   'share': '4'}]}"
      ]
     },
     "metadata": {},
     "execution_count": 45
    }
   ],
   "source": [
    "db[\"prizes\"].find_one()"
   ]
  },
  {
   "cell_type": "code",
   "execution_count": 46,
   "metadata": {},
   "outputs": [
    {
     "output_type": "stream",
     "name": "stdout",
     "text": [
      "physics\nmedicine\neconomics\nchemistry\npeace\n"
     ]
    }
   ],
   "source": [
    "cursor = db[\"prizes\"].find({\"year\": \"2018\"})\n",
    "for row in cursor:\n",
    "    # Do stuff here\n",
    "    print(row['category'])"
   ]
  },
  {
   "cell_type": "code",
   "execution_count": 47,
   "metadata": {},
   "outputs": [
    {
     "output_type": "execute_result",
     "data": {
      "text/plain": [
       "{'_id': ObjectId('60016c9d585e08fd9974875c'),\n",
       " 'year': '2018',\n",
       " 'category': 'physics',\n",
       " 'overallMotivation': '“for groundbreaking inventions in the field of laser physics”',\n",
       " 'laureates': [{'id': '960',\n",
       "   'firstname': 'Arthur',\n",
       "   'surname': 'Ashkin',\n",
       "   'motivation': '\"for the optical tweezers and their application to biological systems\"',\n",
       "   'share': '2'},\n",
       "  {'id': '961',\n",
       "   'firstname': 'Gérard',\n",
       "   'surname': 'Mourou',\n",
       "   'motivation': '\"for their method of generating high-intensity, ultra-short optical pulses\"',\n",
       "   'share': '4'},\n",
       "  {'id': '962',\n",
       "   'firstname': 'Donna',\n",
       "   'surname': 'Strickland',\n",
       "   'motivation': '\"for their method of generating high-intensity, ultra-short optical pulses\"',\n",
       "   'share': '4'}]}"
      ]
     },
     "metadata": {},
     "execution_count": 47
    }
   ],
   "source": [
    "criteria = {\"year\": {\"$exists\": True}}\n",
    "db[\"prizes\"].find_one(criteria)"
   ]
  },
  {
   "cell_type": "code",
   "execution_count": 48,
   "metadata": {},
   "outputs": [
    {
     "output_type": "execute_result",
     "data": {
      "text/plain": [
       "{'_id': ObjectId('60016c9d585e08fd9974875f'),\n",
       " 'year': '2017',\n",
       " 'category': 'peace',\n",
       " 'laureates': [{'id': '948',\n",
       "   'firstname': 'International Campaign to Abolish Nuclear Weapons (ICAN)',\n",
       "   'motivation': '\"for its work to draw attention to the catastrophic humanitarian consequences of any use of nuclear weapons and for its ground-breaking efforts to achieve a treaty-based prohibition of such weapons\"',\n",
       "   'share': '1',\n",
       "   'surname': ''}]}"
      ]
     },
     "metadata": {},
     "execution_count": 48
    }
   ],
   "source": [
    "criteria = {\"year\": {\"$ne\": \"2018\"}}\n",
    "db[\"prizes\"].find_one(criteria)\n"
   ]
  },
  {
   "cell_type": "code",
   "execution_count": 49,
   "metadata": {},
   "outputs": [
    {
     "output_type": "execute_result",
     "data": {
      "text/plain": [
       "['chemistry', 'economics', 'literature', 'medicine', 'peace', 'physics']"
      ]
     },
     "metadata": {},
     "execution_count": 49
    }
   ],
   "source": [
    "db[\"prizes\"].distinct(\"category\")"
   ]
  },
  {
   "cell_type": "code",
   "execution_count": 50,
   "metadata": {},
   "outputs": [
    {
     "output_type": "execute_result",
     "data": {
      "text/plain": [
       "({'_id': ObjectId('60016c9c585e08fd997484eb'),\n",
       "  'id': '482',\n",
       "  'firstname': 'Comité international de la Croix Rouge (International Committee of the Red Cross)',\n",
       "  'born': '0000-00-00',\n",
       "  'died': '0000-00-00',\n",
       "  'gender': 'org',\n",
       "  'prizes': [{'year': '1917',\n",
       "    'category': 'peace',\n",
       "    'share': '1',\n",
       "    'affiliations': [[]]},\n",
       "   {'year': '1944', 'category': 'peace', 'share': '1', 'affiliations': [[]]},\n",
       "   {'year': '1963', 'category': 'peace', 'share': '2', 'affiliations': [[]]}]},\n",
       " 'Count: 1')"
      ]
     },
     "metadata": {},
     "execution_count": 50
    }
   ],
   "source": [
    "# Filter for laureates with at least three prizes\n",
    "criteria = {\"prizes.2\": {\"$exists\": True}}\n",
    "\n",
    "# Find one laureate with at least three prizes\n",
    "db.laureates.find_one(criteria), \"Count: \"+str(db.laureates.count_documents(criteria))"
   ]
  },
  {
   "cell_type": "code",
   "execution_count": 51,
   "metadata": {},
   "outputs": [
    {
     "output_type": "execute_result",
     "data": {
      "text/plain": [
       "(True,\n",
       " {'Barbados',\n",
       "  'Czechoslovakia',\n",
       "  'East Germany',\n",
       "  'Gabon',\n",
       "  'Greece',\n",
       "  'Israel',\n",
       "  'Jamaica',\n",
       "  'Northern Rhodesia (now Zambia)',\n",
       "  'Philippines',\n",
       "  'Puerto Rico',\n",
       "  'Tunisia',\n",
       "  'USSR',\n",
       "  'Yugoslavia (now Serbia)'},\n",
       " 29)"
      ]
     },
     "metadata": {},
     "execution_count": 51
    }
   ],
   "source": [
    "isSameSet = set(db.prizes.distinct(\"category\")) == set(db.laureates.distinct(\"prizes.category\"))\n",
    "countries = set(db.laureates.distinct(\"diedCountry\")) - set(db.laureates.distinct(\"bornCountry\"))\n",
    "count = len(set(db.laureates.distinct(\"prizes.affiliations.country\")))\n",
    "# # The number of distinct countries of laureate affiliation for prizes\n",
    "isSameSet, countries, count"
   ]
  },
  {
   "cell_type": "code",
   "execution_count": 52,
   "metadata": {},
   "outputs": [
    {
     "output_type": "execute_result",
     "data": {
      "text/plain": [
       "['Australia', 'Denmark', 'USA', 'United Kingdom']"
      ]
     },
     "metadata": {},
     "execution_count": 52
    }
   ],
   "source": [
    "db.laureates.distinct(\"prizes.affiliations.country\",{\"bornCountry\": \"USA\"})"
   ]
  },
  {
   "cell_type": "code",
   "execution_count": 53,
   "metadata": {},
   "outputs": [
    {
     "output_type": "stream",
     "name": "stdout",
     "text": [
      "0.84\n"
     ]
    }
   ],
   "source": [
    "# Save a filter for organization laureates with prizes won before 1945\n",
    "before = {\n",
    "    \"gender\": \"org\",\n",
    "    \"prizes.year\": {\"$lt\": \"1945\"},\n",
    "    }\n",
    "\n",
    "# Save a filter for organization laureates with prizes won in or after 1945\n",
    "in_or_after = {\n",
    "    \"gender\": \"org\",\n",
    "    \"prizes.year\": {\"$gte\": \"1945\"},\n",
    "    }\n",
    "\n",
    "n_before = db.laureates.count_documents(before)\n",
    "n_in_or_after = db.laureates.count_documents(in_or_after)\n",
    "ratio = n_in_or_after / (n_in_or_after + n_before)\n",
    "print(ratio)"
   ]
  },
  {
   "cell_type": "code",
   "execution_count": 54,
   "metadata": {},
   "outputs": [
    {
     "output_type": "execute_result",
     "data": {
      "text/plain": [
       "['female', 'male', 'org']"
      ]
     },
     "metadata": {},
     "execution_count": 54
    }
   ],
   "source": [
    "db.laureates.distinct(\"gender\")"
   ]
  },
  {
   "cell_type": "code",
   "execution_count": 55,
   "metadata": {},
   "outputs": [
    {
     "output_type": "execute_result",
     "data": {
      "text/plain": [
       "[{'_id': ObjectId('60016c9b585e08fd997483b5'),\n",
       "  'id': '2',\n",
       "  'firstname': 'Hendrik Antoon',\n",
       "  'surname': 'Lorentz',\n",
       "  'born': '1853-07-18',\n",
       "  'died': '1928-02-04',\n",
       "  'bornCountry': 'the Netherlands',\n",
       "  'bornCountryCode': 'NL',\n",
       "  'bornCity': 'Arnhem',\n",
       "  'diedCountry': 'the Netherlands',\n",
       "  'diedCountryCode': 'NL',\n",
       "  'gender': 'male',\n",
       "  'prizes': [{'year': '1902',\n",
       "    'category': 'physics',\n",
       "    'share': '2',\n",
       "    'motivation': '\"in recognition of the extraordinary service they rendered by their researches into the influence of magnetism upon radiation phenomena\"',\n",
       "    'affiliations': [{'name': 'Leiden University',\n",
       "      'city': 'Leiden',\n",
       "      'country': 'the Netherlands'}]}]},\n",
       " {'_id': ObjectId('60016c9c585e08fd997483b6'),\n",
       "  'id': '95',\n",
       "  'firstname': 'Leon Neil',\n",
       "  'surname': 'Cooper',\n",
       "  'born': '1930-02-28',\n",
       "  'died': '0000-00-00',\n",
       "  'bornCountry': 'USA',\n",
       "  'bornCountryCode': 'US',\n",
       "  'bornCity': 'New York, NY',\n",
       "  'gender': 'male',\n",
       "  'prizes': [{'year': '1972',\n",
       "    'category': 'physics',\n",
       "    'share': '3',\n",
       "    'motivation': '\"for their jointly developed theory of superconductivity, usually called the BCS-theory\"',\n",
       "    'affiliations': [{'name': 'Brown University',\n",
       "      'city': 'Providence, RI',\n",
       "      'country': 'USA'}]}]},\n",
       " {'_id': ObjectId('60016c9c585e08fd997483b7'),\n",
       "  'id': '96',\n",
       "  'firstname': 'John Robert',\n",
       "  'surname': 'Schrieffer',\n",
       "  'born': '1931-05-31',\n",
       "  'died': '0000-00-00',\n",
       "  'bornCountry': 'USA',\n",
       "  'bornCountryCode': 'US',\n",
       "  'bornCity': 'Oak Park, IL',\n",
       "  'gender': 'male',\n",
       "  'prizes': [{'year': '1972',\n",
       "    'category': 'physics',\n",
       "    'share': '3',\n",
       "    'motivation': '\"for their jointly developed theory of superconductivity, usually called the BCS-theory\"',\n",
       "    'affiliations': [{'name': 'University of Pennsylvania',\n",
       "      'city': 'Philadelphia, PA',\n",
       "      'country': 'USA'}]}]}]"
      ]
     },
     "metadata": {},
     "execution_count": 55
    }
   ],
   "source": [
    "list(db.laureates.find())[:3]"
   ]
  },
  {
   "cell_type": "code",
   "execution_count": 56,
   "metadata": {},
   "outputs": [
    {
     "output_type": "execute_result",
     "data": {
      "text/plain": [
       "['Poland (now Belarus)', 'Poland (now Lithuania)', 'Poland (now Ukraine)']"
      ]
     },
     "metadata": {},
     "execution_count": 56
    }
   ],
   "source": [
    "from bson.regex import Regex\n",
    "# Regular expressions - case_sensitve \n",
    "db.laureates.distinct(\"bornCountry\",{\"bornCountry\": {\"$regex\": \"Poland\",\"$options\":\"i\"}})\n",
    "db.laureates.distinct(\"bornCountry\",{\"bornCountry\": Regex(\"^Poland \\(now\")})"
   ]
  },
  {
   "cell_type": "code",
   "execution_count": 57,
   "metadata": {},
   "outputs": [
    {
     "output_type": "execute_result",
     "data": {
      "text/plain": [
       "9"
      ]
     },
     "metadata": {},
     "execution_count": 57
    }
   ],
   "source": [
    "db.laureates.count_documents({\"firstname\": Regex(\"^G\"), \"surname\": Regex(\"^S\")})"
   ]
  },
  {
   "cell_type": "code",
   "execution_count": 58,
   "metadata": {},
   "outputs": [
    {
     "output_type": "stream",
     "name": "stdout",
     "text": [
      "{'Germany (now Russia)', 'Bavaria (now Germany)', 'W&uuml;rttemberg (now Germany)', 'Hesse-Kassel (now Germany)', 'East Friesland (now Germany)', 'Germany (now Poland)', 'Germany (now France)', 'Prussia (now Germany)', 'West Germany (now Germany)', 'Mecklenburg (now Germany)', 'Schleswig (now Germany)', 'Germany'}\n"
     ]
    }
   ],
   "source": [
    "# Filter for laureates with \"Germany\" in their \"bornCountry\" value\n",
    "criteria = {\"bornCountry\": Regex(\"Germany\")}\n",
    "print(set(db.laureates.distinct(\"bornCountry\", criteria)))"
   ]
  },
  {
   "cell_type": "code",
   "execution_count": 59,
   "metadata": {},
   "outputs": [
    {
     "output_type": "stream",
     "name": "stdout",
     "text": [
      "{'Bavaria (now Germany)', 'W&uuml;rttemberg (now Germany)', 'Hesse-Kassel (now Germany)', 'East Friesland (now Germany)', 'West Germany (now Germany)', 'Prussia (now Germany)', 'Mecklenburg (now Germany)', 'Schleswig (now Germany)'}\n"
     ]
    }
   ],
   "source": [
    "#Filter for currently-Germany countries of birth. Fill in a string value to be sandwiched between the strings \"now\" and \"$\"\n",
    "criteria = {\"bornCountry\": Regex(\"now Germany\\)\" + \"$\")}\n",
    "print(set(db.laureates.distinct(\"bornCountry\", criteria)))"
   ]
  },
  {
   "cell_type": "code",
   "execution_count": 60,
   "metadata": {},
   "outputs": [
    {
     "output_type": "stream",
     "name": "stdout",
     "text": [
      "[('William Bradford', 'Shockley'), ('John', 'Bardeen'), ('Walter Houser', 'Brattain')]\n"
     ]
    }
   ],
   "source": [
    "# Save a filter for laureates with prize motivation values containing \"transistor\" as a substring\n",
    "criteria = {\"prizes.motivation\": Regex(\"transistor\")}\n",
    "\n",
    "# Save the field names corresponding to a laureate's first name and last name\n",
    "first, last = \"firstname\", \"surname\"\n",
    "print([(laureate[first], laureate[last]) for laureate in db.laureates.find(criteria)])"
   ]
  },
  {
   "cell_type": "code",
   "execution_count": 61,
   "metadata": {},
   "outputs": [
    {
     "output_type": "execute_result",
     "data": {
      "text/plain": [
       "[{'prizes': [{'affiliations': [{'name': 'Leiden University',\n",
       "      'city': 'Leiden',\n",
       "      'country': 'the Netherlands'}]}]},\n",
       " {'prizes': [{'affiliations': [{'name': 'Brown University',\n",
       "      'city': 'Providence, RI',\n",
       "      'country': 'USA'}]}]},\n",
       " {'prizes': [{'affiliations': [{'name': 'University of Pennsylvania',\n",
       "      'city': 'Philadelphia, PA',\n",
       "      'country': 'USA'}]}]}]"
      ]
     },
     "metadata": {},
     "execution_count": 61
    }
   ],
   "source": [
    "# projection\n",
    "docs = db.laureates.find(filter={}, projection={\"prizes.affiliations\":1, \"_id\":0})\n",
    "list(docs)[:3]"
   ]
  },
  {
   "cell_type": "code",
   "execution_count": 62,
   "metadata": {},
   "outputs": [
    {
     "output_type": "execute_result",
     "data": {
      "text/plain": [
       "{'_id': ObjectId('60016c9c585e08fd997483f7'),\n",
       " 'id': '4',\n",
       " 'firstname': 'Antoine Henri',\n",
       " 'surname': 'Becquerel',\n",
       " 'born': '1852-12-15',\n",
       " 'died': '1908-08-25',\n",
       " 'bornCountry': 'France',\n",
       " 'bornCountryCode': 'FR',\n",
       " 'bornCity': 'Paris',\n",
       " 'diedCountry': 'France',\n",
       " 'diedCountryCode': 'FR',\n",
       " 'gender': 'male',\n",
       " 'prizes': [{'year': '1903',\n",
       "   'category': 'physics',\n",
       "   'share': '2',\n",
       "   'motivation': '\"in recognition of the extraordinary services he has rendered by his discovery of spontaneous radioactivity\"',\n",
       "   'affiliations': [{'name': 'École Polytechnique',\n",
       "     'city': 'Paris',\n",
       "     'country': 'France'}]}]}"
      ]
     },
     "metadata": {},
     "execution_count": 62
    }
   ],
   "source": [
    "db.laureates.find_one({\"prizes\": {\"$elemMatch\": {\"category\": \"physics\", \"year\": \"1903\"}}})"
   ]
  },
  {
   "cell_type": "code",
   "execution_count": 63,
   "metadata": {},
   "outputs": [
    {
     "output_type": "execute_result",
     "data": {
      "text/plain": [
       "[{'firstname': 'Hendrik Antoon',\n",
       "  'surname': 'Lorentz',\n",
       "  'prizes': [{'share': '2'}]},\n",
       " {'firstname': 'Leon Neil', 'surname': 'Cooper', 'prizes': [{'share': '3'}]},\n",
       " {'firstname': 'John Robert',\n",
       "  'surname': 'Schrieffer',\n",
       "  'prizes': [{'share': '3'}]}]"
      ]
     },
     "metadata": {},
     "execution_count": 63
    }
   ],
   "source": [
    "list(db.laureates.find(projection={\"firstname\": 1, \"surname\": 1, \"prizes.share\": 1, \"_id\": 0}))[:3]"
   ]
  },
  {
   "cell_type": "code",
   "execution_count": 64,
   "metadata": {},
   "outputs": [
    {
     "output_type": "stream",
     "name": "stdout",
     "text": [
      "['George D. Snell', 'Gustav Stresemann', 'Glenn Theodore Seaborg', 'George J. Stigler', 'George F. Smoot', 'George E. Smith', 'George P. Smith', 'George Bernard Shaw', 'Giorgos Seferis']\n"
     ]
    }
   ],
   "source": [
    "# Use projection to select only firstname and surname\n",
    "docs = db.laureates.find(\n",
    "       filter= {\"firstname\" : {\"$regex\" : \"^G\"},\n",
    "                \"surname\" : {\"$regex\" : \"^S\"}  },\n",
    "   projection= [\"firstname\", \"surname\"]  )\n",
    "\n",
    "# Iterate over docs and concatenate first name and surname\n",
    "full_names = [doc[\"firstname\"] + \" \" + doc[\"surname\"]  for doc in docs]\n",
    "\n",
    "# Print the full names\n",
    "print(full_names)"
   ]
  },
  {
   "cell_type": "code",
   "execution_count": 71,
   "metadata": {},
   "outputs": [
    {
     "output_type": "stream",
     "name": "stdout",
     "text": [
      "1.0\n1.0\n1.0\n1.0\n1.0\n1.0\n1.0\n1.0\n1.0\n1.0\n1.0\n1.0\n1.0\n1.0\n1.0\n1.0\n1.0\n1.0\n1.0\n1.0\n1.0\n1.0\n1.0\n1.0\n1.0\n1.0\n1.0\n1.0\n1.0\n1.0\n1.0\n1.0\n1.0\n1.0\n1.0\n1.0\n1.0\n1.0\n1.0\n1.0\n1.0\n1.0\n1.0\n1.0\n1.0\n1.0\n1.0\n1.0\n1.0\n1.0\n1.0\n1.0\n1.0\n1.0\n1.0\n1.0\n1.0\n1.0\n1.0\n1.0\n1.0\n1.0\n1.0\n1.0\n1.0\n1.0\n1.0\n1.0\n1.0\n1.0\n1.0\n1.0\n1.0\n1.0\n1.0\n1.0\n1.0\n1.0\n1.0\n1.0\n1.0\n1.0\n1.0\n1.0\n1.0\n1.0\n1.0\n1.0\n1.0\n1.0\n1.0\n1.0\n1.0\n1.0\n1.0\n1.0\n1.0\n1.0\n1.0\n1.0\n1.0\n1.0\n1.0\n1.0\n1.0\n1.0\n1.0\n1.0\n1.0\n1.0\n1.0\n1.0\n1.0\n1.0\n1.0\n1.0\n1.0\n1.0\n1.0\n1.0\n1.0\n1.0\n1.0\n1.0\n1.0\n1.0\n1.0\n1.0\n1.0\n1.0\n1.0\n1.0\n1.0\n1.0\n1.0\n1.0\n1.0\n1.0\n1.0\n1.0\n1.0\n1.0\n1.0\n1.0\n1.0\n1.0\n1.0\n1.0\n1.0\n1.0\n1.0\n1.0\n1.0\n1.0\n1.0\n1.0\n1.0\n1.0\n1.0\n1.0\n1.0\n1.0\n1.0\n1.0\n1.0\n1.0\n1.0\n1.0\n1.0\n1.0\n1.0\n1.0\n1.0\n1.0\n1.0\n1.0\n1.0\n1.0\n1.0\n1.0\n1.0\n1.0\n1.0\n1.0\n1.0\n1.0\n1.0\n1.0\n1.0\n1.0\n1.0\n1.0\n1.0\n1.0\n1.0\n1.0\n1.0\n1.0\n1.0\n1.0\n1.0\n1.0\n1.0\n1.0\n1.0\n1.0\n1.0\n1.0\n1.0\n1.0\n1.0\n1.0\n1.0\n1.0\n1.0\n1.0\n1.0\n1.0\n1.0\n1.0\n1.0\n1.0\n1.0\n1.0\n1.0\n1.0\n1.0\n1.0\n1.0\n1.0\n1.0\n1.0\n1.0\n1.0\n1.0\n1.0\n1.0\n1.0\n1.0\n1.0\n1.0\n1.0\n1.0\n1.0\n1.0\n1.0\n1.0\n1.0\n1.0\n1.0\n1.0\n1.0\n1.0\n1.0\n1.0\n1.0\n1.0\n1.0\n1.0\n1.0\n1.0\n1.0\n1.0\n1.0\n1.0\n1.0\n1.0\n1.0\n1.0\n1.0\n1.0\n1.0\n1.0\n1.0\n1.0\n1.0\n1.0\n1.0\n1.0\n1.0\n1.0\n1.0\n1.0\n1.0\n1.0\n1.0\n1.0\n1.0\n1.0\n1.0\n1.0\n1.0\n1.0\n1.0\n1.0\n1.0\n1.0\n1.0\n1.0\n1.0\n1.0\n1.0\n1.0\n1.0\n1.0\n1.0\n1.0\n1.0\n1.0\n1.0\n1.0\n1.0\n1.0\n1.0\n1.0\n1.0\n1.0\n1.0\n1.0\n1.0\n1.0\n1.0\n1.0\n1.0\n1.0\n1.0\n1.0\n1.0\n1.0\n1.0\n1.0\n1.0\n1.0\n1.0\n1.0\n1.0\n1.0\n1.0\n1.0\n1.0\n1.0\n1.0\n1.0\n1.0\n1.0\n1.0\n1.0\n1.0\n1.0\n1.0\n1.0\n1.0\n1.0\n1.0\n1.0\n1.0\n1.0\n1.0\n1.0\n1.0\n1.0\n1.0\n1.0\n1.0\n1.0\n1.0\n1.0\n1.0\n1.0\n1.0\n1.0\n1.0\n1.0\n1.0\n1.0\n1.0\n1.0\n1.0\n1.0\n1.0\n1.0\n1.0\n1.0\n1.0\n1.0\n1.0\n1.0\n1.0\n1.0\n1.0\n1.0\n1.0\n1.0\n1.0\n1.0\n1.0\n1.0\n1.0\n1.0\n1.0\n1.0\n1.0\n1.0\n1.0\n1.0\n1.0\n1.0\n1.0\n1.0\n1.0\n1.0\n1.0\n1.0\n1.0\n1.0\n1.0\n1.0\n1.0\n1.0\n1.0\n1.0\n1.0\n1.0\n1.0\n1.0\n1.0\n1.0\n1.0\n1.0\n1.0\n1.0\n1.0\n1.0\n1.0\n1.0\n1.0\n1.0\n1.0\n1.0\n1.0\n1.0\n1.0\n1.0\n1.0\n1.0\n1.0\n1.0\n1.0\n1.0\n1.0\n1.0\n1.0\n1.0\n1.0\n1.0\n1.0\n1.0\n1.0\n1.0\n1.0\n1.0\n1.0\n1.0\n1.0\n1.0\n1.0\n1.0\n1.0\n1.0\n1.0\n1.0\n1.0\n1.0\n1.0\n1.0\n1.0\n1.0\n1.0\n1.0\n1.0\n1.0\n1.0\n1.0\n1.0\n1.0\n1.0\n1.0\n1.0\n1.0\n1.0\n1.0\n1.0\n1.0\n1.0\n1.0\n1.0\n1.0\n1.0\n1.0\n1.0\n1.0\n1.0\n1.0\n1.0\n1.0\n1.0\n1.0\n1.0\n1.0\n1.0\n1.0\n1.0\n1.0\n1.0\n1.0\n1.0\n1.0\n1.0\n1.0\n1.0\n1.0\n1.0\n1.0\n1.0\n1.0\n1.0\n1.0\n1.0\n1.0\n1.0\n1.0\n1.0\n1.0\n1.0\n1.0\n1.0\n1.0\n1.0\n1.0\n1.0\n1.0\n1.0\n1.0\n1.0\n1.0\n1.0\n1.0\n1.0\n1.0\n1.0\n1.0\n1.0\n1.0\n1.0\n1.0\n1.0\n1.0\n1.0\n1.0\n1.0\n1.0\n1.0\n1.0\n1.0\n1.0\n1.0\n1.0\n1.0\n1.0\n1.0\n1.0\n1.0\n1.0\n1.0\n1.0\n1.0\n1.0\n1.0\n1.0\n1.0\n1.0\n1.0\n1.0\n1.0\n1.0\n1.0\n1.0\n1.0\n1.0\n1.0\n"
     ]
    }
   ],
   "source": [
    "# Save documents, projecting out laureates share\n",
    "prizes = db.prizes.find({}, [\"laureates.share\"])\n",
    "\n",
    "# Iterate over prizes\n",
    "for prize in prizes:\n",
    "    # Initialize total share\n",
    "    total_share = 0\n",
    "    \n",
    "    # Iterate over laureates for the prize\n",
    "    for laureate in prize[\"laureates\"]:\n",
    "        # add the share of the laureate to total_share\n",
    "        total_share += 1 / float(laureate['share'])\n",
    "        \n",
    "    # Print the total share    \n",
    "    print(total_share)    "
   ]
  },
  {
   "cell_type": "code",
   "execution_count": 76,
   "metadata": {},
   "outputs": [
    {
     "output_type": "stream",
     "name": "stdout",
     "text": [
      "['2018', '2017', '2016', '2015', '2014']\n"
     ]
    }
   ],
   "source": [
    "from operator import itemgetter\n",
    "docs = list(db.prizes.find({\"category\": \"physics\"},[\"year\"], sort=[(\"year\", -1)]))\n",
    "# docs = sorted(docs, key=itemgetter(\"year\"), reverse=True)\n",
    "print([doc['year'] for doc in docs][:5])"
   ]
  },
  {
   "cell_type": "code",
   "execution_count": 79,
   "metadata": {},
   "outputs": [
    {
     "output_type": "stream",
     "name": "stdout",
     "text": [
      "1967 physics\n1967 medicine\n1967 literature\n1967 chemistry\n1968 physics\n1968 peace\n1968 medicine\n1968 literature\n1968 chemistry\n1969 physics\n1969 peace\n1969 medicine\n1969 literature\n1969 economics\n1969 chemistry\n"
     ]
    }
   ],
   "source": [
    "for doc in db.prizes.find(\n",
    "    {\"year\":{\"$gt\": \"1966\", \"$lt\": \"1970\"}}, \n",
    "    [\"category\",\"year\"], \n",
    "    sort=[(\"year\",1), (\"category\", -1)]):\n",
    "    print(\"{year} {category}\".format(**doc)) ##"
   ]
  },
  {
   "cell_type": "code",
   "execution_count": 81,
   "metadata": {},
   "outputs": [
    {
     "output_type": "stream",
     "name": "stdout",
     "text": [
      "{'born': '1916-08-25', 'prizes': [{'year': '1954'}]}\n{'born': '1915-06-15', 'prizes': [{'year': '1954'}]}\n{'born': '1901-02-28', 'prizes': [{'year': '1954'}, {'year': '1962'}]}\n{'born': '1913-07-12', 'prizes': [{'year': '1955'}]}\n{'born': '1911-01-26', 'prizes': [{'year': '1955'}]}\n"
     ]
    }
   ],
   "source": [
    "docs = list(db.laureates.find(\n",
    "    {\"born\": {\"$gte\": \"1900\"}, \"prizes.year\": {\"$gte\": \"1954\"}},\n",
    "    {\"born\": 1, \"prizes.year\": 1, \"_id\": 0},\n",
    "    sort=[(\"prizes.year\", 1), (\"born\", -1)]))\n",
    "for doc in docs[:5]:\n",
    "    print(doc)"
   ]
  },
  {
   "cell_type": "code",
   "execution_count": 93,
   "metadata": {},
   "outputs": [
    {
     "output_type": "stream",
     "name": "stdout",
     "text": [
      "1901: Röntgen\n1902: Lorentz and Zeeman\n1903: Becquerel and Curie and Curie, née Sklodowska\n1904: (John William Strutt)\n1905: von Lenard\n1906: Thomson\n1907: Michelson\n1908: Lippmann\n1909: Braun and Marconi\n1910: van der Waals\n1911: Wien\n1912: Dalén\n1913: Kamerlingh Onnes\n1914: von Laue\n1915: Bragg and Bragg\n1917: Barkla\n1918: Planck\n1919: Stark\n1920: Guillaume\n1921: Einstein\n1922: Bohr\n1923: Millikan\n1924: Siegbahn\n1925: Franck and Hertz\n1926: Perrin\n1927: Compton and Wilson\n1928: Richardson\n1929: de Broglie\n1930: Raman\n1932: Heisenberg\n1933: Dirac and Schrödinger\n1935: Chadwick\n1936: Anderson and Hess\n1937: Davisson and Thomson\n1938: Fermi\n1939: Lawrence\n1943: Stern\n1944: Rabi\n1945: Pauli\n1946: Bridgman\n1947: Appleton\n1948: Blackett\n1949: Yukawa\n1950: Powell\n1951: Cockcroft and Walton\n1952: Bloch and Purcell\n1953: Zernike\n1954: Born and Bothe\n1955: Kusch and Lamb\n1956: Bardeen and Brattain and Shockley\n1957: Lee and Yang\n1958: Cherenkov and Frank and Tamm\n1959: Chamberlain and Segrè\n1960: Glaser\n1961: Hofstadter and Mössbauer\n1962: Landau\n1963: Goeppert Mayer and Jensen and Wigner\n1964: Basov and Prokhorov and Townes\n1965: Feynman and Schwinger and Tomonaga\n1966: Kastler\n1967: Bethe\n1968: Alvarez\n1969: Gell-Mann\n1970: Alfvén and Néel\n1971: Gabor\n1972: Bardeen and Cooper and Schrieffer\n1973: Esaki and Giaever and Josephson\n1974: Hewish and Ryle\n1975: Bohr and Mottelson and Rainwater\n1976: Richter and Ting\n1977: Anderson and Mott and van Vleck\n1978: Kapitsa and Penzias and Wilson\n1979: Glashow and Salam and Weinberg\n1980: Cronin and Fitch\n1981: Bloembergen and Schawlow and Siegbahn\n1982: Wilson\n1983: Chandrasekhar and Fowler\n1984: Rubbia and van der Meer\n1985: von Klitzing\n1986: Binnig and Rohrer and Ruska\n1987: Bednorz and Müller\n1988: Lederman and Schwartz and Steinberger\n1989: Dehmelt and Paul and Ramsey\n1990: Friedman and Kendall and Taylor\n1991: de Gennes\n1992: Charpak\n1993: Hulse and Taylor Jr.\n1994: Brockhouse and Shull\n1995: Perl and Reines\n1996: Lee and Osheroff and Richardson\n1997: Chu and Cohen-Tannoudji and Phillips\n1998: Laughlin and Störmer and Tsui\n1999: 't Hooft and Veltman\n2000: Alferov and Kilby and Kroemer\n2001: Cornell and Ketterle and Wieman\n2002: Davis Jr. and Giacconi and Koshiba\n2003: Abrikosov and Ginzburg and Leggett\n2004: Gross and Politzer and Wilczek\n2005: Glauber and Hall and Hänsch\n2006: Mather and Smoot\n2007: Fert and Grünberg\n2008: Kobayashi and Maskawa and Nambu\n2009: Boyle and Kao and Smith\n2010: Geim and Novoselov\n2011: Perlmutter and Riess and Schmidt\n2012: Haroche and Wineland\n2013: Englert and Higgs\n2014: Akasaki and Amano and Nakamura\n2015: Kajita and McDonald\n2016: Haldane and Kosterlitz and Thouless\n2017: Barish and Thorne and Weiss\n2018: Ashkin and Mourou and Strickland\n"
     ]
    }
   ],
   "source": [
    "from operator import itemgetter\n",
    "\n",
    "def all_laureates(prize):  \n",
    "  # sort the laureates by surname\n",
    "  sorted_laureates = sorted(prize[\"laureates\"], key=itemgetter(\"surname\"))\n",
    "  \n",
    "  # extract surnames\n",
    "  surnames = [laureate[\"surname\"] for laureate in sorted_laureates]\n",
    "  \n",
    "  # concatenate surnames separated with \" and \" \n",
    "  all_names = \" and \".join(surnames)\n",
    "  \n",
    "  return all_names\n",
    "\n",
    "# find physics prizes, project year and name, and sort by year\n",
    "docs = db.prizes.find(\n",
    "           filter= {\"category\": \"physics\"}, \n",
    "           projection= [\"year\", \"laureates.firstname\", \"laureates.surname\"], \n",
    "           sort= [(\"year\", 1)])\n",
    "\n",
    "# print the year and laureate names (from all_laureates)\n",
    "for doc in docs:\n",
    "  print(\"{year}: {names}\".format(year=doc[\"year\"], names=all_laureates(doc)))"
   ]
  },
  {
   "cell_type": "code",
   "execution_count": 105,
   "metadata": {
    "tags": [
     "outputPrepend"
    ]
   },
   "outputs": [
    {
     "output_type": "stream",
     "name": "stdout",
     "text": [
      "gory': 'chemistry'}\n{'year': '2001', 'category': 'economics'}\n{'year': '2001', 'category': 'literature'}\n{'year': '2001', 'category': 'medicine'}\n{'year': '2001', 'category': 'peace'}\n{'year': '2001', 'category': 'physics'}\n{'year': '2000', 'category': 'chemistry'}\n{'year': '2000', 'category': 'economics'}\n{'year': '2000', 'category': 'literature'}\n{'year': '2000', 'category': 'medicine'}\n{'year': '2000', 'category': 'peace'}\n{'year': '2000', 'category': 'physics'}\n{'year': '1999', 'category': 'chemistry'}\n{'year': '1999', 'category': 'economics'}\n{'year': '1999', 'category': 'literature'}\n{'year': '1999', 'category': 'medicine'}\n{'year': '1999', 'category': 'peace'}\n{'year': '1999', 'category': 'physics'}\n{'year': '1998', 'category': 'chemistry'}\n{'year': '1998', 'category': 'economics'}\n{'year': '1998', 'category': 'literature'}\n{'year': '1998', 'category': 'medicine'}\n{'year': '1998', 'category': 'peace'}\n{'year': '1998', 'category': 'physics'}\n{'year': '1997', 'category': 'chemistry'}\n{'year': '1997', 'category': 'economics'}\n{'year': '1997', 'category': 'literature'}\n{'year': '1997', 'category': 'medicine'}\n{'year': '1997', 'category': 'peace'}\n{'year': '1997', 'category': 'physics'}\n{'year': '1996', 'category': 'chemistry'}\n{'year': '1996', 'category': 'economics'}\n{'year': '1996', 'category': 'literature'}\n{'year': '1996', 'category': 'medicine'}\n{'year': '1996', 'category': 'peace'}\n{'year': '1996', 'category': 'physics'}\n{'year': '1995', 'category': 'chemistry'}\n{'year': '1995', 'category': 'economics'}\n{'year': '1995', 'category': 'literature'}\n{'year': '1995', 'category': 'medicine'}\n{'year': '1995', 'category': 'peace'}\n{'year': '1995', 'category': 'physics'}\n{'year': '1994', 'category': 'chemistry'}\n{'year': '1994', 'category': 'economics'}\n{'year': '1994', 'category': 'literature'}\n{'year': '1994', 'category': 'medicine'}\n{'year': '1994', 'category': 'peace'}\n{'year': '1994', 'category': 'physics'}\n{'year': '1993', 'category': 'chemistry'}\n{'year': '1993', 'category': 'economics'}\n{'year': '1993', 'category': 'literature'}\n{'year': '1993', 'category': 'medicine'}\n{'year': '1993', 'category': 'peace'}\n{'year': '1993', 'category': 'physics'}\n{'year': '1992', 'category': 'chemistry'}\n{'year': '1992', 'category': 'economics'}\n{'year': '1992', 'category': 'literature'}\n{'year': '1992', 'category': 'medicine'}\n{'year': '1992', 'category': 'peace'}\n{'year': '1992', 'category': 'physics'}\n{'year': '1991', 'category': 'chemistry'}\n{'year': '1991', 'category': 'economics'}\n{'year': '1991', 'category': 'literature'}\n{'year': '1991', 'category': 'medicine'}\n{'year': '1991', 'category': 'peace'}\n{'year': '1991', 'category': 'physics'}\n{'year': '1990', 'category': 'chemistry'}\n{'year': '1990', 'category': 'economics'}\n{'year': '1990', 'category': 'literature'}\n{'year': '1990', 'category': 'medicine'}\n{'year': '1990', 'category': 'peace'}\n{'year': '1990', 'category': 'physics'}\n{'year': '1989', 'category': 'chemistry'}\n{'year': '1989', 'category': 'economics'}\n{'year': '1989', 'category': 'literature'}\n{'year': '1989', 'category': 'medicine'}\n{'year': '1989', 'category': 'peace'}\n{'year': '1989', 'category': 'physics'}\n{'year': '1988', 'category': 'chemistry'}\n{'year': '1988', 'category': 'economics'}\n{'year': '1988', 'category': 'literature'}\n{'year': '1988', 'category': 'medicine'}\n{'year': '1988', 'category': 'peace'}\n{'year': '1988', 'category': 'physics'}\n{'year': '1987', 'category': 'chemistry'}\n{'year': '1987', 'category': 'economics'}\n{'year': '1987', 'category': 'literature'}\n{'year': '1987', 'category': 'medicine'}\n{'year': '1987', 'category': 'peace'}\n{'year': '1987', 'category': 'physics'}\n{'year': '1986', 'category': 'chemistry'}\n{'year': '1986', 'category': 'economics'}\n{'year': '1986', 'category': 'literature'}\n{'year': '1986', 'category': 'medicine'}\n{'year': '1986', 'category': 'peace'}\n{'year': '1986', 'category': 'physics'}\n{'year': '1985', 'category': 'chemistry'}\n{'year': '1985', 'category': 'economics'}\n{'year': '1985', 'category': 'literature'}\n{'year': '1985', 'category': 'medicine'}\n{'year': '1985', 'category': 'peace'}\n{'year': '1985', 'category': 'physics'}\n{'year': '1984', 'category': 'chemistry'}\n{'year': '1984', 'category': 'economics'}\n{'year': '1984', 'category': 'literature'}\n{'year': '1984', 'category': 'medicine'}\n{'year': '1984', 'category': 'peace'}\n{'year': '1984', 'category': 'physics'}\n{'year': '1983', 'category': 'chemistry'}\n{'year': '1983', 'category': 'economics'}\n{'year': '1983', 'category': 'literature'}\n{'year': '1983', 'category': 'medicine'}\n{'year': '1983', 'category': 'peace'}\n{'year': '1983', 'category': 'physics'}\n{'year': '1982', 'category': 'chemistry'}\n{'year': '1982', 'category': 'economics'}\n{'year': '1982', 'category': 'literature'}\n{'year': '1982', 'category': 'medicine'}\n{'year': '1982', 'category': 'peace'}\n{'year': '1982', 'category': 'physics'}\n{'year': '1981', 'category': 'chemistry'}\n{'year': '1981', 'category': 'economics'}\n{'year': '1981', 'category': 'literature'}\n{'year': '1981', 'category': 'medicine'}\n{'year': '1981', 'category': 'peace'}\n{'year': '1981', 'category': 'physics'}\n{'year': '1980', 'category': 'chemistry'}\n{'year': '1980', 'category': 'economics'}\n{'year': '1980', 'category': 'literature'}\n{'year': '1980', 'category': 'medicine'}\n{'year': '1980', 'category': 'peace'}\n{'year': '1980', 'category': 'physics'}\n{'year': '1979', 'category': 'chemistry'}\n{'year': '1979', 'category': 'economics'}\n{'year': '1979', 'category': 'literature'}\n{'year': '1979', 'category': 'medicine'}\n{'year': '1979', 'category': 'peace'}\n{'year': '1979', 'category': 'physics'}\n{'year': '1978', 'category': 'chemistry'}\n{'year': '1978', 'category': 'economics'}\n{'year': '1978', 'category': 'literature'}\n{'year': '1978', 'category': 'medicine'}\n{'year': '1978', 'category': 'peace'}\n{'year': '1978', 'category': 'physics'}\n{'year': '1977', 'category': 'chemistry'}\n{'year': '1977', 'category': 'economics'}\n{'year': '1977', 'category': 'literature'}\n{'year': '1977', 'category': 'medicine'}\n{'year': '1977', 'category': 'peace'}\n{'year': '1977', 'category': 'physics'}\n{'year': '1976', 'category': 'chemistry'}\n{'year': '1976', 'category': 'economics'}\n{'year': '1976', 'category': 'literature'}\n{'year': '1976', 'category': 'medicine'}\n{'year': '1976', 'category': 'peace'}\n{'year': '1976', 'category': 'physics'}\n{'year': '1975', 'category': 'chemistry'}\n{'year': '1975', 'category': 'economics'}\n{'year': '1975', 'category': 'literature'}\n{'year': '1975', 'category': 'medicine'}\n{'year': '1975', 'category': 'peace'}\n{'year': '1975', 'category': 'physics'}\n{'year': '1974', 'category': 'chemistry'}\n{'year': '1974', 'category': 'economics'}\n{'year': '1974', 'category': 'literature'}\n{'year': '1974', 'category': 'medicine'}\n{'year': '1974', 'category': 'peace'}\n{'year': '1974', 'category': 'physics'}\n{'year': '1973', 'category': 'chemistry'}\n{'year': '1973', 'category': 'economics'}\n{'year': '1973', 'category': 'literature'}\n{'year': '1973', 'category': 'medicine'}\n{'year': '1973', 'category': 'peace'}\n{'year': '1973', 'category': 'physics'}\n{'year': '1972', 'category': 'chemistry'}\n{'year': '1972', 'category': 'economics'}\n{'year': '1972', 'category': 'literature'}\n{'year': '1972', 'category': 'medicine'}\n{'year': '1972', 'category': 'physics'}\n{'year': '1971', 'category': 'chemistry'}\n{'year': '1971', 'category': 'economics'}\n{'year': '1971', 'category': 'literature'}\n{'year': '1971', 'category': 'medicine'}\n{'year': '1971', 'category': 'peace'}\n{'year': '1971', 'category': 'physics'}\n{'year': '1970', 'category': 'chemistry'}\n{'year': '1970', 'category': 'economics'}\n{'year': '1970', 'category': 'literature'}\n{'year': '1970', 'category': 'medicine'}\n{'year': '1970', 'category': 'peace'}\n{'year': '1970', 'category': 'physics'}\n{'year': '1969', 'category': 'chemistry'}\n{'year': '1969', 'category': 'economics'}\n{'year': '1969', 'category': 'literature'}\n{'year': '1969', 'category': 'medicine'}\n{'year': '1969', 'category': 'peace'}\n{'year': '1969', 'category': 'physics'}\n{'year': '1968', 'category': 'chemistry'}\n{'year': '1968', 'category': 'literature'}\n{'year': '1968', 'category': 'medicine'}\n{'year': '1968', 'category': 'peace'}\n{'year': '1968', 'category': 'physics'}\n{'year': '1967', 'category': 'chemistry'}\n{'year': '1967', 'category': 'literature'}\n{'year': '1967', 'category': 'medicine'}\n{'year': '1967', 'category': 'physics'}\n{'year': '1966', 'category': 'chemistry'}\n{'year': '1966', 'category': 'literature'}\n{'year': '1966', 'category': 'medicine'}\n{'year': '1966', 'category': 'physics'}\n{'year': '1965', 'category': 'chemistry'}\n{'year': '1965', 'category': 'literature'}\n{'year': '1965', 'category': 'medicine'}\n{'year': '1965', 'category': 'peace'}\n{'year': '1965', 'category': 'physics'}\n{'year': '1964', 'category': 'chemistry'}\n{'year': '1964', 'category': 'literature'}\n{'year': '1964', 'category': 'medicine'}\n{'year': '1964', 'category': 'peace'}\n{'year': '1964', 'category': 'physics'}\n{'year': '1963', 'category': 'chemistry'}\n{'year': '1963', 'category': 'literature'}\n{'year': '1963', 'category': 'medicine'}\n{'year': '1963', 'category': 'peace'}\n{'year': '1963', 'category': 'physics'}\n{'year': '1962', 'category': 'chemistry'}\n{'year': '1962', 'category': 'literature'}\n{'year': '1962', 'category': 'medicine'}\n{'year': '1962', 'category': 'peace'}\n{'year': '1962', 'category': 'physics'}\n{'year': '1961', 'category': 'chemistry'}\n{'year': '1961', 'category': 'literature'}\n{'year': '1961', 'category': 'medicine'}\n{'year': '1961', 'category': 'peace'}\n{'year': '1961', 'category': 'physics'}\n{'year': '1960', 'category': 'chemistry'}\n{'year': '1960', 'category': 'literature'}\n{'year': '1960', 'category': 'medicine'}\n{'year': '1960', 'category': 'peace'}\n{'year': '1960', 'category': 'physics'}\n{'year': '1959', 'category': 'chemistry'}\n{'year': '1959', 'category': 'literature'}\n{'year': '1959', 'category': 'medicine'}\n{'year': '1959', 'category': 'peace'}\n{'year': '1959', 'category': 'physics'}\n{'year': '1958', 'category': 'chemistry'}\n{'year': '1958', 'category': 'literature'}\n{'year': '1958', 'category': 'medicine'}\n{'year': '1958', 'category': 'peace'}\n{'year': '1958', 'category': 'physics'}\n{'year': '1957', 'category': 'chemistry'}\n{'year': '1957', 'category': 'literature'}\n{'year': '1957', 'category': 'medicine'}\n{'year': '1957', 'category': 'peace'}\n{'year': '1957', 'category': 'physics'}\n{'year': '1956', 'category': 'chemistry'}\n{'year': '1956', 'category': 'literature'}\n{'year': '1956', 'category': 'medicine'}\n{'year': '1956', 'category': 'physics'}\n{'year': '1955', 'category': 'chemistry'}\n{'year': '1955', 'category': 'literature'}\n{'year': '1955', 'category': 'medicine'}\n{'year': '1955', 'category': 'physics'}\n{'year': '1954', 'category': 'chemistry'}\n{'year': '1954', 'category': 'literature'}\n{'year': '1954', 'category': 'medicine'}\n{'year': '1954', 'category': 'peace'}\n{'year': '1954', 'category': 'physics'}\n{'year': '1953', 'category': 'chemistry'}\n{'year': '1953', 'category': 'literature'}\n{'year': '1953', 'category': 'medicine'}\n{'year': '1953', 'category': 'peace'}\n{'year': '1953', 'category': 'physics'}\n{'year': '1952', 'category': 'chemistry'}\n{'year': '1952', 'category': 'literature'}\n{'year': '1952', 'category': 'medicine'}\n{'year': '1952', 'category': 'peace'}\n{'year': '1952', 'category': 'physics'}\n{'year': '1951', 'category': 'chemistry'}\n{'year': '1951', 'category': 'literature'}\n{'year': '1951', 'category': 'medicine'}\n{'year': '1951', 'category': 'peace'}\n{'year': '1951', 'category': 'physics'}\n{'year': '1950', 'category': 'chemistry'}\n{'year': '1950', 'category': 'literature'}\n{'year': '1950', 'category': 'medicine'}\n{'year': '1950', 'category': 'peace'}\n{'year': '1950', 'category': 'physics'}\n{'year': '1949', 'category': 'chemistry'}\n{'year': '1949', 'category': 'literature'}\n{'year': '1949', 'category': 'medicine'}\n{'year': '1949', 'category': 'peace'}\n{'year': '1949', 'category': 'physics'}\n{'year': '1948', 'category': 'chemistry'}\n{'year': '1948', 'category': 'literature'}\n{'year': '1948', 'category': 'medicine'}\n{'year': '1948', 'category': 'physics'}\n{'year': '1947', 'category': 'chemistry'}\n{'year': '1947', 'category': 'literature'}\n{'year': '1947', 'category': 'medicine'}\n{'year': '1947', 'category': 'peace'}\n{'year': '1947', 'category': 'physics'}\n{'year': '1946', 'category': 'chemistry'}\n{'year': '1946', 'category': 'literature'}\n{'year': '1946', 'category': 'medicine'}\n{'year': '1946', 'category': 'peace'}\n{'year': '1946', 'category': 'physics'}\n{'year': '1945', 'category': 'chemistry'}\n{'year': '1945', 'category': 'literature'}\n{'year': '1945', 'category': 'medicine'}\n{'year': '1945', 'category': 'peace'}\n{'year': '1945', 'category': 'physics'}\n{'year': '1944', 'category': 'chemistry'}\n{'year': '1944', 'category': 'literature'}\n{'year': '1944', 'category': 'medicine'}\n{'year': '1944', 'category': 'peace'}\n{'year': '1944', 'category': 'physics'}\n{'year': '1943', 'category': 'chemistry'}\n{'year': '1943', 'category': 'medicine'}\n{'year': '1943', 'category': 'physics'}\n{'year': '1939', 'category': 'chemistry'}\n{'year': '1939', 'category': 'literature'}\n{'year': '1939', 'category': 'medicine'}\n{'year': '1939', 'category': 'physics'}\n{'year': '1938', 'category': 'chemistry'}\n{'year': '1938', 'category': 'literature'}\n{'year': '1938', 'category': 'medicine'}\n{'year': '1938', 'category': 'peace'}\n{'year': '1938', 'category': 'physics'}\n{'year': '1937', 'category': 'chemistry'}\n{'year': '1937', 'category': 'literature'}\n{'year': '1937', 'category': 'medicine'}\n{'year': '1937', 'category': 'peace'}\n{'year': '1937', 'category': 'physics'}\n{'year': '1936', 'category': 'chemistry'}\n{'year': '1936', 'category': 'literature'}\n{'year': '1936', 'category': 'medicine'}\n{'year': '1936', 'category': 'peace'}\n{'year': '1936', 'category': 'physics'}\n{'year': '1935', 'category': 'chemistry'}\n{'year': '1935', 'category': 'medicine'}\n{'year': '1935', 'category': 'peace'}\n{'year': '1935', 'category': 'physics'}\n{'year': '1934', 'category': 'chemistry'}\n{'year': '1934', 'category': 'literature'}\n{'year': '1934', 'category': 'medicine'}\n{'year': '1934', 'category': 'peace'}\n{'year': '1933', 'category': 'literature'}\n{'year': '1933', 'category': 'medicine'}\n{'year': '1933', 'category': 'peace'}\n{'year': '1933', 'category': 'physics'}\n{'year': '1932', 'category': 'chemistry'}\n{'year': '1932', 'category': 'literature'}\n{'year': '1932', 'category': 'medicine'}\n{'year': '1932', 'category': 'physics'}\n{'year': '1931', 'category': 'chemistry'}\n{'year': '1931', 'category': 'literature'}\n{'year': '1931', 'category': 'medicine'}\n{'year': '1931', 'category': 'peace'}\n{'year': '1930', 'category': 'chemistry'}\n{'year': '1930', 'category': 'literature'}\n{'year': '1930', 'category': 'medicine'}\n{'year': '1930', 'category': 'peace'}\n{'year': '1930', 'category': 'physics'}\n{'year': '1929', 'category': 'chemistry'}\n{'year': '1929', 'category': 'literature'}\n{'year': '1929', 'category': 'medicine'}\n{'year': '1929', 'category': 'peace'}\n{'year': '1929', 'category': 'physics'}\n{'year': '1928', 'category': 'chemistry'}\n{'year': '1928', 'category': 'literature'}\n{'year': '1928', 'category': 'medicine'}\n{'year': '1928', 'category': 'physics'}\n{'year': '1927', 'category': 'chemistry'}\n{'year': '1927', 'category': 'literature'}\n{'year': '1927', 'category': 'medicine'}\n{'year': '1927', 'category': 'peace'}\n{'year': '1927', 'category': 'physics'}\n{'year': '1926', 'category': 'chemistry'}\n{'year': '1926', 'category': 'literature'}\n{'year': '1926', 'category': 'medicine'}\n{'year': '1926', 'category': 'peace'}\n{'year': '1926', 'category': 'physics'}\n{'year': '1925', 'category': 'chemistry'}\n{'year': '1925', 'category': 'literature'}\n{'year': '1925', 'category': 'peace'}\n{'year': '1925', 'category': 'physics'}\n{'year': '1924', 'category': 'literature'}\n{'year': '1924', 'category': 'medicine'}\n{'year': '1924', 'category': 'physics'}\n{'year': '1923', 'category': 'chemistry'}\n{'year': '1923', 'category': 'literature'}\n{'year': '1923', 'category': 'medicine'}\n{'year': '1923', 'category': 'physics'}\n{'year': '1922', 'category': 'chemistry'}\n{'year': '1922', 'category': 'literature'}\n{'year': '1922', 'category': 'medicine'}\n{'year': '1922', 'category': 'peace'}\n{'year': '1922', 'category': 'physics'}\n{'year': '1921', 'category': 'chemistry'}\n{'year': '1921', 'category': 'literature'}\n{'year': '1921', 'category': 'peace'}\n{'year': '1921', 'category': 'physics'}\n{'year': '1920', 'category': 'chemistry'}\n{'year': '1920', 'category': 'literature'}\n{'year': '1920', 'category': 'medicine'}\n{'year': '1920', 'category': 'peace'}\n{'year': '1920', 'category': 'physics'}\n{'year': '1919', 'category': 'literature'}\n{'year': '1919', 'category': 'medicine'}\n{'year': '1919', 'category': 'peace'}\n{'year': '1919', 'category': 'physics'}\n{'year': '1918', 'category': 'chemistry'}\n{'year': '1918', 'category': 'physics'}\n{'year': '1917', 'category': 'literature'}\n{'year': '1917', 'category': 'peace'}\n{'year': '1917', 'category': 'physics'}\n{'year': '1916', 'category': 'literature'}\n{'year': '1915', 'category': 'chemistry'}\n{'year': '1915', 'category': 'literature'}\n{'year': '1915', 'category': 'physics'}\n{'year': '1914', 'category': 'chemistry'}\n{'year': '1914', 'category': 'medicine'}\n{'year': '1914', 'category': 'physics'}\n{'year': '1913', 'category': 'chemistry'}\n{'year': '1913', 'category': 'literature'}\n{'year': '1913', 'category': 'medicine'}\n{'year': '1913', 'category': 'peace'}\n{'year': '1913', 'category': 'physics'}\n{'year': '1912', 'category': 'chemistry'}\n{'year': '1912', 'category': 'literature'}\n{'year': '1912', 'category': 'medicine'}\n{'year': '1912', 'category': 'peace'}\n{'year': '1912', 'category': 'physics'}\n{'year': '1911', 'category': 'chemistry'}\n{'year': '1911', 'category': 'literature'}\n{'year': '1911', 'category': 'medicine'}\n{'year': '1911', 'category': 'peace'}\n{'year': '1911', 'category': 'physics'}\n{'year': '1910', 'category': 'chemistry'}\n{'year': '1910', 'category': 'literature'}\n{'year': '1910', 'category': 'medicine'}\n{'year': '1910', 'category': 'peace'}\n{'year': '1910', 'category': 'physics'}\n{'year': '1909', 'category': 'chemistry'}\n{'year': '1909', 'category': 'literature'}\n{'year': '1909', 'category': 'medicine'}\n{'year': '1909', 'category': 'peace'}\n{'year': '1909', 'category': 'physics'}\n{'year': '1908', 'category': 'chemistry'}\n{'year': '1908', 'category': 'literature'}\n{'year': '1908', 'category': 'medicine'}\n{'year': '1908', 'category': 'peace'}\n{'year': '1908', 'category': 'physics'}\n{'year': '1907', 'category': 'chemistry'}\n{'year': '1907', 'category': 'literature'}\n{'year': '1907', 'category': 'medicine'}\n{'year': '1907', 'category': 'peace'}\n{'year': '1907', 'category': 'physics'}\n{'year': '1906', 'category': 'chemistry'}\n{'year': '1906', 'category': 'literature'}\n{'year': '1906', 'category': 'medicine'}\n{'year': '1906', 'category': 'peace'}\n{'year': '1906', 'category': 'physics'}\n{'year': '1905', 'category': 'chemistry'}\n{'year': '1905', 'category': 'literature'}\n{'year': '1905', 'category': 'medicine'}\n{'year': '1905', 'category': 'peace'}\n{'year': '1905', 'category': 'physics'}\n{'year': '1904', 'category': 'chemistry'}\n{'year': '1904', 'category': 'literature'}\n{'year': '1904', 'category': 'medicine'}\n{'year': '1904', 'category': 'peace'}\n{'year': '1904', 'category': 'physics'}\n{'year': '1903', 'category': 'chemistry'}\n{'year': '1903', 'category': 'literature'}\n{'year': '1903', 'category': 'medicine'}\n{'year': '1903', 'category': 'peace'}\n{'year': '1903', 'category': 'physics'}\n{'year': '1902', 'category': 'chemistry'}\n{'year': '1902', 'category': 'literature'}\n{'year': '1902', 'category': 'medicine'}\n{'year': '1902', 'category': 'peace'}\n{'year': '1902', 'category': 'physics'}\n{'year': '1901', 'category': 'chemistry'}\n{'year': '1901', 'category': 'literature'}\n{'year': '1901', 'category': 'medicine'}\n{'year': '1901', 'category': 'peace'}\n{'year': '1901', 'category': 'physics'}\n"
     ]
    }
   ],
   "source": [
    "# original categories from 1901\n",
    "original_categories = db.prizes.distinct(\"category\", {\"year\": \"1901\"})\n",
    "print(original_categories)\n",
    "\n",
    "# project year and category, and sort\n",
    "docs = db.prizes.find(\n",
    "        filter={},\n",
    "        projection = {\"year\":1,\"category\":1,\"_id\":0},\n",
    "        sort=[(\"year\",-1),(\"category\",1)]# -1 = descending, 1 = ascending\n",
    ")\n",
    "#print the documents\n",
    "for doc in docs:\n",
    "  print(doc)"
   ]
  },
  {
   "source": [
    "# Indexes\n",
    "\n",
    "When to use?\n",
    "- Queries with high specifity\n",
    "- large documents\n",
    "- large collections"
   ],
   "cell_type": "markdown",
   "metadata": {}
  },
  {
   "cell_type": "code",
   "execution_count": 106,
   "metadata": {},
   "outputs": [
    {
     "output_type": "execute_result",
     "data": {
      "text/plain": [
       "'category_1_year_1'"
      ]
     },
     "metadata": {},
     "execution_count": 106
    }
   ],
   "source": [
    "db.prizes.create_index([(\"category\",1),(\"year\",1)])"
   ]
  },
  {
   "cell_type": "code",
   "execution_count": 109,
   "metadata": {},
   "outputs": [
    {
     "output_type": "execute_result",
     "data": {
      "text/plain": [
       "{'_id_': {'v': 2, 'key': [('_id', 1)]},\n",
       " 'category_1_year_1': {'v': 2, 'key': [('category', 1), ('year', 1)]}}"
      ]
     },
     "metadata": {},
     "execution_count": 109
    }
   ],
   "source": [
    "db.prizes.index_information()"
   ]
  },
  {
   "cell_type": "code",
   "execution_count": 110,
   "metadata": {},
   "outputs": [
    {
     "output_type": "execute_result",
     "data": {
      "text/plain": [
       "{'queryPlanner': {'plannerVersion': 1,\n",
       "  'namespace': 'nobel.prizes',\n",
       "  'indexFilterSet': False,\n",
       "  'parsedQuery': {'category': {'$eq': 'economics'}},\n",
       "  'winningPlan': {'stage': 'PROJECTION_COVERED',\n",
       "   'transformBy': {'year': 1, '_id': 0},\n",
       "   'inputStage': {'stage': 'IXSCAN',\n",
       "    'keyPattern': {'category': 1, 'year': 1},\n",
       "    'indexName': 'category_1_year_1',\n",
       "    'isMultiKey': False,\n",
       "    'multiKeyPaths': {'category': [], 'year': []},\n",
       "    'isUnique': False,\n",
       "    'isSparse': False,\n",
       "    'isPartial': False,\n",
       "    'indexVersion': 2,\n",
       "    'direction': 'forward',\n",
       "    'indexBounds': {'category': ['[\"economics\", \"economics\"]'],\n",
       "     'year': ['[MinKey, MaxKey]']}}},\n",
       "  'rejectedPlans': []},\n",
       " 'executionStats': {'executionSuccess': True,\n",
       "  'nReturned': 50,\n",
       "  'executionTimeMillis': 0,\n",
       "  'totalKeysExamined': 50,\n",
       "  'totalDocsExamined': 0,\n",
       "  'executionStages': {'stage': 'PROJECTION_COVERED',\n",
       "   'nReturned': 50,\n",
       "   'executionTimeMillisEstimate': 0,\n",
       "   'works': 51,\n",
       "   'advanced': 50,\n",
       "   'needTime': 0,\n",
       "   'needYield': 0,\n",
       "   'saveState': 0,\n",
       "   'restoreState': 0,\n",
       "   'isEOF': 1,\n",
       "   'transformBy': {'year': 1, '_id': 0},\n",
       "   'inputStage': {'stage': 'IXSCAN',\n",
       "    'nReturned': 50,\n",
       "    'executionTimeMillisEstimate': 0,\n",
       "    'works': 51,\n",
       "    'advanced': 50,\n",
       "    'needTime': 0,\n",
       "    'needYield': 0,\n",
       "    'saveState': 0,\n",
       "    'restoreState': 0,\n",
       "    'isEOF': 1,\n",
       "    'keyPattern': {'category': 1, 'year': 1},\n",
       "    'indexName': 'category_1_year_1',\n",
       "    'isMultiKey': False,\n",
       "    'multiKeyPaths': {'category': [], 'year': []},\n",
       "    'isUnique': False,\n",
       "    'isSparse': False,\n",
       "    'isPartial': False,\n",
       "    'indexVersion': 2,\n",
       "    'direction': 'forward',\n",
       "    'indexBounds': {'category': ['[\"economics\", \"economics\"]'],\n",
       "     'year': ['[MinKey, MaxKey]']},\n",
       "    'keysExamined': 50,\n",
       "    'seeks': 1,\n",
       "    'dupsTested': 0,\n",
       "    'dupsDropped': 0}},\n",
       "  'allPlansExecution': []},\n",
       " 'serverInfo': {'host': '9562c50efad6',\n",
       "  'port': 27017,\n",
       "  'version': '4.4.3',\n",
       "  'gitVersion': '913d6b62acfbb344dde1b116f4161360acd8fd13'},\n",
       " 'ok': 1.0}"
      ]
     },
     "metadata": {},
     "execution_count": 110
    }
   ],
   "source": [
    "db.prizes.find({\"category\": \"economics\"}, {\"year\": 1, \"_id\": 0}).explain()"
   ]
  },
  {
   "cell_type": "code",
   "execution_count": 107,
   "metadata": {},
   "outputs": [
    {
     "output_type": "execute_result",
     "data": {
      "text/plain": [
       "[{'year': '1969'},\n",
       " {'year': '1970'},\n",
       " {'year': '1971'},\n",
       " {'year': '1972'},\n",
       " {'year': '1973'},\n",
       " {'year': '1974'},\n",
       " {'year': '1975'},\n",
       " {'year': '1976'},\n",
       " {'year': '1977'},\n",
       " {'year': '1978'},\n",
       " {'year': '1979'},\n",
       " {'year': '1980'},\n",
       " {'year': '1981'},\n",
       " {'year': '1982'},\n",
       " {'year': '1983'},\n",
       " {'year': '1984'},\n",
       " {'year': '1985'},\n",
       " {'year': '1986'},\n",
       " {'year': '1987'},\n",
       " {'year': '1988'},\n",
       " {'year': '1989'},\n",
       " {'year': '1990'},\n",
       " {'year': '1991'},\n",
       " {'year': '1992'},\n",
       " {'year': '1993'},\n",
       " {'year': '1994'},\n",
       " {'year': '1995'},\n",
       " {'year': '1996'},\n",
       " {'year': '1997'},\n",
       " {'year': '1998'},\n",
       " {'year': '1999'},\n",
       " {'year': '2000'},\n",
       " {'year': '2001'},\n",
       " {'year': '2002'},\n",
       " {'year': '2003'},\n",
       " {'year': '2004'},\n",
       " {'year': '2005'},\n",
       " {'year': '2006'},\n",
       " {'year': '2007'},\n",
       " {'year': '2008'},\n",
       " {'year': '2009'},\n",
       " {'year': '2010'},\n",
       " {'year': '2011'},\n",
       " {'year': '2012'},\n",
       " {'year': '2013'},\n",
       " {'year': '2014'},\n",
       " {'year': '2015'},\n",
       " {'year': '2016'},\n",
       " {'year': '2017'},\n",
       " {'year': '2018'}]"
      ]
     },
     "metadata": {},
     "execution_count": 107
    }
   ],
   "source": [
    "list(db.prizes.find({\"category\": \"economics\"}, {\"year\": 1, \"_id\": 0}))"
   ]
  },
  {
   "cell_type": "code",
   "execution_count": 117,
   "metadata": {},
   "outputs": [],
   "source": [
    " db.prizes.find_one(\n",
    "    {\"year\": 1, \"laureates.share\": 1},\n",
    "    sort=[(\"year\", -1)]\n",
    ")"
   ]
  },
  {
   "cell_type": "code",
   "execution_count": 119,
   "metadata": {},
   "outputs": [
    {
     "output_type": "stream",
     "name": "stdout",
     "text": [
      "chemistry: 2011\neconomics: 2017\nliterature: 2017\nmedicine: 2016\npeace: 2017\nphysics: 1992\n\n"
     ]
    }
   ],
   "source": [
    "# Specify an index model for compound sorting\n",
    "index_model = [(\"category\", 1), (\"year\", -1)]\n",
    "db.prizes.create_index(index_model)\n",
    "\n",
    "# Collect the last single-laureate year for each category\n",
    "report = \"\"\n",
    "for category in sorted(db.prizes.distinct(\"category\")):\n",
    "    doc = db.prizes.find_one(\n",
    "        {\"category\":category, \"laureates.share\": \"1\"},\n",
    "        sort=[(\"year\", -1)]\n",
    "    )\n",
    "    report += \"{category}: {year}\\n\".format(**doc)\n",
    "\n",
    "print(report)"
   ]
  },
  {
   "cell_type": "code",
   "execution_count": 120,
   "metadata": {},
   "outputs": [
    {
     "output_type": "stream",
     "name": "stdout",
     "text": [
      "[('USA', 241), ('United Kingdom', 56), ('France', 26), ('Germany', 19), ('Japan', 17)]\n"
     ]
    }
   ],
   "source": [
    "from collections import Counter\n",
    "\n",
    "# Ensure an index on country of birth\n",
    "db.laureates.create_index([(\"bornCountry\", 1)])\n",
    "\n",
    "# Collect a count of laureates for each country of birth\n",
    "n_born_and_affiliated = {\n",
    "    country: db.laureates.count_documents({\n",
    "        \"bornCountry\": country,\n",
    "        \"prizes.affiliations.country\": country\n",
    "    })\n",
    "    for country in db.laureates.distinct(\"bornCountry\")\n",
    "}\n",
    "\n",
    "five_most_common = Counter(n_born_and_affiliated).most_common(5)\n",
    "print(five_most_common)"
   ]
  },
  {
   "cell_type": "code",
   "execution_count": 121,
   "metadata": {},
   "outputs": [
    {
     "output_type": "stream",
     "name": "stdout",
     "text": [
      "2011 peace\n2010 chemistry\n2008 chemistry\n"
     ]
    }
   ],
   "source": [
    "# Pagination\n",
    "for doc in db.prizes.find({\"laureates.share\":\"3\"}, skip=6,limit=3):\n",
    "    print(\"{year} {category}\".format(**doc))"
   ]
  },
  {
   "cell_type": "code",
   "execution_count": 122,
   "metadata": {},
   "outputs": [
    {
     "output_type": "execute_result",
     "data": {
      "text/plain": [
       "[{'year': '1969'},\n",
       " {'year': '1970'},\n",
       " {'year': '1971'},\n",
       " {'year': '1972'},\n",
       " {'year': '1973'}]"
      ]
     },
     "metadata": {},
     "execution_count": 122
    }
   ],
   "source": [
    "list(db.prizes.find({\"category\": \"economics\"},\n",
    "                    {\"year\": 1, \"_id\": 0})\n",
    "     .sort(\"year\")\n",
    "     .limit(3)\n",
    "     .limit(5))"
   ]
  },
  {
   "cell_type": "code",
   "execution_count": 123,
   "metadata": {},
   "outputs": [
    {
     "output_type": "execute_result",
     "data": {
      "text/plain": [
       "{'_id': ObjectId('60016c9d585e08fd9974875c'),\n",
       " 'year': '2018',\n",
       " 'category': 'physics',\n",
       " 'overallMotivation': '“for groundbreaking inventions in the field of laser physics”',\n",
       " 'laureates': [{'id': '960',\n",
       "   'firstname': 'Arthur',\n",
       "   'surname': 'Ashkin',\n",
       "   'motivation': '\"for the optical tweezers and their application to biological systems\"',\n",
       "   'share': '2'},\n",
       "  {'id': '961',\n",
       "   'firstname': 'Gérard',\n",
       "   'surname': 'Mourou',\n",
       "   'motivation': '\"for their method of generating high-intensity, ultra-short optical pulses\"',\n",
       "   'share': '4'},\n",
       "  {'id': '962',\n",
       "   'firstname': 'Donna',\n",
       "   'surname': 'Strickland',\n",
       "   'motivation': '\"for their method of generating high-intensity, ultra-short optical pulses\"',\n",
       "   'share': '4'}]}"
      ]
     },
     "metadata": {},
     "execution_count": 123
    }
   ],
   "source": [
    "db.prizes.find_one()"
   ]
  },
  {
   "cell_type": "code",
   "execution_count": 125,
   "metadata": {},
   "outputs": [
    {
     "output_type": "stream",
     "name": "stdout",
     "text": [
      "[{'_id': ObjectId('60016c9d585e08fd99748951'),\n  'category': 'physics',\n  'laureates': [{'motivation': '\"in recognition of the extraordinary services '\n                               'he has rendered by his discovery of '\n                               'spontaneous radioactivity\"'},\n                {'motivation': '\"in recognition of the extraordinary services '\n                               'they have rendered by their joint researches '\n                               'on the radiation phenomena discovered by '\n                               'Professor Henri Becquerel\"'},\n                {'motivation': '\"in recognition of the extraordinary services '\n                               'they have rendered by their joint researches '\n                               'on the radiation phenomena discovered by '\n                               'Professor Henri Becquerel\"'}],\n  'year': '1903'},\n {'_id': ObjectId('60016c9d585e08fd997488f8'),\n  'category': 'chemistry',\n  'laureates': [{'motivation': '\"for his discovery that enzymes can be '\n                               'crystallized\"'},\n                {'motivation': '\"for their preparation of enzymes and virus '\n                               'proteins in a pure form\"'},\n                {'motivation': '\"for their preparation of enzymes and virus '\n                               'proteins in a pure form\"'}],\n  'year': '1946'},\n {'_id': ObjectId('60016c9d585e08fd997488d1'),\n  'category': 'medicine',\n  'laureates': [{'motivation': '\"for their discovery of the course of the '\n                               'catalytic conversion of glycogen\"'},\n                {'motivation': '\"for their discovery of the course of the '\n                               'catalytic conversion of glycogen\"'},\n                {'motivation': '\"for his discovery of the part played by the '\n                               'hormone of the anterior pituitary lobe in the '\n                               'metabolism of sugar\"'}],\n  'year': '1947'},\n {'_id': ObjectId('60016c9d585e08fd997488b2'),\n  'category': 'medicine',\n  'laureates': [{'motivation': '\"for their discovery that genes act by '\n                               'regulating definite chemical events\"'},\n                {'motivation': '\"for their discovery that genes act by '\n                               'regulating definite chemical events\"'},\n                {'motivation': '\"for his discoveries concerning genetic '\n                               'recombination and the organization of the '\n                               'genetic material of bacteria\"'}],\n  'year': '1958'},\n {'_id': ObjectId('60016c9d585e08fd99748892'),\n  'category': 'physics',\n  'laureates': [{'motivation': '\"for his contributions to the theory of the '\n                               'atomic nucleus and the elementary particles, '\n                               'particularly through the discovery and '\n                               'application of fundamental symmetry '\n                               'principles\"'},\n                {'motivation': '\"for their discoveries concerning nuclear '\n                               'shell structure\"'},\n                {'motivation': '\"for their discoveries concerning nuclear '\n                               'shell structure\"'}],\n  'year': '1963'}]\n"
     ]
    }
   ],
   "source": [
    "from pprint import pprint\n",
    "\n",
    "# Fetch prizes with quarter-share laureate(s)\n",
    "filter_ = {\"laureates.share\": \"4\"}\n",
    "\n",
    "# Save the list of field names\n",
    "projection = [\"category\", \"year\", \"laureates.motivation\"]\n",
    "\n",
    "# Save a cursor to yield the first five prizes\n",
    "cursor = db.prizes.find(filter_, projection).sort(\"year\",1).limit(5)\n",
    "pprint(list(cursor))"
   ]
  },
  {
   "cell_type": "code",
   "execution_count": 126,
   "metadata": {},
   "outputs": [
    {
     "output_type": "execute_result",
     "data": {
      "text/plain": [
       "{'_id': ObjectId('60016c9b585e08fd997483b5'),\n",
       " 'id': '2',\n",
       " 'firstname': 'Hendrik Antoon',\n",
       " 'surname': 'Lorentz',\n",
       " 'born': '1853-07-18',\n",
       " 'died': '1928-02-04',\n",
       " 'bornCountry': 'the Netherlands',\n",
       " 'bornCountryCode': 'NL',\n",
       " 'bornCity': 'Arnhem',\n",
       " 'diedCountry': 'the Netherlands',\n",
       " 'diedCountryCode': 'NL',\n",
       " 'gender': 'male',\n",
       " 'prizes': [{'year': '1902',\n",
       "   'category': 'physics',\n",
       "   'share': '2',\n",
       "   'motivation': '\"in recognition of the extraordinary service they rendered by their researches into the influence of magnetism upon radiation phenomena\"',\n",
       "   'affiliations': [{'name': 'Leiden University',\n",
       "     'city': 'Leiden',\n",
       "     'country': 'the Netherlands'}]}]}"
      ]
     },
     "metadata": {},
     "execution_count": 126
    }
   ],
   "source": [
    "db.laureates.find_one()"
   ]
  },
  {
   "cell_type": "code",
   "execution_count": 128,
   "metadata": {},
   "outputs": [
    {
     "output_type": "stream",
     "name": "stdout",
     "text": [
      "[{'_id': ObjectId('60016c9c585e08fd99748414'),\n  'firstname': 'Charles Thomson Rees',\n  'prizes': [{'affiliations': [{'city': 'Cambridge',\n                                'country': 'United Kingdom',\n                                'name': 'University of Cambridge'}],\n              'category': 'physics',\n              'motivation': '\"for his method of making the paths of '\n                            'electrically charged particles visible by '\n                            'condensation of vapour\"',\n              'share': '2',\n              'year': '1927'}],\n  'surname': 'Wilson'},\n {'_id': ObjectId('60016c9c585e08fd9974842a'),\n  'firstname': 'Sir John Douglas',\n  'prizes': [{'affiliations': [{'city': 'Harwell, Berkshire',\n                                'country': 'United Kingdom',\n                                'name': 'Atomic Energy Research '\n                                        'Establishment'}],\n              'category': 'physics',\n              'motivation': '\"for their pioneer work on the transmutation of '\n                            'atomic nuclei by artificially accelerated atomic '\n                            'particles\"',\n              'share': '2',\n              'year': '1951'}],\n  'surname': 'Cockcroft'},\n {'_id': ObjectId('60016c9c585e08fd9974842b'),\n  'firstname': 'Ernest Thomas Sinton',\n  'prizes': [{'affiliations': [{'city': 'Dublin',\n                                'country': 'Ireland',\n                                'name': 'Trinity College'}],\n              'category': 'physics',\n              'motivation': '\"for their pioneer work on the transmutation of '\n                            'atomic nuclei by artificially accelerated atomic '\n                            'particles\"',\n              'share': '2',\n              'year': '1951'}],\n  'surname': 'Walton'}]\n"
     ]
    }
   ],
   "source": [
    "from pprint import pprint\n",
    "\n",
    "# Write a function to retrieve a page of data\n",
    "def get_particle_laureates(page_number=1, page_size=3):\n",
    "    if page_number < 1 or not isinstance(page_number, int):\n",
    "        raise ValueError(\"Pages are natural numbers (starting from 1).\")\n",
    "    particle_laureates = list(\n",
    "        db.laureates.find(\n",
    "            {\"prizes.motivation\": {\"$regex\": \"particle\"}},\n",
    "            [\"firstname\", \"surname\", \"prizes\"])\n",
    "        .sort([(\"prizes.year\", 1), (\"surname\", 1)])\n",
    "        .skip(page_size * (page_number - 1))\n",
    "        .limit(page_size))\n",
    "    return particle_laureates\n",
    "\n",
    "# Collect and save the first nine pages\n",
    "pages = [get_particle_laureates(page_number=page) for page in range(1,9)]\n",
    "pprint(pages[0])"
   ]
  },
  {
   "cell_type": "code",
   "execution_count": 133,
   "metadata": {},
   "outputs": [
    {
     "output_type": "execute_result",
     "data": {
      "text/plain": [
       "[{'firstname': 'International Campaign to Abolish Nuclear Weapons (ICAN)',\n",
       "  'prizes': [{'year': '2017'}]},\n",
       " {'firstname': 'National Dialogue Quartet', 'prizes': [{'year': '2015'}]},\n",
       " {'firstname': 'Organisation for the Prohibition of Chemical Weapons (OPCW)',\n",
       "  'prizes': [{'year': '2013'}]}]"
      ]
     },
     "metadata": {},
     "execution_count": 133
    }
   ],
   "source": [
    "cursor = (db.laureates.find(\n",
    "    projection={\"firstname\": 1, \"prizes.year\": 1, \"_id\": 0},\n",
    "    filter={\"gender\": \"org\"})\n",
    " .limit(3).sort(\"prizes.year\", -1))\n",
    "\n",
    "project_stage = {\"$project\": {\"firstname\": 1, \"prizes.year\": 1, \"_id\": 0}}\n",
    "match_stage = {\"$match\": {\"gender\": \"org\"}}\n",
    "limit_stage = {\"$limit\": 3}\n",
    "sort_stage = {\"$sort\": {\"prizes.year\": -1}}\n",
    "pipeline=[match_stage, project_stage, sort_stage, limit_stage]\n",
    "list(db.laureates.aggregate(pipeline))"
   ]
  },
  {
   "cell_type": "code",
   "execution_count": 134,
   "metadata": {},
   "outputs": [
    {
     "output_type": "stream",
     "name": "stdout",
     "text": [
      "the Netherlands: [{'affiliations': [{'country': 'the Netherlands'}]}]\nUSA: [{'affiliations': [{'country': 'USA'}]}]\nUSA: [{'affiliations': [{'country': 'USA'}]}]\n"
     ]
    }
   ],
   "source": [
    "# Translate cursor to aggregation pipeline\n",
    "pipeline = [\n",
    "    {\"$match\": {\"gender\": {\"$ne\": \"org\"}}},\n",
    "    {\"$project\": {\"bornCountry\": 1, \"prizes.affiliations.country\": 1}},\n",
    "    {\"$limit\": 3}\n",
    "]\n",
    "\n",
    "for doc in db.laureates.aggregate(pipeline):\n",
    "    print(\"{bornCountry}: {prizes}\".format(**doc))"
   ]
  },
  {
   "cell_type": "code",
   "execution_count": 135,
   "metadata": {},
   "outputs": [
    {
     "output_type": "stream",
     "name": "stdout",
     "text": [
      "2018: literature\n1972: peace\n1967: peace\n1966: peace\n1956: peace\n1955: peace\n1948: peace\n1943: literature, peace\n1939: peace\n1935: literature\n1934: physics\n1933: chemistry\n1932: peace\n1931: physics\n1928: peace\n1925: medicine\n1924: chemistry, peace\n1923: peace\n1921: medicine\n1919: chemistry\n1918: literature, medicine, peace\n1917: chemistry, medicine\n1916: chemistry, medicine, peace, physics\n1915: medicine, peace\n1914: literature, peace\n"
     ]
    }
   ],
   "source": [
    "from collections import OrderedDict\n",
    "from itertools import groupby\n",
    "from operator import itemgetter\n",
    "\n",
    "original_categories = set(db.prizes.distinct(\"category\", {\"year\": \"1901\"}))\n",
    "\n",
    "# Save an pipeline to collect original-category prizes\n",
    "pipeline = [\n",
    "    {\"$match\": {\"category\": {\"$in\": list(original_categories)}}},\n",
    "    {\"$project\": {\"category\": 1, \"year\": 1}},\n",
    "    {\"$sort\": OrderedDict([(\"year\", -1)])}\n",
    "]\n",
    "cursor = db.prizes.aggregate(pipeline)\n",
    "for key, group in groupby(cursor, key=itemgetter(\"year\")):\n",
    "    missing = original_categories - {doc[\"category\"] for doc in group}\n",
    "    if missing:\n",
    "        print(\"{year}: {missing}\".format(year=key, missing=\", \".join(sorted(missing))))"
   ]
  },
  {
   "source": [
    "# Fields paths\n",
    "to create new fields"
   ],
   "cell_type": "markdown",
   "metadata": {}
  },
  {
   "cell_type": "code",
   "execution_count": 136,
   "metadata": {},
   "outputs": [
    {
     "output_type": "execute_result",
     "data": {
      "text/plain": [
       "{'_id': ObjectId('60016c9b585e08fd997483b5'), 'n_prizes': 1}"
      ]
     },
     "metadata": {},
     "execution_count": 136
    }
   ],
   "source": [
    "db.laureates.aggregate([{\"$project\": {\"n_prizes\":{\"$size\":\"$prizes\"}}}]).next()"
   ]
  },
  {
   "cell_type": "code",
   "execution_count": 139,
   "metadata": {},
   "outputs": [
    {
     "output_type": "execute_result",
     "data": {
      "text/plain": [
       "[{'_id': None, 'n_prizes_total': 941}]"
      ]
     },
     "metadata": {},
     "execution_count": 139
    }
   ],
   "source": [
    "list(db.laureates.aggregate([\n",
    "    {\"$project\": {\"n_prizes\": {\"$size\": \"$prizes\"}}},\n",
    "    {\"$group\": {\"_id\": None, \"n_prizes_total\": {\"$sum\": \"$n_prizes\"}}}\n",
    "]))"
   ]
  },
  {
   "cell_type": "code",
   "execution_count": 142,
   "metadata": {},
   "outputs": [
    {
     "output_type": "execute_result",
     "data": {
      "text/plain": [
       "[]"
      ]
     },
     "metadata": {},
     "execution_count": 142
    }
   ],
   "source": [
    "# Aggregates who has 3 shares and who dont\n",
    "list(db.prizes.aggregate([\n",
    "    {\"$project\": {\"allThree\": {\"$setEquals\": [\"$laureates.share\", [\"3\"]]},\n",
    "                  \"noneThree\": {\"$not\": {\"$setIsSubset\": [[\"3\"], \"$laureates.share\"]}}}},\n",
    "    {\"$match\": {\"$nor\": [{\"allThree\": True}, {\"noneThree\": True}]}}]))"
   ]
  },
  {
   "cell_type": "code",
   "execution_count": 143,
   "metadata": {},
   "outputs": [
    {
     "output_type": "stream",
     "name": "stdout",
     "text": [
      "[{'_id': None, 'n_prizes_total': 27}]\n"
     ]
    }
   ],
   "source": [
    "# Count prizes awarded (at least partly) to organizations as a sum over sizes of \"prizes\" arrays.\n",
    "pipeline = [\n",
    "    {\"$match\": {\"gender\": \"org\"}},\n",
    "    {\"$project\": {\"n_prizes\": {\"$size\": \"$prizes\"}}},\n",
    "    {\"$group\": {\"_id\": None, \"n_prizes_total\": {\"$sum\": \"$n_prizes\"}}}\n",
    "]\n",
    "\n",
    "print(list(db.laureates.aggregate(pipeline)))"
   ]
  },
  {
   "cell_type": "code",
   "execution_count": 146,
   "metadata": {},
   "outputs": [
    {
     "output_type": "stream",
     "name": "stdout",
     "text": [
      "2018: literature\n1972: peace\n1967: peace\n1966: peace\n1956: peace\n1955: peace\n1948: peace\n1943: literature, peace\n1939: peace\n1935: literature\n1934: physics\n1933: chemistry\n1932: peace\n1931: physics\n1928: peace\n1925: medicine\n1924: chemistry, peace\n1923: peace\n1921: medicine\n1919: chemistry\n1918: literature, medicine, peace\n1917: chemistry, medicine\n1916: chemistry, medicine, peace, physics\n1915: medicine, peace\n1914: literature, peace\n"
     ]
    }
   ],
   "source": [
    "from collections import OrderedDict\n",
    "\n",
    "original_categories = sorted(set(db.prizes.distinct(\"category\", {\"year\": \"1901\"})))\n",
    "pipeline = [\n",
    "    {\"$match\": {\"category\": {\"$in\": original_categories}}},\n",
    "    {\"$project\": {\"category\": 1, \"year\": 1}},\n",
    "    \n",
    "    # Collect the set of category values for each prize year.\n",
    "    {\"$group\": {\"_id\": \"$year\", \"categories\": {\"$addToSet\": \"$category\"}}},\n",
    "    \n",
    "    # Project categories *not* awarded (i.e., that are missing this year).\n",
    "    {\"$project\": {\"missing\": {\"$setDifference\": [original_categories, \"$categories\"]}}},\n",
    "    \n",
    "    # Only include years with at least one missing category\n",
    "    {\"$match\": {\"missing.0\": {\"$exists\": True}}},\n",
    "    \n",
    "    # Sort in reverse chronological order. Note that \"_id\" is a distinct year at this stage.\n",
    "    {\"$sort\": OrderedDict([(\"_id\", -1)])},\n",
    "]\n",
    "for doc in db.prizes.aggregate(pipeline):\n",
    "    print(\"{year}: {missing}\".format(year=doc[\"_id\"],missing=\", \".join(sorted(doc[\"missing\"]))))"
   ]
  },
  {
   "cell_type": "code",
   "execution_count": null,
   "metadata": {},
   "outputs": [],
   "source": []
  },
  {
   "source": [
    "## Get element of array"
   ],
   "cell_type": "markdown",
   "metadata": {}
  },
  {
   "cell_type": "code",
   "execution_count": 147,
   "metadata": {},
   "outputs": [
    {
     "output_type": "execute_result",
     "data": {
      "text/plain": [
       "[{'year': '2018',\n",
       "  'category': 'physics',\n",
       "  'laureates': {'surname': 'Ashkin', 'share': '2'}},\n",
       " {'year': '2018',\n",
       "  'category': 'physics',\n",
       "  'laureates': {'surname': 'Mourou', 'share': '4'}},\n",
       " {'year': '2018',\n",
       "  'category': 'physics',\n",
       "  'laureates': {'surname': 'Strickland', 'share': '4'}}]"
      ]
     },
     "metadata": {},
     "execution_count": 147
    }
   ],
   "source": [
    "list(db.prizes.aggregate([\n",
    "    {\"$unwind\":\"$laureates\"},\n",
    "    {\"$project\": {\n",
    "        \"_id\":0, \"year\":1, \"category\":1,\n",
    "        \"laureates.surname\": 1, \"laureates.share\": 1\n",
    "    }},\n",
    "    {\"$limit\": 3}\n",
    "]))"
   ]
  },
  {
   "source": [
    "## $unwind"
   ],
   "cell_type": "markdown",
   "metadata": {}
  },
  {
   "cell_type": "code",
   "execution_count": 148,
   "metadata": {},
   "outputs": [
    {
     "output_type": "stream",
     "name": "stdout",
     "text": [
      "{'_id': 'literature', 'nBornCountries': 55}\n{'_id': 'peace', 'nBornCountries': 50}\n{'_id': 'chemistry', 'nBornCountries': 48}\n{'_id': 'medicine', 'nBornCountries': 44}\n{'_id': 'physics', 'nBornCountries': 44}\n{'_id': 'economics', 'nBornCountries': 21}\n"
     ]
    }
   ],
   "source": [
    "pipeline = [\n",
    "    # Unwind the laureates array\n",
    "    {\"$unwind\": \"$laureates\"},\n",
    "    {\"$lookup\": {\n",
    "        \"from\": \"laureates\", \"foreignField\": \"id\",\n",
    "        \"localField\": \"laureates.id\", \"as\": \"laureate_bios\"}},\n",
    "\n",
    "    # Unwind the new laureate_bios array\n",
    "    {\"$unwind\": \"$laureate_bios\"},\n",
    "    {\"$project\": {\"category\": 1,\n",
    "                  \"bornCountry\": \"$laureate_bios.bornCountry\"}},\n",
    "\n",
    "    # Collect bornCountry values associated with each prize category\n",
    "    {\"$group\": {\"_id\": \"$category\",\n",
    "                \"bornCountries\": {\"$addToSet\": \"$bornCountry\"}}},\n",
    "\n",
    "    # Project out the size of each category's (set of) bornCountries\n",
    "    {\"$project\": {\"category\": 1,\n",
    "                  \"nBornCountries\": {\"$size\": \"$bornCountries\"}}},\n",
    "    {\"$sort\": {\"nBornCountries\": -1}},\n",
    "]\n",
    "for doc in db.prizes.aggregate(pipeline): print(doc)"
   ]
  },
  {
   "source": [
    "## $bucket"
   ],
   "cell_type": "markdown",
   "metadata": {}
  },
  {
   "cell_type": "code",
   "execution_count": null,
   "metadata": {},
   "outputs": [],
   "source": []
  },
  {
   "cell_type": "code",
   "execution_count": 150,
   "metadata": {},
   "outputs": [
    {
     "output_type": "stream",
     "name": "stdout",
     "text": [
      "[{'awardedElsewhere': 478}]\n"
     ]
    }
   ],
   "source": [
    "#How many prizes were awarded to immigrants?\n",
    "pipeline = [\n",
    "    # Limit results to people; project needed fields; unwind prizes\n",
    "    {\"$match\": {\"gender\": {\"$ne\": \"org\"}}},\n",
    "    {\"$project\": {\"bornCountry\": 1, \"prizes.affiliations.country\": 1}},\n",
    "    {\"$unwind\": \"$prizes\"},\n",
    "  \n",
    "    # Count prizes with no country-of-birth affiliation\n",
    "    {\"$addFields\": {\"bornCountryInAffiliations\": {\"$in\": [\"$bornCountry\", \"$prizes.affiliations.country\"]}}},\n",
    "    {\"$match\": {\"bornCountryInAffiliations\": False}},\n",
    "    {\"$count\": \"awardedElsewhere\"},\n",
    "]\n",
    "\n",
    "print(list(db.laureates.aggregate(pipeline)))"
   ]
  },
  {
   "cell_type": "code",
   "execution_count": 151,
   "metadata": {},
   "outputs": [
    {
     "output_type": "stream",
     "name": "stdout",
     "text": [
      "[{'awardedElsewhere': 252}]\n"
     ]
    }
   ],
   "source": [
    "pipeline = [\n",
    "    {\"$match\": {\"gender\": {\"$ne\": \"org\"}}},\n",
    "    {\"$project\": {\"bornCountry\": 1, \"prizes.affiliations.country\": 1}},\n",
    "    {\"$unwind\": \"$prizes\"},\n",
    "    {\"$addFields\": {\"bornCountryInAffiliations\": {\"$in\": [\"$bornCountry\", \"$prizes.affiliations.country\"]}}},\n",
    "    {\"$match\": {\"bornCountryInAffiliations\": False}},\n",
    "    {\"$count\": \"awardedElsewhere\"},\n",
    "]\n",
    "\n",
    "# Construct the additional filter stage\n",
    "added_stage = {\"$match\": {\"prizes.affiliations.country\": {\"$in\": db.laureates.distinct(\"prizes.affiliations.country\")}}}\n",
    "\n",
    "# Insert this stage into the pipeline\n",
    "pipeline.insert(3, added_stage)\n",
    "print(list(db.laureates.aggregate(pipeline)))"
   ]
  },
  {
   "cell_type": "code",
   "execution_count": null,
   "metadata": {},
   "outputs": [],
   "source": []
  }
 ],
 "metadata": {
  "kernelspec": {
   "name": "python3",
   "display_name": "Python 3.8.6 64-bit ('venv')",
   "metadata": {
    "interpreter": {
     "hash": "1b8b6411b350fa2f7f9d1ec03fb50a07f5e46953390b4a42a778af8dc50d2a68"
    }
   }
  },
  "language_info": {
   "codemirror_mode": {
    "name": "ipython",
    "version": 3
   },
   "file_extension": ".py",
   "mimetype": "text/x-python",
   "name": "python",
   "nbconvert_exporter": "python",
   "pygments_lexer": "ipython3",
   "version": "3.8.6-final"
  }
 },
 "nbformat": 4,
 "nbformat_minor": 2
}