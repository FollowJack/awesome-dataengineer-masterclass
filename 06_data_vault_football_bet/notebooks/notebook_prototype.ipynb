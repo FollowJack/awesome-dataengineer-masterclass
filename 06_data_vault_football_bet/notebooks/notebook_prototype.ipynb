{
 "cells": [
  {
   "cell_type": "markdown",
   "metadata": {},
   "source": [
    "# Bet Vault "
   ]
  },
  {
   "cell_type": "code",
   "execution_count": 1,
   "metadata": {},
   "outputs": [],
   "source": [
    "import pandas as pd\n",
    "import numpy as np\n",
    "import sqlite3\n",
    "import hashlib\n",
    "import datetime as dt\n",
    "import matplotlib.pyplot as plt\n",
    "%matplotlib inline\n",
    "pd.set_option(\"display.max_columns\", None)\n",
    "pd.set_option(\"display.max_rows\", None)"
   ]
  },
  {
   "cell_type": "code",
   "execution_count": 2,
   "metadata": {},
   "outputs": [],
   "source": [
    "connection_string = \"../data/raw/database.sqlite\""
   ]
  },
  {
   "cell_type": "code",
   "execution_count": 3,
   "metadata": {},
   "outputs": [],
   "source": [
    "query_table_names = \"\"\"\n",
    "            SELECT name FROM sqlite_master\n",
    "            WHERE type IN ('table', 'view')\n",
    "            AND name NOT LIKE 'sqlite_%';\n",
    "        \"\"\"\n",
    "\n",
    "query_table_info = \"PRAGMA table_info([{table_name}]);\"\n",
    "\n",
    "query_drop_table_if_exists = \"DROP TABLE IF EXISTS {table_name};\"\n",
    "\n",
    "query_select = \"SELECT * FROM {table}\"\n",
    "\n",
    "query_create_hub = \"\"\"\n",
    "    CREATE TABLE {table} (\n",
    "        HK TEXT NOT NULL PRIMARY KEY,\n",
    "        BK INTEGER,\n",
    "        LDTS DATE, \n",
    "        RS INTEGER\n",
    "    );\n",
    "\"\"\"\n",
    "\n",
    "# query_create_link_fk2 = \"\"\"\n",
    "#     CREATE TABLE {table} (\n",
    "#         HK TEXT NOT NULL PRIMARY KEY,\n",
    "#         HK_{FK0} TEXT NOT NULL,\n",
    "#         HK_{FK1} TEXT NOT NULL,\n",
    "#         LDTS DATE,\n",
    "#         RS INTEGER\n",
    "#     );\n",
    "# \"\"\"\n",
    "\n",
    "query_create_link_match = \"\"\"\n",
    "    CREATE TABLE {table} (\n",
    "        HK TEXT NOT NULL PRIMARY KEY,\n",
    "        HK_{HK0_column} TEXT NOT NULL,\n",
    "        HK_{HK1_column} TEXT NOT NULL,\n",
    "        HK_{HK2_column} TEXT NOT NULL,\n",
    "        tmp_{HK3_column} TEXT NOT NULL,\n",
    "        tmp_{HK4_column} TEXT NOT NULL,\n",
    "        LDTS DATE,\n",
    "        RS INTEGER\n",
    "    );\n",
    "\"\"\"\n",
    "\n",
    "query_insert_hub = \"\"\"\n",
    "    INSERT INTO {table_hub} (HK,BK,LDTS,RS)\n",
    "    SELECT \n",
    "        {primary_key}, \n",
    "        {primary_key}, \n",
    "        date(\"now\"), \n",
    "        1\n",
    "    FROM {source_table} \n",
    "    ORDER BY {primary_key} ASC;\n",
    "\"\"\"\n",
    "\n",
    "query_insert_link_match = \"\"\"\n",
    "    INSERT INTO {table_link} (HK, HK_{HK0_column}, HK_{HK1_column}, HK_{HK2_column}, tmp_{HK3_column},tmp_{date_column}, LDTS, RS)\n",
    "    SELECT \n",
    "        id, \n",
    "        {HK0_fk}, \n",
    "        {HK1_fk}, \n",
    "        {HK2_fk}, \n",
    "        {HK3_fk}, \n",
    "        {date_fk},\n",
    "        date(\"now\"), \n",
    "        1\n",
    "    FROM {table_source} \n",
    "    ORDER BY {HK0_fk} ASC;\n",
    "\"\"\""
   ]
  },
  {
   "cell_type": "code",
   "execution_count": 4,
   "metadata": {},
   "outputs": [],
   "source": [
    "def get_db(connection_string):\n",
    "    print(f\"Get db for {connection_string}\")\n",
    "    return sqlite3.connect(connection_string)\n",
    "\n",
    "def get_cursor(db):\n",
    "    #query_in_memory_db = \"ATTACH DATABASE ':memory:' AS memdb1\"\n",
    "    # query_in_memory_db = \"ATTACH DATABASE 'file::memory:?cache=shared' AS aux1\";\n",
    "    cursor = db.cursor()\n",
    "    print(\"Connection established!\")\n",
    "    return cursor\n",
    "\n",
    "def close_connection(cursor):\n",
    "    cursor.close()\n",
    "    print(\"Connection closed!\")\n",
    "    print(\"******************\")\n",
    "    "
   ]
  },
  {
   "cell_type": "code",
   "execution_count": 5,
   "metadata": {},
   "outputs": [
    {
     "output_type": "stream",
     "name": "stdout",
     "text": [
      "Get db for ../data/raw/database.sqlite\n"
     ]
    },
    {
     "output_type": "execute_result",
     "data": {
      "text/plain": [
       "<sqlite3.Cursor at 0x11e7c8e30>"
      ]
     },
     "metadata": {},
     "execution_count": 5
    }
   ],
   "source": [
    "db = get_db(connection_string)\n",
    "cursor = db.cursor()\n",
    "cursor"
   ]
  },
  {
   "cell_type": "code",
   "execution_count": 6,
   "metadata": {},
   "outputs": [
    {
     "output_type": "stream",
     "name": "stdout",
     "text": [
      "Table:Player_Attributes         \tKey:id\n",
      "Table:Player         \tKey:id\n",
      "Table:Match         \tKey:id\n",
      "Table:League         \tKey:id\n",
      "Table:Country         \tKey:id\n",
      "Table:Team         \tKey:id\n",
      "Table:Team_Attributes         \tKey:id\n",
      "Table:HUB_Player         \tKey:HK\n",
      "Table:HUB_Team         \tKey:HK\n",
      "Table:HUB_League         \tKey:HK\n",
      "Table:LINK_Match         \tKey:HK\n"
     ]
    }
   ],
   "source": [
    "\n",
    "def get_table_names(db) -> list:\n",
    "    \"\"\"returns a list of all the names of the tables of a SQL database\"\"\"\n",
    "    table = pd.read_sql(query_table_names, con=db)\n",
    "    return table['name'].to_list()\n",
    "\n",
    "def drop_table_if_exists(table_name,cursor):\n",
    "    try:\n",
    "        cursor.execute(query_drop_table_if_exists.format(table_name=table_name))\n",
    "    except:\n",
    "        pass\n",
    "\n",
    "def get_primary_key(table: str, db) -> str:\n",
    "    \"\"\"returns the name of the primary key of a table from a SQL database if index was created properly\"\"\"\n",
    "    try:\n",
    "        table_idx = pd.read_sql(query_table_info.format(table_name=table), con=db)\n",
    "        primary_key_var = (table_idx.loc[table_idx['pk']== 1]['name'][0])\n",
    "        return primary_key_var\n",
    "    except IndexError:\n",
    "        return f\"Table 'index_info' not found, can't get primary key of {table}\"\n",
    "\n",
    "def get_hash(string):\n",
    "    return hashlib.md5(string.encode()).hexdigest()\n",
    "\n",
    "def hash_key_generator_hub(df):\n",
    "    listAttribute = [\"BK\", \"RS\"]\n",
    "    # trim all fields\n",
    "    df.loc[:, listAttribute] = df.loc[:, listAttribute].replace(\" \", \"\")\n",
    "    # convert all to string data type\n",
    "    df.loc[:, listAttribute] = df.loc[:,listAttribute].astype(str)\n",
    "    # change NULLS to empty strings\n",
    "    df = df.fillna(\" \") \n",
    "    # Concatinate with \"_\"\n",
    "    joined_column_values=df.loc[:,listAttribute].agg('_'.join, axis=1)\n",
    "    # hash generated\n",
    "    hashes = []\n",
    "    for column_value in joined_column_values:\n",
    "        column_value = column_value.upper()\n",
    "        column_hash = get_hash(column_value)\n",
    "        hashes.append(column_hash)\n",
    "    df.iloc[:,0] = hashes\n",
    "    return df\n",
    "\n",
    "def hash_key_generator_link(df, table_information):\n",
    "    print(df.columns)\n",
    "    df['HK'] = df.iloc[:, 1] +\"_\"+ df.iloc[:, 2] +\"_\"+ df.iloc[:, 3] +\"_\"+ df.iloc[:, 4] +\"_\"+ df.iloc[:, 5] +\"_\"+ df.iloc[:, 7].astype(str)\n",
    "    df['HK']= df['HK'].apply(lambda value: get_hash(value))  # data_vault_hash function\n",
    "    df.iloc[:, 1]=df.iloc[:, 1].apply(lambda value: get_hash(value))\n",
    "    df.iloc[:, 2]=df.iloc[:, 2].apply(lambda value: get_hash(value))\n",
    "    df.iloc[:, 3]=df.iloc[:, 3].apply(lambda value: get_hash(value))\n",
    "    return df\n",
    "\n",
    "# FOR TEST REASONS\n",
    "tables = get_table_names(db)\n",
    "for table in tables:\n",
    "    print(f\"Table:{table}         \\tKey:{get_primary_key(table,db)}\")"
   ]
  },
  {
   "cell_type": "code",
   "execution_count": 7,
   "metadata": {},
   "outputs": [],
   "source": [
    "class Hub:\n",
    "    def __init__(self, table_name, table_information, db, source_db_path):\n",
    "        self.name = table_name\n",
    "        self.source_db_path = source_db_path\n",
    "        self.db = db\n",
    "        self.cursor = get_cursor(db)\n",
    "        self.df = None\n",
    "        self.create_table(table_name, table_information['source'], table_information['pk'][0], cursor)\n",
    "        close_connection(self.cursor)\n",
    "\n",
    "    def create_table(self, table_name, source_table, primary_key_source, cursor):\n",
    "        print(f\"Drop table '{table_name}' if exists\")\n",
    "        drop_table_if_exists(table_name, cursor)\n",
    "        print(f\"Get data from source '{source_table}'\")\n",
    "        # create hub table\n",
    "        cursor.execute(query_create_hub.format(table=table_name))\n",
    "        # primary_key = get_primary_key(source_table, db) \n",
    "        # fill hub\n",
    "        cursor.execute(query_insert_hub.format(\n",
    "            table_hub=table_name, \n",
    "            primary_key=primary_key_source,\n",
    "            source_table=source_table\n",
    "        ))\n",
    "\n",
    "        df = pd.read_sql(query_select.format(table=table_name), con=db)\n",
    "        self.df = hash_key_generator_hub(df)\n",
    "        \n",
    "        print(f\"Create table: {table_name}\")\n",
    "        df.to_sql(f\"{table_name}\", con=db, if_exists=\"replace\",  index=False,\n",
    "                        dtype={\"HK\": \"TEXT NOT NULL PRIMARY KEY\", \"BK\":\"INTEGER\", \"LDTS\": \"DATETIME\", \"RS\": \"INTEGER\"})\n",
    "\n"
   ]
  },
  {
   "cell_type": "code",
   "execution_count": 8,
   "metadata": {},
   "outputs": [
    {
     "output_type": "stream",
     "name": "stdout",
     "text": [
      "Connection established!\n",
      "Drop table 'HUB_Player' if exists\n",
      "Get data from source 'Player'\n",
      "Create table: HUB_Player\n",
      "Connection closed!\n",
      "******************\n",
      "Connection established!\n",
      "Drop table 'HUB_Team' if exists\n",
      "Get data from source 'Team'\n",
      "Create table: HUB_Team\n",
      "Connection closed!\n",
      "******************\n",
      "Connection established!\n",
      "Drop table 'HUB_League' if exists\n",
      "Get data from source 'League'\n",
      "Create table: HUB_League\n",
      "Connection closed!\n",
      "******************\n"
     ]
    },
    {
     "output_type": "execute_result",
     "data": {
      "text/plain": [
       "{'HUB_Player': <__main__.Hub at 0x10c48b760>,\n",
       " 'HUB_Team': <__main__.Hub at 0x11e8658b0>,\n",
       " 'HUB_League': <__main__.Hub at 0x11e842910>}"
      ]
     },
     "metadata": {},
     "execution_count": 8
    }
   ],
   "source": [
    "hub_source_tables = [\n",
    "    {\"source\": \"Player\", \"pk\": ['player_api_id']}, \n",
    "    {\"source\": \"Team\", \"pk\": ['team_api_id']}, \n",
    "    {\"source\": \"League\", \"pk\": ['id']}\n",
    "]\n",
    "hubs = {}\n",
    "for hub_table in hub_source_tables:\n",
    "    hub_table_name = f\"HUB_{hub_table['source']}\"\n",
    "    hub = Hub(hub_table_name, hub_table, db, connection_string)\n",
    "    hubs[hub_table_name] = hub\n",
    "\n",
    "hubs"
   ]
  },
  {
   "cell_type": "code",
   "execution_count": 9,
   "metadata": {},
   "outputs": [
    {
     "output_type": "execute_result",
     "data": {
      "text/plain": [
       "                                 HK    BK        LDTS RS\n",
       "0  1adb0c2cf78aa85dd55a30506d9695ba  2625  2021-02-10  1\n",
       "1  04b1883afc7fd50e7ff15a3b0f5a87b8  2752  2021-02-10  1\n",
       "2  3c1f0cffb54784fffcfad0d9d2819910  2768  2021-02-10  1\n",
       "3  8bf1b8616904be9aee4364ae18653479  2770  2021-02-10  1\n",
       "4  5793dcf6b65b060e64fec83607281293  2790  2021-02-10  1"
      ],
      "text/html": "<div>\n<style scoped>\n    .dataframe tbody tr th:only-of-type {\n        vertical-align: middle;\n    }\n\n    .dataframe tbody tr th {\n        vertical-align: top;\n    }\n\n    .dataframe thead th {\n        text-align: right;\n    }\n</style>\n<table border=\"1\" class=\"dataframe\">\n  <thead>\n    <tr style=\"text-align: right;\">\n      <th></th>\n      <th>HK</th>\n      <th>BK</th>\n      <th>LDTS</th>\n      <th>RS</th>\n    </tr>\n  </thead>\n  <tbody>\n    <tr>\n      <th>0</th>\n      <td>1adb0c2cf78aa85dd55a30506d9695ba</td>\n      <td>2625</td>\n      <td>2021-02-10</td>\n      <td>1</td>\n    </tr>\n    <tr>\n      <th>1</th>\n      <td>04b1883afc7fd50e7ff15a3b0f5a87b8</td>\n      <td>2752</td>\n      <td>2021-02-10</td>\n      <td>1</td>\n    </tr>\n    <tr>\n      <th>2</th>\n      <td>3c1f0cffb54784fffcfad0d9d2819910</td>\n      <td>2768</td>\n      <td>2021-02-10</td>\n      <td>1</td>\n    </tr>\n    <tr>\n      <th>3</th>\n      <td>8bf1b8616904be9aee4364ae18653479</td>\n      <td>2770</td>\n      <td>2021-02-10</td>\n      <td>1</td>\n    </tr>\n    <tr>\n      <th>4</th>\n      <td>5793dcf6b65b060e64fec83607281293</td>\n      <td>2790</td>\n      <td>2021-02-10</td>\n      <td>1</td>\n    </tr>\n  </tbody>\n</table>\n</div>"
     },
     "metadata": {},
     "execution_count": 9
    }
   ],
   "source": [
    "hubs[\"HUB_Player\"].df.head()"
   ]
  },
  {
   "cell_type": "code",
   "execution_count": 10,
   "metadata": {},
   "outputs": [
    {
     "output_type": "execute_result",
     "data": {
      "text/plain": [
       "                                 HK    BK        LDTS RS\n",
       "0  ba7c94fb0a31d94e8feae513dc647b25  1601  2021-02-10  1\n",
       "1  0cbd21d1866272c1d445ae2f92955258  1773  2021-02-10  1\n",
       "2  a6611c630d79c37771cf69ff622e51fb  1957  2021-02-10  1\n",
       "3  a101f3e4f0ea7531035ba171aa0ec77e  2033  2021-02-10  1\n",
       "4  76da31f9307c5da46e162bf0585f5fce  2182  2021-02-10  1"
      ],
      "text/html": "<div>\n<style scoped>\n    .dataframe tbody tr th:only-of-type {\n        vertical-align: middle;\n    }\n\n    .dataframe tbody tr th {\n        vertical-align: top;\n    }\n\n    .dataframe thead th {\n        text-align: right;\n    }\n</style>\n<table border=\"1\" class=\"dataframe\">\n  <thead>\n    <tr style=\"text-align: right;\">\n      <th></th>\n      <th>HK</th>\n      <th>BK</th>\n      <th>LDTS</th>\n      <th>RS</th>\n    </tr>\n  </thead>\n  <tbody>\n    <tr>\n      <th>0</th>\n      <td>ba7c94fb0a31d94e8feae513dc647b25</td>\n      <td>1601</td>\n      <td>2021-02-10</td>\n      <td>1</td>\n    </tr>\n    <tr>\n      <th>1</th>\n      <td>0cbd21d1866272c1d445ae2f92955258</td>\n      <td>1773</td>\n      <td>2021-02-10</td>\n      <td>1</td>\n    </tr>\n    <tr>\n      <th>2</th>\n      <td>a6611c630d79c37771cf69ff622e51fb</td>\n      <td>1957</td>\n      <td>2021-02-10</td>\n      <td>1</td>\n    </tr>\n    <tr>\n      <th>3</th>\n      <td>a101f3e4f0ea7531035ba171aa0ec77e</td>\n      <td>2033</td>\n      <td>2021-02-10</td>\n      <td>1</td>\n    </tr>\n    <tr>\n      <th>4</th>\n      <td>76da31f9307c5da46e162bf0585f5fce</td>\n      <td>2182</td>\n      <td>2021-02-10</td>\n      <td>1</td>\n    </tr>\n  </tbody>\n</table>\n</div>"
     },
     "metadata": {},
     "execution_count": 10
    }
   ],
   "source": [
    "hubs[\"HUB_Team\"].df.head()"
   ]
  },
  {
   "cell_type": "code",
   "execution_count": 11,
   "metadata": {},
   "outputs": [
    {
     "output_type": "execute_result",
     "data": {
      "text/plain": [
       "                                 HK     BK        LDTS RS\n",
       "0  ec308451c1d095c528cfa3c009ea7235      1  2021-02-10  1\n",
       "1  0bdc65e4364db54d79b628670f347490   1729  2021-02-10  1\n",
       "2  248eeffc41601122c9cbcb4ff65441a6   4769  2021-02-10  1\n",
       "3  e0bd49f6b7486603d558fc3a81018a9c   7809  2021-02-10  1\n",
       "4  2963f320cccf82d389a3b13ac26373a7  10257  2021-02-10  1"
      ],
      "text/html": "<div>\n<style scoped>\n    .dataframe tbody tr th:only-of-type {\n        vertical-align: middle;\n    }\n\n    .dataframe tbody tr th {\n        vertical-align: top;\n    }\n\n    .dataframe thead th {\n        text-align: right;\n    }\n</style>\n<table border=\"1\" class=\"dataframe\">\n  <thead>\n    <tr style=\"text-align: right;\">\n      <th></th>\n      <th>HK</th>\n      <th>BK</th>\n      <th>LDTS</th>\n      <th>RS</th>\n    </tr>\n  </thead>\n  <tbody>\n    <tr>\n      <th>0</th>\n      <td>ec308451c1d095c528cfa3c009ea7235</td>\n      <td>1</td>\n      <td>2021-02-10</td>\n      <td>1</td>\n    </tr>\n    <tr>\n      <th>1</th>\n      <td>0bdc65e4364db54d79b628670f347490</td>\n      <td>1729</td>\n      <td>2021-02-10</td>\n      <td>1</td>\n    </tr>\n    <tr>\n      <th>2</th>\n      <td>248eeffc41601122c9cbcb4ff65441a6</td>\n      <td>4769</td>\n      <td>2021-02-10</td>\n      <td>1</td>\n    </tr>\n    <tr>\n      <th>3</th>\n      <td>e0bd49f6b7486603d558fc3a81018a9c</td>\n      <td>7809</td>\n      <td>2021-02-10</td>\n      <td>1</td>\n    </tr>\n    <tr>\n      <th>4</th>\n      <td>2963f320cccf82d389a3b13ac26373a7</td>\n      <td>10257</td>\n      <td>2021-02-10</td>\n      <td>1</td>\n    </tr>\n  </tbody>\n</table>\n</div>"
     },
     "metadata": {},
     "execution_count": 11
    }
   ],
   "source": [
    "hubs[\"HUB_League\"].df.head()"
   ]
  },
  {
   "cell_type": "code",
   "execution_count": 12,
   "metadata": {},
   "outputs": [],
   "source": [
    "class Link:\n",
    "    def __init__(self, table_name, table_information, db, source_db_path):\n",
    "        self.name = table_name\n",
    "        self.source_db_path = source_db_path\n",
    "        self.db = db\n",
    "        self.cursor = get_cursor(db)\n",
    "        self.df = None\n",
    "        if table_name == \"LINK_Match\":\n",
    "            self.create_table_match(table_name, table_information, cursor)\n",
    "        else:\n",
    "            print(\"other\")\n",
    "        close_connection(self.cursor)\n",
    "\n",
    "    def create_table_match(self, table_name, table_information, cursor):\n",
    "        print(f\"Get data from source '{table_information['name']}'\")\n",
    "        drop_table_if_exists(table_name, cursor)\n",
    "        # create link table\n",
    "        cursor.execute(query_create_link_match.format(\n",
    "            table=table_name,\n",
    "            HK0_column=table_information[\"fks\"][0][\"name\"],\n",
    "            HK1_column=table_information[\"fks\"][1][\"name\"],\n",
    "            HK2_column=table_information[\"fks\"][2][\"name\"],\n",
    "            HK3_column=table_information[\"fks\"][3][\"name\"],\n",
    "            HK4_column=table_information[\"fks\"][4][\"name\"],\n",
    "            ))\n",
    "        self.df = pd.read_sql(query_select.format(table=table_name), con=db)\n",
    "        # # get primary key\n",
    "        # primary_key = get_primary_key(source_table, db) \n",
    "        # fill link\n",
    "        cursor.execute(query_insert_link_match.format(\n",
    "            table_link=table_name, \n",
    "            HK0_column=table_information[\"fks\"][0][\"name\"],\n",
    "            HK0_fk=table_information[\"fks\"][0][\"pk\"],\n",
    "            HK1_column=table_information[\"fks\"][1][\"name\"],\n",
    "            HK1_fk=table_information[\"fks\"][1][\"pk\"],\n",
    "            HK2_column=table_information[\"fks\"][2][\"name\"],\n",
    "            HK2_fk=table_information[\"fks\"][2][\"pk\"],\n",
    "            HK3_column=table_information[\"fks\"][3][\"name\"],\n",
    "            HK3_fk=table_information[\"fks\"][3][\"pk\"],\n",
    "            date_column=table_information[\"fks\"][4]['name'],\n",
    "            date_fk=table_information[\"fks\"][4]['pk'],\n",
    "            table_source=table_information['name']\n",
    "        ))\n",
    "\n",
    "        df = pd.read_sql(query_select.format(table=table_name), con=db)\n",
    "        self.df = hash_key_generator_link(df,table_information)\n",
    "        \n",
    "        print(f\"Create table: {table_name}\")\n",
    "        columns = [\n",
    "            \"HK\",\n",
    "            f\"HK_{table_information['fks'][0]['name']}\",\n",
    "            f\"HK_{table_information['fks'][1]['name']}\",\n",
    "            f\"HK_{table_information['fks'][2]['name']}\",\n",
    "            \"LDTS\",\n",
    "            \"RS\"\n",
    "        ]\n",
    "        df[columns].to_sql(f\"{table_name}\", con=db, if_exists=\"replace\",  index=False,\n",
    "                        dtype={\n",
    "                            \"HK\": \"TEXT NOT NULL PRIMARY KEY\", \n",
    "                            f\"HK_{table_information['fks'][0]['name']}\":\"TEXT\", \n",
    "                            f\"HK_{table_information['fks'][1]['name']}\":\"TEXT\", \n",
    "                            f\"HK_{table_information['fks'][2]['name']}\":\"TEXT\", \n",
    "                            \"LDTS\": \"DATETIME\", \n",
    "                            \"RS\": \"INTEGER\"})\n",
    "        self.df = pd.read_sql(query_select.format(table=table_name), con=db)\n"
   ]
  },
  {
   "cell_type": "code",
   "execution_count": 13,
   "metadata": {},
   "outputs": [
    {
     "output_type": "stream",
     "name": "stdout",
     "text": [
      "Connection established!\n",
      "Get data from source 'Match'\n",
      "Index(['HK', 'HK_home_team', 'HK_away_team', 'HK_league', 'tmp_id', 'tmp_date',\n",
      "       'LDTS', 'RS'],\n",
      "      dtype='object')\n",
      "Create table: LINK_Match\n",
      "Connection closed!\n",
      "******************\n"
     ]
    },
    {
     "output_type": "execute_result",
     "data": {
      "text/plain": [
       "                                 HK                      HK_home_team  \\\n",
       "0  ad20b19c638021427e9df64dcd9755f6  c559da2ba967eb820766939a658022c8   \n",
       "1  225ec43101960d267b16ac8767fb00fc  c559da2ba967eb820766939a658022c8   \n",
       "2  e826ccfafd5740050ea08e599a8a306a  c559da2ba967eb820766939a658022c8   \n",
       "3  96c83767da951a6f320a5fdcb7eb9aa8  c559da2ba967eb820766939a658022c8   \n",
       "4  de6f3269f417738877b4b2211c9a039d  c559da2ba967eb820766939a658022c8   \n",
       "\n",
       "                       HK_away_team                         HK_league  \\\n",
       "0  71969a804c28c0961383008958497b1b  8b3ecc6c4da9bf7e321df2d89de60aa8   \n",
       "1  62d2b7ba91f34c0ac08aa11c359a8d2c  8b3ecc6c4da9bf7e321df2d89de60aa8   \n",
       "2  5ad2c993fa4f162c255867250267de48  8b3ecc6c4da9bf7e321df2d89de60aa8   \n",
       "3  88591b4d3219675bdeb33584b755f680  8b3ecc6c4da9bf7e321df2d89de60aa8   \n",
       "4  07b1c04a30f798b5506c1ec5acfb9031  8b3ecc6c4da9bf7e321df2d89de60aa8   \n",
       "\n",
       "         LDTS  RS  \n",
       "0  2021-02-10   1  \n",
       "1  2021-02-10   1  \n",
       "2  2021-02-10   1  \n",
       "3  2021-02-10   1  \n",
       "4  2021-02-10   1  "
      ],
      "text/html": "<div>\n<style scoped>\n    .dataframe tbody tr th:only-of-type {\n        vertical-align: middle;\n    }\n\n    .dataframe tbody tr th {\n        vertical-align: top;\n    }\n\n    .dataframe thead th {\n        text-align: right;\n    }\n</style>\n<table border=\"1\" class=\"dataframe\">\n  <thead>\n    <tr style=\"text-align: right;\">\n      <th></th>\n      <th>HK</th>\n      <th>HK_home_team</th>\n      <th>HK_away_team</th>\n      <th>HK_league</th>\n      <th>LDTS</th>\n      <th>RS</th>\n    </tr>\n  </thead>\n  <tbody>\n    <tr>\n      <th>0</th>\n      <td>ad20b19c638021427e9df64dcd9755f6</td>\n      <td>c559da2ba967eb820766939a658022c8</td>\n      <td>71969a804c28c0961383008958497b1b</td>\n      <td>8b3ecc6c4da9bf7e321df2d89de60aa8</td>\n      <td>2021-02-10</td>\n      <td>1</td>\n    </tr>\n    <tr>\n      <th>1</th>\n      <td>225ec43101960d267b16ac8767fb00fc</td>\n      <td>c559da2ba967eb820766939a658022c8</td>\n      <td>62d2b7ba91f34c0ac08aa11c359a8d2c</td>\n      <td>8b3ecc6c4da9bf7e321df2d89de60aa8</td>\n      <td>2021-02-10</td>\n      <td>1</td>\n    </tr>\n    <tr>\n      <th>2</th>\n      <td>e826ccfafd5740050ea08e599a8a306a</td>\n      <td>c559da2ba967eb820766939a658022c8</td>\n      <td>5ad2c993fa4f162c255867250267de48</td>\n      <td>8b3ecc6c4da9bf7e321df2d89de60aa8</td>\n      <td>2021-02-10</td>\n      <td>1</td>\n    </tr>\n    <tr>\n      <th>3</th>\n      <td>96c83767da951a6f320a5fdcb7eb9aa8</td>\n      <td>c559da2ba967eb820766939a658022c8</td>\n      <td>88591b4d3219675bdeb33584b755f680</td>\n      <td>8b3ecc6c4da9bf7e321df2d89de60aa8</td>\n      <td>2021-02-10</td>\n      <td>1</td>\n    </tr>\n    <tr>\n      <th>4</th>\n      <td>de6f3269f417738877b4b2211c9a039d</td>\n      <td>c559da2ba967eb820766939a658022c8</td>\n      <td>07b1c04a30f798b5506c1ec5acfb9031</td>\n      <td>8b3ecc6c4da9bf7e321df2d89de60aa8</td>\n      <td>2021-02-10</td>\n      <td>1</td>\n    </tr>\n  </tbody>\n</table>\n</div>"
     },
     "metadata": {},
     "execution_count": 13
    }
   ],
   "source": [
    "link_source_tables = [\n",
    "    {\"name\": \"Match\", \n",
    "     \"hk_columns\": [\"date\",\"home_team_api_id\",\"away_team_api_id\",\"league_id\"],\n",
    "     \"fks\": [\n",
    "        {\"name\": \"home_team\" , \"pk\": 'home_team_api_id', \"source_table\": \"Team\"},\n",
    "        {\"name\": \"away_team\" , \"pk\": 'away_team_api_id', \"source_table\": \"Team\"},\n",
    "        {\"name\": \"league\" , \"pk\": 'league_id', \"source_table\": \"HUB_League\"},\n",
    "        {\"name\": \"id\" , \"pk\": 'id', \"source_table\": \"Match\"},\n",
    "        {\"name\": \"date\" , \"pk\": 'date', \"source_table\": \"Match\"},\n",
    "    ]}, \n",
    "]\n",
    "links = {}\n",
    "for link_table in link_source_tables:\n",
    "    link_table_name = f\"LINK_{link_table['name']}\"\n",
    "    link = Link(link_table_name, link_table, db, connection_string)\n",
    "    links[link_table_name] = link\n",
    "\n",
    "# links\n",
    "links['LINK_Match'].df.head()"
   ]
  },
  {
   "cell_type": "code",
   "execution_count": 14,
   "metadata": {},
   "outputs": [],
   "source": [
    "# link_table = \"Match\"\n",
    "# link_table_name = f\"Link_{link_table}\"\n",
    "# link = Link(link_table_name, link_table, db, connection_string)\n",
    "# link.df"
   ]
  },
  {
   "cell_type": "code",
   "execution_count": null,
   "metadata": {},
   "outputs": [],
   "source": []
  },
  {
   "cell_type": "code",
   "execution_count": null,
   "metadata": {},
   "outputs": [],
   "source": []
  }
 ],
 "metadata": {
  "kernelspec": {
   "display_name": "Python 3",
   "language": "python",
   "name": "python3"
  },
  "language_info": {
   "codemirror_mode": {
    "name": "ipython",
    "version": 3
   },
   "file_extension": ".py",
   "mimetype": "text/x-python",
   "name": "python",
   "nbconvert_exporter": "python",
   "pygments_lexer": "ipython3",
   "version": "3.8.5-final"
  }
 },
 "nbformat": 4,
 "nbformat_minor": 4
}